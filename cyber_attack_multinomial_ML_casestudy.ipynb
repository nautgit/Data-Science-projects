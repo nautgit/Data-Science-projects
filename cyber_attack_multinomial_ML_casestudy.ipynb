{
 "cells": [
  {
   "cell_type": "code",
   "execution_count": 1,
   "metadata": {},
   "outputs": [
    {
     "data": {
      "text/plain": [
       "<Figure size 720x540 with 0 Axes>"
      ]
     },
     "metadata": {},
     "output_type": "display_data"
    }
   ],
   "source": [
    "import pandas as pd\n",
    "import numpy as np\n",
    "import seaborn as sns\n",
    "import matplotlib.pyplot as plt\n",
    "\n",
    "import statsmodels.formula.api as smf\n",
    "import scipy.stats as stats\n",
    "import pandas_profiling   #need to install using anaconda prompt (pip install pandas_profiling)\n",
    "\n",
    "%matplotlib inline\n",
    "plt.rcParams['figure.figsize'] = 10, 7.5\n",
    "plt.rcParams['axes.grid'] = True\n",
    "plt.gray()\n",
    "\n",
    "from matplotlib.backends.backend_pdf import PdfPages\n",
    "\n",
    "from sklearn.model_selection import train_test_split\n",
    "from sklearn import metrics\n",
    "from sklearn.linear_model import LogisticRegression\n",
    "from statsmodels.stats.outliers_influence import variance_inflation_factor"
   ]
  },
  {
   "cell_type": "code",
   "execution_count": 3,
   "metadata": {},
   "outputs": [],
   "source": [
    "atk_back = pd.read_csv('D:/python/Machine Learning/Modelling case studies/cyber_aatck_casestudy/Data_of_Attack_Back.csv')\n",
    "atk_bufov = pd.read_csv('D:/python/Machine Learning/Modelling case studies/cyber_aatck_casestudy/Data_of_Attack_Back_BufferOverflow.csv')\n",
    "atk_ftpw = pd.read_csv('D:/python/Machine Learning/Modelling case studies/cyber_aatck_casestudy/Data_of_Attack_Back_FTPWrite.csv')\n",
    "atk_guesspass = pd.read_csv('D:/python/Machine Learning/Modelling case studies/cyber_aatck_casestudy/Data_of_Attack_Back_GuessPassword.csv')\n",
    "atk_nept = pd.read_csv('D:/python/Machine Learning/Modelling case studies/cyber_aatck_casestudy/Data_of_Attack_Back_Neptune.csv')\n",
    "atk_nmap = pd.read_csv('D:/python/Machine Learning/Modelling case studies/cyber_aatck_casestudy/Data_of_Attack_Back_NMap.csv')\n",
    "atk_normal = pd.read_csv('D:/python/Machine Learning/Modelling case studies/cyber_aatck_casestudy/Data_of_Attack_Back_Normal.csv')\n",
    "atk_portsweep = pd.read_csv('D:/python/Machine Learning/Modelling case studies/cyber_aatck_casestudy/Data_of_Attack_Back_PortSweep.csv')\n",
    "atk_rootkit = pd.read_csv('D:/python/Machine Learning/Modelling case studies/cyber_aatck_casestudy/Data_of_Attack_Back_RootKit.csv')\n",
    "atk_satan = pd.read_csv('D:/python/Machine Learning/Modelling case studies/cyber_aatck_casestudy/Data_of_Attack_Back_Satan.csv')\n",
    "atk_smurf = pd.read_csv('D:/python/Machine Learning/Modelling case studies/cyber_aatck_casestudy/Data_of_Attack_Back_Smurf.csv')"
   ]
  },
  {
   "cell_type": "code",
   "execution_count": 14,
   "metadata": {},
   "outputs": [],
   "source": [
    "# In our dataset all the columns names are not proper so we are giving them correct format in the below code:-\n",
    "\n",
    "atk_smurf = atk_smurf.rename(columns={'duration':'duration', ' protocol_type':'protocol_type', ' service':'service', ' flag':'flag', ' src_bytes':'src_bytes', ' dst_bytes':'dst_bytes', ' land':'land', ' wrong_fragment':'wrong_fragment', ' urgent':'urgent', ' hot':'hot', ' num_failed_logins':'num_failed_logins', ' logged_in':'logged_in', ' num_compromised':'num_compromised', ' root_shell':'root_shell', ' su_attempted':'su_attempted', ' num_root':'num_root', ' num_file_creations':'num_file_creations',\n",
    "                        ' num_shells':'num_shells', ' num_access_files':'num_access_files', ' num_outbound_cmds':'num_outbound_cmds', ' is_host_login':'is_host_login', ' is_guest_login':'is_guest_login', ' count':'count', ' srv_count':'srv_count', ' serror_rate':'serror_rate', ' srv_error_rate':'srv_error_rate', ' rerror_rate':'rerror_rate', ' srv_rerror_rate':'srv_rerror_rate', ' same_srv_rate':'same_srv_rate', ' diff_srv_rate':'diff_srv_rate', ' srv_diff_host_rate':'srv_diff_host_rate',\n",
    "                        ' dst_host_count':'dst_host_count', ' dst_host_srv_count':'dst_host_srv_count', ' dst_host_same_srv_rate':'dst_host_same_srv_rate', ' dst_host_diff_srv_rate':'dst_host_diff_srv_rate', ' dst_host_same_src_port_rate':'dst_host_same_src_port_rate', ' dst_host_srv_diff_host_rate':'dst_host_srv_diff_host_rate', ' dst_host_serror_rate':'dst_host_serror_rate', ' dst_host_srv_serror_rate':'dst_host_srv_serror_rate', ' dst_host_rerror_rate':'dst_host_rerror_rate', ' dst_host_srv_rerror_rate':'dst_host_srv_rerror_rate'})"
   ]
  },
  {
   "cell_type": "code",
   "execution_count": 15,
   "metadata": {},
   "outputs": [],
   "source": [
    "atk_normal['attack'] = 0\n",
    "atk_back['attack'] = 1\n",
    "atk_bufov['attack'] = 2\n",
    "atk_ftpw['attack'] = 3\n",
    "atk_guesspass['attack'] = 4\n",
    "atk_nept['attack'] = 5\n",
    "atk_nmap['attack'] = 6\n",
    "atk_portsweep['attack'] = 7\n",
    "atk_rootkit['attack'] = 8\n",
    "atk_satan['attack'] = 9\n",
    "atk_smurf['attack'] = 10"
   ]
  },
  {
   "cell_type": "code",
   "execution_count": 16,
   "metadata": {},
   "outputs": [
    {
     "data": {
      "text/plain": [
       "Index(['0.0026', ' 0', ' 0.07', ' 0.1', ' 0.00116', ' 0.00451', ' 0.2', ' 0.3',\n",
       "       ' 0.4', ' 0.2.1', ' 0.5', ' 0.1.1', ' 0.6', ' 0.7', ' 0.8', ' 0.9',\n",
       "       ' 0.1.2', ' 0.10', ' 0.1.3', ' 0.11', ' 0.12', ' 0.1.4', ' 0.001',\n",
       "       ' 0.001.1', ' 0.13', ' 0.14', ' 0.15', ' 0.16', ' 0.1.5', ' 0.17',\n",
       "       ' 0.18', ' 0.001.2', ' 0.001.3', ' 0.1.6', ' 0.19', ' 0.1.7', ' 0.20',\n",
       "       ' 0.21', ' 0.22', ' 0.23', ' 0.24', 'attack'],\n",
       "      dtype='object')"
      ]
     },
     "execution_count": 16,
     "metadata": {},
     "output_type": "execute_result"
    }
   ],
   "source": [
    "atk_ftpw.columns"
   ]
  },
  {
   "cell_type": "code",
   "execution_count": 17,
   "metadata": {},
   "outputs": [],
   "source": [
    "atk_ftpw = atk_ftpw.rename(columns={'0.0026':'duration', ' 0':'protocol_type', ' 0.07':'service', ' 0.1':'flag', ' 0.00116':'src_bytes', ' 0.00451':'dst_bytes', ' 0.2':'land', ' 0.3':'wrong_fragment', ' 0.4':'urgent', ' 0.2.1':'hot', ' 0.5':'num_failed_logins', ' 0.1.1':'logged_in', ' 0.6':'num_compromised', ' 0.7':'root_shell', ' 0.8':'su_attempted', ' 0.9':'num_root', ' 0.1.2':'num_file_creations',\n",
    "                        ' 0.10':'num_shells', ' 0.1.3':'num_access_files', ' 0.11':'num_outbound_cmds', ' 0.12':'is_host_login', ' 0.1.4':'is_guest_login', ' 0.001':'count', ' 0.001.1':'srv_count', ' 0.13':'serror_rate', ' 0.14':'srv_error_rate', ' 0.15':'rerror_rate', ' 0.16':'srv_rerror_rate', ' 0.1.5':'same_srv_rate', ' 0.17':'diff_srv_rate', ' 0.18':'srv_diff_host_rate',\n",
    "                        ' 0.001.2':'dst_host_count', ' 0.001.3':'dst_host_srv_count', ' 0.1.6':'dst_host_same_srv_rate', ' 0.19':'dst_host_diff_srv_rate', ' 0.1.7':'dst_host_same_src_port_rate', ' 0.20':'dst_host_srv_diff_host_rate', ' 0.21':'dst_host_serror_rate', ' 0.22':'dst_host_srv_serror_rate', ' 0.23':'dst_host_rerror_rate', ' 0.24':'dst_host_srv_rerror_rate'})"
   ]
  },
  {
   "cell_type": "code",
   "execution_count": 31,
   "metadata": {},
   "outputs": [
    {
     "data": {
      "text/plain": [
       "(968, 42)"
      ]
     },
     "execution_count": 31,
     "metadata": {},
     "output_type": "execute_result"
    }
   ],
   "source": [
    "atk_back.shape"
   ]
  },
  {
   "cell_type": "code",
   "execution_count": 19,
   "metadata": {},
   "outputs": [
    {
     "data": {
      "text/plain": [
       "(30, 42)"
      ]
     },
     "execution_count": 19,
     "metadata": {},
     "output_type": "execute_result"
    }
   ],
   "source": [
    "atk_bufov.shape"
   ]
  },
  {
   "cell_type": "code",
   "execution_count": 21,
   "metadata": {},
   "outputs": [
    {
     "data": {
      "text/plain": [
       "(7, 42)"
      ]
     },
     "execution_count": 21,
     "metadata": {},
     "output_type": "execute_result"
    }
   ],
   "source": [
    "atk_ftpw.shape"
   ]
  },
  {
   "cell_type": "code",
   "execution_count": 22,
   "metadata": {},
   "outputs": [
    {
     "data": {
      "text/plain": [
       "(53, 42)"
      ]
     },
     "execution_count": 22,
     "metadata": {},
     "output_type": "execute_result"
    }
   ],
   "source": [
    "atk_guesspass.shape\n"
   ]
  },
  {
   "cell_type": "code",
   "execution_count": 23,
   "metadata": {},
   "outputs": [
    {
     "data": {
      "text/plain": [
       "(227228, 42)"
      ]
     },
     "execution_count": 23,
     "metadata": {},
     "output_type": "execute_result"
    }
   ],
   "source": [
    "atk_nept.shape"
   ]
  },
  {
   "cell_type": "code",
   "execution_count": 24,
   "metadata": {},
   "outputs": [
    {
     "data": {
      "text/plain": [
       "(1554, 42)"
      ]
     },
     "execution_count": 24,
     "metadata": {},
     "output_type": "execute_result"
    }
   ],
   "source": [
    "atk_nmap.shape"
   ]
  },
  {
   "cell_type": "code",
   "execution_count": 25,
   "metadata": {},
   "outputs": [
    {
     "data": {
      "text/plain": [
       "(576710, 42)"
      ]
     },
     "execution_count": 25,
     "metadata": {},
     "output_type": "execute_result"
    }
   ],
   "source": [
    "atk_normal.shape"
   ]
  },
  {
   "cell_type": "code",
   "execution_count": 26,
   "metadata": {},
   "outputs": [
    {
     "data": {
      "text/plain": [
       "(2964, 42)"
      ]
     },
     "execution_count": 26,
     "metadata": {},
     "output_type": "execute_result"
    }
   ],
   "source": [
    "atk_portsweep.shape"
   ]
  },
  {
   "cell_type": "code",
   "execution_count": 27,
   "metadata": {},
   "outputs": [
    {
     "data": {
      "text/plain": [
       "(10, 42)"
      ]
     },
     "execution_count": 27,
     "metadata": {},
     "output_type": "execute_result"
    }
   ],
   "source": [
    "atk_rootkit.shape"
   ]
  },
  {
   "cell_type": "code",
   "execution_count": 28,
   "metadata": {},
   "outputs": [
    {
     "data": {
      "text/plain": [
       "(5019, 42)"
      ]
     },
     "execution_count": 28,
     "metadata": {},
     "output_type": "execute_result"
    }
   ],
   "source": [
    "atk_satan.shape"
   ]
  },
  {
   "cell_type": "code",
   "execution_count": 29,
   "metadata": {},
   "outputs": [
    {
     "data": {
      "text/plain": [
       "(3007, 42)"
      ]
     },
     "execution_count": 29,
     "metadata": {},
     "output_type": "execute_result"
    }
   ],
   "source": [
    "atk_smurf.shape"
   ]
  },
  {
   "cell_type": "code",
   "execution_count": 32,
   "metadata": {},
   "outputs": [],
   "source": [
    "from sklearn.utils import resample"
   ]
  },
  {
   "cell_type": "code",
   "execution_count": 33,
   "metadata": {},
   "outputs": [],
   "source": [
    "# We are doing undersampling in this case as we have lot of rows:-\n",
    "atk_back = resample(atk_back , replace = True , n_samples = len(atk_satan) , random_state = 27)\n",
    "atk_bufov = resample(atk_bufov , replace = True , n_samples = len(atk_satan) , random_state = 27)\n",
    "atk_ftpw = resample(atk_ftpw , replace = True , n_samples = len(atk_satan) , random_state = 27)\n",
    "atk_guesspass = resample(atk_guesspass , replace = True , n_samples = len(atk_satan) , random_state = 27)\n",
    "atk_nept = resample(atk_nept , replace = True , n_samples = len(atk_satan) , random_state = 27)\n",
    "atk_nmap = resample(atk_nmap , replace = True , n_samples = len(atk_satan) , random_state = 27)\n",
    "atk_normal = resample(atk_normal , replace = True , n_samples = len(atk_satan) , random_state = 27)\n",
    "atk_portsweep = resample(atk_portsweep , replace = True , n_samples = len(atk_satan) , random_state = 27)\n",
    "atk_rootkit = resample(atk_rootkit , replace = True , n_samples = len(atk_satan) , random_state = 27)\n",
    "atk_smurf = resample(atk_smurf , replace = True , n_samples = len(atk_satan) , random_state = 27)"
   ]
  },
  {
   "cell_type": "code",
   "execution_count": 36,
   "metadata": {},
   "outputs": [],
   "source": [
    "# now we will concat atk_satan and all the resampled tables:-\n",
    "\n",
    "atk_sfinal = pd.concat([atk_back, atk_bufov, atk_ftpw, atk_guesspass, atk_nept, atk_nmap, atk_normal, atk_portsweep, atk_rootkit, atk_smurf, atk_satan] , axis=0).reset_index(drop = True)"
   ]
  },
  {
   "cell_type": "code",
   "execution_count": 39,
   "metadata": {},
   "outputs": [
    {
     "data": {
      "text/html": [
       "<div>\n",
       "<style scoped>\n",
       "    .dataframe tbody tr th:only-of-type {\n",
       "        vertical-align: middle;\n",
       "    }\n",
       "\n",
       "    .dataframe tbody tr th {\n",
       "        vertical-align: top;\n",
       "    }\n",
       "\n",
       "    .dataframe thead th {\n",
       "        text-align: right;\n",
       "    }\n",
       "</style>\n",
       "<table border=\"1\" class=\"dataframe\">\n",
       "  <thead>\n",
       "    <tr style=\"text-align: right;\">\n",
       "      <th></th>\n",
       "      <th>duration</th>\n",
       "      <th>protocol_type</th>\n",
       "      <th>service</th>\n",
       "      <th>flag</th>\n",
       "      <th>src_bytes</th>\n",
       "      <th>dst_bytes</th>\n",
       "      <th>land</th>\n",
       "      <th>wrong_fragment</th>\n",
       "      <th>urgent</th>\n",
       "      <th>hot</th>\n",
       "      <th>...</th>\n",
       "      <th>dst_host_srv_count</th>\n",
       "      <th>dst_host_same_srv_rate</th>\n",
       "      <th>dst_host_diff_srv_rate</th>\n",
       "      <th>dst_host_same_src_port_rate</th>\n",
       "      <th>dst_host_srv_diff_host_rate</th>\n",
       "      <th>dst_host_serror_rate</th>\n",
       "      <th>dst_host_srv_serror_rate</th>\n",
       "      <th>dst_host_rerror_rate</th>\n",
       "      <th>dst_host_srv_rerror_rate</th>\n",
       "      <th>attack</th>\n",
       "    </tr>\n",
       "  </thead>\n",
       "  <tbody>\n",
       "    <tr>\n",
       "      <th>0</th>\n",
       "      <td>0.0</td>\n",
       "      <td>0.00</td>\n",
       "      <td>0.00</td>\n",
       "      <td>0.0</td>\n",
       "      <td>0.54540</td>\n",
       "      <td>0.08314</td>\n",
       "      <td>0</td>\n",
       "      <td>0.0</td>\n",
       "      <td>0.0</td>\n",
       "      <td>0.2</td>\n",
       "      <td>...</td>\n",
       "      <td>0.020</td>\n",
       "      <td>0.100</td>\n",
       "      <td>0.000</td>\n",
       "      <td>0.005</td>\n",
       "      <td>0.0</td>\n",
       "      <td>0.000</td>\n",
       "      <td>0.0</td>\n",
       "      <td>0.010</td>\n",
       "      <td>0.010</td>\n",
       "      <td>1</td>\n",
       "    </tr>\n",
       "    <tr>\n",
       "      <th>1</th>\n",
       "      <td>0.0</td>\n",
       "      <td>0.00</td>\n",
       "      <td>0.00</td>\n",
       "      <td>0.0</td>\n",
       "      <td>0.54540</td>\n",
       "      <td>0.08314</td>\n",
       "      <td>0</td>\n",
       "      <td>0.0</td>\n",
       "      <td>0.0</td>\n",
       "      <td>0.2</td>\n",
       "      <td>...</td>\n",
       "      <td>0.255</td>\n",
       "      <td>0.100</td>\n",
       "      <td>0.000</td>\n",
       "      <td>0.000</td>\n",
       "      <td>0.0</td>\n",
       "      <td>0.000</td>\n",
       "      <td>0.0</td>\n",
       "      <td>0.005</td>\n",
       "      <td>0.005</td>\n",
       "      <td>1</td>\n",
       "    </tr>\n",
       "    <tr>\n",
       "      <th>2</th>\n",
       "      <td>0.0</td>\n",
       "      <td>0.00</td>\n",
       "      <td>0.00</td>\n",
       "      <td>0.0</td>\n",
       "      <td>0.54540</td>\n",
       "      <td>0.08314</td>\n",
       "      <td>0</td>\n",
       "      <td>0.0</td>\n",
       "      <td>0.0</td>\n",
       "      <td>0.2</td>\n",
       "      <td>...</td>\n",
       "      <td>0.071</td>\n",
       "      <td>0.100</td>\n",
       "      <td>0.000</td>\n",
       "      <td>0.001</td>\n",
       "      <td>0.0</td>\n",
       "      <td>0.000</td>\n",
       "      <td>0.0</td>\n",
       "      <td>0.020</td>\n",
       "      <td>0.020</td>\n",
       "      <td>1</td>\n",
       "    </tr>\n",
       "    <tr>\n",
       "      <th>3</th>\n",
       "      <td>0.0</td>\n",
       "      <td>0.00</td>\n",
       "      <td>0.00</td>\n",
       "      <td>0.0</td>\n",
       "      <td>0.54540</td>\n",
       "      <td>0.08314</td>\n",
       "      <td>0</td>\n",
       "      <td>0.0</td>\n",
       "      <td>0.0</td>\n",
       "      <td>0.2</td>\n",
       "      <td>...</td>\n",
       "      <td>0.133</td>\n",
       "      <td>0.100</td>\n",
       "      <td>0.000</td>\n",
       "      <td>0.001</td>\n",
       "      <td>0.0</td>\n",
       "      <td>0.000</td>\n",
       "      <td>0.0</td>\n",
       "      <td>0.002</td>\n",
       "      <td>0.002</td>\n",
       "      <td>1</td>\n",
       "    </tr>\n",
       "    <tr>\n",
       "      <th>4</th>\n",
       "      <td>0.0</td>\n",
       "      <td>0.00</td>\n",
       "      <td>0.00</td>\n",
       "      <td>0.0</td>\n",
       "      <td>0.54540</td>\n",
       "      <td>0.08314</td>\n",
       "      <td>0</td>\n",
       "      <td>0.0</td>\n",
       "      <td>0.0</td>\n",
       "      <td>0.2</td>\n",
       "      <td>...</td>\n",
       "      <td>0.055</td>\n",
       "      <td>0.100</td>\n",
       "      <td>0.000</td>\n",
       "      <td>0.002</td>\n",
       "      <td>0.0</td>\n",
       "      <td>0.000</td>\n",
       "      <td>0.0</td>\n",
       "      <td>0.022</td>\n",
       "      <td>0.022</td>\n",
       "      <td>1</td>\n",
       "    </tr>\n",
       "    <tr>\n",
       "      <th>...</th>\n",
       "      <td>...</td>\n",
       "      <td>...</td>\n",
       "      <td>...</td>\n",
       "      <td>...</td>\n",
       "      <td>...</td>\n",
       "      <td>...</td>\n",
       "      <td>...</td>\n",
       "      <td>...</td>\n",
       "      <td>...</td>\n",
       "      <td>...</td>\n",
       "      <td>...</td>\n",
       "      <td>...</td>\n",
       "      <td>...</td>\n",
       "      <td>...</td>\n",
       "      <td>...</td>\n",
       "      <td>...</td>\n",
       "      <td>...</td>\n",
       "      <td>...</td>\n",
       "      <td>...</td>\n",
       "      <td>...</td>\n",
       "      <td>...</td>\n",
       "    </tr>\n",
       "    <tr>\n",
       "      <th>55204</th>\n",
       "      <td>0.0</td>\n",
       "      <td>0.02</td>\n",
       "      <td>0.06</td>\n",
       "      <td>0.0</td>\n",
       "      <td>0.00020</td>\n",
       "      <td>0.00000</td>\n",
       "      <td>0</td>\n",
       "      <td>0.0</td>\n",
       "      <td>0.0</td>\n",
       "      <td>0.0</td>\n",
       "      <td>...</td>\n",
       "      <td>0.003</td>\n",
       "      <td>0.001</td>\n",
       "      <td>0.076</td>\n",
       "      <td>0.001</td>\n",
       "      <td>0.0</td>\n",
       "      <td>0.003</td>\n",
       "      <td>0.0</td>\n",
       "      <td>0.062</td>\n",
       "      <td>0.000</td>\n",
       "      <td>9</td>\n",
       "    </tr>\n",
       "    <tr>\n",
       "      <th>55205</th>\n",
       "      <td>0.0</td>\n",
       "      <td>0.02</td>\n",
       "      <td>0.06</td>\n",
       "      <td>0.0</td>\n",
       "      <td>0.00020</td>\n",
       "      <td>0.00000</td>\n",
       "      <td>0</td>\n",
       "      <td>0.0</td>\n",
       "      <td>0.0</td>\n",
       "      <td>0.0</td>\n",
       "      <td>...</td>\n",
       "      <td>0.004</td>\n",
       "      <td>0.002</td>\n",
       "      <td>0.076</td>\n",
       "      <td>0.002</td>\n",
       "      <td>0.0</td>\n",
       "      <td>0.003</td>\n",
       "      <td>0.0</td>\n",
       "      <td>0.062</td>\n",
       "      <td>0.000</td>\n",
       "      <td>9</td>\n",
       "    </tr>\n",
       "    <tr>\n",
       "      <th>55206</th>\n",
       "      <td>0.0</td>\n",
       "      <td>0.02</td>\n",
       "      <td>0.06</td>\n",
       "      <td>0.0</td>\n",
       "      <td>0.00020</td>\n",
       "      <td>0.00000</td>\n",
       "      <td>0</td>\n",
       "      <td>0.0</td>\n",
       "      <td>0.0</td>\n",
       "      <td>0.0</td>\n",
       "      <td>...</td>\n",
       "      <td>0.001</td>\n",
       "      <td>0.002</td>\n",
       "      <td>0.008</td>\n",
       "      <td>0.003</td>\n",
       "      <td>0.0</td>\n",
       "      <td>0.000</td>\n",
       "      <td>0.0</td>\n",
       "      <td>0.002</td>\n",
       "      <td>0.000</td>\n",
       "      <td>9</td>\n",
       "    </tr>\n",
       "    <tr>\n",
       "      <th>55207</th>\n",
       "      <td>0.0</td>\n",
       "      <td>0.02</td>\n",
       "      <td>0.06</td>\n",
       "      <td>0.0</td>\n",
       "      <td>0.00020</td>\n",
       "      <td>0.00000</td>\n",
       "      <td>0</td>\n",
       "      <td>0.0</td>\n",
       "      <td>0.0</td>\n",
       "      <td>0.0</td>\n",
       "      <td>...</td>\n",
       "      <td>0.002</td>\n",
       "      <td>0.003</td>\n",
       "      <td>0.008</td>\n",
       "      <td>0.005</td>\n",
       "      <td>0.0</td>\n",
       "      <td>0.000</td>\n",
       "      <td>0.0</td>\n",
       "      <td>0.002</td>\n",
       "      <td>0.000</td>\n",
       "      <td>9</td>\n",
       "    </tr>\n",
       "    <tr>\n",
       "      <th>55208</th>\n",
       "      <td>0.0</td>\n",
       "      <td>0.00</td>\n",
       "      <td>0.38</td>\n",
       "      <td>0.0</td>\n",
       "      <td>0.00044</td>\n",
       "      <td>0.00536</td>\n",
       "      <td>0</td>\n",
       "      <td>0.0</td>\n",
       "      <td>0.0</td>\n",
       "      <td>0.0</td>\n",
       "      <td>...</td>\n",
       "      <td>0.001</td>\n",
       "      <td>0.002</td>\n",
       "      <td>0.009</td>\n",
       "      <td>0.002</td>\n",
       "      <td>0.0</td>\n",
       "      <td>0.000</td>\n",
       "      <td>0.0</td>\n",
       "      <td>0.002</td>\n",
       "      <td>0.000</td>\n",
       "      <td>9</td>\n",
       "    </tr>\n",
       "  </tbody>\n",
       "</table>\n",
       "<p>55209 rows × 42 columns</p>\n",
       "</div>"
      ],
      "text/plain": [
       "       duration  protocol_type  service  flag  src_bytes  dst_bytes  land  \\\n",
       "0           0.0           0.00     0.00   0.0    0.54540    0.08314     0   \n",
       "1           0.0           0.00     0.00   0.0    0.54540    0.08314     0   \n",
       "2           0.0           0.00     0.00   0.0    0.54540    0.08314     0   \n",
       "3           0.0           0.00     0.00   0.0    0.54540    0.08314     0   \n",
       "4           0.0           0.00     0.00   0.0    0.54540    0.08314     0   \n",
       "...         ...            ...      ...   ...        ...        ...   ...   \n",
       "55204       0.0           0.02     0.06   0.0    0.00020    0.00000     0   \n",
       "55205       0.0           0.02     0.06   0.0    0.00020    0.00000     0   \n",
       "55206       0.0           0.02     0.06   0.0    0.00020    0.00000     0   \n",
       "55207       0.0           0.02     0.06   0.0    0.00020    0.00000     0   \n",
       "55208       0.0           0.00     0.38   0.0    0.00044    0.00536     0   \n",
       "\n",
       "       wrong_fragment  urgent  hot  ...  dst_host_srv_count  \\\n",
       "0                 0.0     0.0  0.2  ...               0.020   \n",
       "1                 0.0     0.0  0.2  ...               0.255   \n",
       "2                 0.0     0.0  0.2  ...               0.071   \n",
       "3                 0.0     0.0  0.2  ...               0.133   \n",
       "4                 0.0     0.0  0.2  ...               0.055   \n",
       "...               ...     ...  ...  ...                 ...   \n",
       "55204             0.0     0.0  0.0  ...               0.003   \n",
       "55205             0.0     0.0  0.0  ...               0.004   \n",
       "55206             0.0     0.0  0.0  ...               0.001   \n",
       "55207             0.0     0.0  0.0  ...               0.002   \n",
       "55208             0.0     0.0  0.0  ...               0.001   \n",
       "\n",
       "       dst_host_same_srv_rate  dst_host_diff_srv_rate  \\\n",
       "0                       0.100                   0.000   \n",
       "1                       0.100                   0.000   \n",
       "2                       0.100                   0.000   \n",
       "3                       0.100                   0.000   \n",
       "4                       0.100                   0.000   \n",
       "...                       ...                     ...   \n",
       "55204                   0.001                   0.076   \n",
       "55205                   0.002                   0.076   \n",
       "55206                   0.002                   0.008   \n",
       "55207                   0.003                   0.008   \n",
       "55208                   0.002                   0.009   \n",
       "\n",
       "       dst_host_same_src_port_rate  dst_host_srv_diff_host_rate  \\\n",
       "0                            0.005                          0.0   \n",
       "1                            0.000                          0.0   \n",
       "2                            0.001                          0.0   \n",
       "3                            0.001                          0.0   \n",
       "4                            0.002                          0.0   \n",
       "...                            ...                          ...   \n",
       "55204                        0.001                          0.0   \n",
       "55205                        0.002                          0.0   \n",
       "55206                        0.003                          0.0   \n",
       "55207                        0.005                          0.0   \n",
       "55208                        0.002                          0.0   \n",
       "\n",
       "       dst_host_serror_rate  dst_host_srv_serror_rate  dst_host_rerror_rate  \\\n",
       "0                     0.000                       0.0                 0.010   \n",
       "1                     0.000                       0.0                 0.005   \n",
       "2                     0.000                       0.0                 0.020   \n",
       "3                     0.000                       0.0                 0.002   \n",
       "4                     0.000                       0.0                 0.022   \n",
       "...                     ...                       ...                   ...   \n",
       "55204                 0.003                       0.0                 0.062   \n",
       "55205                 0.003                       0.0                 0.062   \n",
       "55206                 0.000                       0.0                 0.002   \n",
       "55207                 0.000                       0.0                 0.002   \n",
       "55208                 0.000                       0.0                 0.002   \n",
       "\n",
       "       dst_host_srv_rerror_rate  attack  \n",
       "0                         0.010       1  \n",
       "1                         0.005       1  \n",
       "2                         0.020       1  \n",
       "3                         0.002       1  \n",
       "4                         0.022       1  \n",
       "...                         ...     ...  \n",
       "55204                     0.000       9  \n",
       "55205                     0.000       9  \n",
       "55206                     0.000       9  \n",
       "55207                     0.000       9  \n",
       "55208                     0.000       9  \n",
       "\n",
       "[55209 rows x 42 columns]"
      ]
     },
     "execution_count": 39,
     "metadata": {},
     "output_type": "execute_result"
    }
   ],
   "source": [
    "atk_sfinal"
   ]
  },
  {
   "cell_type": "markdown",
   "metadata": {},
   "source": [
    "# PRE MODELING"
   ]
  },
  {
   "cell_type": "markdown",
   "metadata": {},
   "source": [
    "# MODELING"
   ]
  },
  {
   "cell_type": "markdown",
   "metadata": {},
   "source": [
    "### Data Preparation Level I"
   ]
  },
  {
   "cell_type": "markdown",
   "metadata": {},
   "source": [
    "##### Type Casting"
   ]
  },
  {
   "cell_type": "code",
   "execution_count": 40,
   "metadata": {},
   "outputs": [
    {
     "data": {
      "text/plain": [
       "duration                       float64\n",
       "protocol_type                  float64\n",
       "service                        float64\n",
       "flag                           float64\n",
       "src_bytes                      float64\n",
       "dst_bytes                      float64\n",
       "land                             int64\n",
       "wrong_fragment                 float64\n",
       "urgent                         float64\n",
       "hot                            float64\n",
       "num_failed_logins              float64\n",
       "logged_in                      float64\n",
       "num_compromised                float64\n",
       "root_shell                     float64\n",
       "su_attempted                   float64\n",
       "num_root                       float64\n",
       "num_file_creations             float64\n",
       "num_shells                     float64\n",
       "num_access_files               float64\n",
       "num_outbound_cmds                int64\n",
       "is_host_login                  float64\n",
       "is_guest_login                 float64\n",
       "count                          float64\n",
       "srv_count                      float64\n",
       "serror_rate                    float64\n",
       "srv_error_rate                 float64\n",
       "rerror_rate                    float64\n",
       "srv_rerror_rate                float64\n",
       "same_srv_rate                  float64\n",
       "diff_srv_rate                  float64\n",
       "srv_diff_host_rate             float64\n",
       "dst_host_count                 float64\n",
       "dst_host_srv_count             float64\n",
       "dst_host_same_srv_rate         float64\n",
       "dst_host_diff_srv_rate         float64\n",
       "dst_host_same_src_port_rate    float64\n",
       "dst_host_srv_diff_host_rate    float64\n",
       "dst_host_serror_rate           float64\n",
       "dst_host_srv_serror_rate       float64\n",
       "dst_host_rerror_rate           float64\n",
       "dst_host_srv_rerror_rate       float64\n",
       "attack                           int64\n",
       "dtype: object"
      ]
     },
     "execution_count": 40,
     "metadata": {},
     "output_type": "execute_result"
    }
   ],
   "source": [
    "atk_sfinal.dtypes"
   ]
  },
  {
   "cell_type": "code",
   "execution_count": 43,
   "metadata": {},
   "outputs": [],
   "source": [
    "atk_sfinal['protocol_type'] = atk_sfinal['protocol_type'].astype('object') "
   ]
  },
  {
   "cell_type": "code",
   "execution_count": 44,
   "metadata": {},
   "outputs": [],
   "source": [
    "atk_sfinal['service'] = atk_sfinal['service'].astype('object') "
   ]
  },
  {
   "cell_type": "code",
   "execution_count": 45,
   "metadata": {},
   "outputs": [],
   "source": [
    "atk_sfinal['flag'] = atk_sfinal['flag'].astype('object')"
   ]
  },
  {
   "cell_type": "code",
   "execution_count": 46,
   "metadata": {},
   "outputs": [
    {
     "data": {
      "text/plain": [
       "duration                       0\n",
       "protocol_type                  0\n",
       "service                        0\n",
       "flag                           0\n",
       "src_bytes                      0\n",
       "dst_bytes                      0\n",
       "land                           0\n",
       "wrong_fragment                 0\n",
       "urgent                         0\n",
       "hot                            0\n",
       "num_failed_logins              0\n",
       "logged_in                      0\n",
       "num_compromised                0\n",
       "root_shell                     0\n",
       "su_attempted                   0\n",
       "num_root                       0\n",
       "num_file_creations             0\n",
       "num_shells                     0\n",
       "num_access_files               0\n",
       "num_outbound_cmds              0\n",
       "is_host_login                  0\n",
       "is_guest_login                 0\n",
       "count                          0\n",
       "srv_count                      0\n",
       "serror_rate                    0\n",
       "srv_error_rate                 0\n",
       "rerror_rate                    0\n",
       "srv_rerror_rate                0\n",
       "same_srv_rate                  0\n",
       "diff_srv_rate                  0\n",
       "srv_diff_host_rate             0\n",
       "dst_host_count                 0\n",
       "dst_host_srv_count             0\n",
       "dst_host_same_srv_rate         0\n",
       "dst_host_diff_srv_rate         0\n",
       "dst_host_same_src_port_rate    0\n",
       "dst_host_srv_diff_host_rate    0\n",
       "dst_host_serror_rate           0\n",
       "dst_host_srv_serror_rate       0\n",
       "dst_host_rerror_rate           0\n",
       "dst_host_srv_rerror_rate       0\n",
       "attack                         0\n",
       "dtype: int64"
      ]
     },
     "execution_count": 46,
     "metadata": {},
     "output_type": "execute_result"
    }
   ],
   "source": [
    "# As we can see in this code that our dataset does not have any missing values.\n",
    "atk_sfinal.isna().sum()"
   ]
  },
  {
   "cell_type": "markdown",
   "metadata": {},
   "source": [
    "#### Split the data in numerical and categorical"
   ]
  },
  {
   "cell_type": "code",
   "execution_count": 47,
   "metadata": {},
   "outputs": [],
   "source": [
    "num_col = [key for key in dict(atk_sfinal.dtypes) if dict(atk_sfinal.dtypes)[key] in ['float64', 'int64', 'float32', 'int32']]\n",
    "cat_col = [key for key in dict(atk_sfinal.dtypes) if dict(atk_sfinal.dtypes)[key] in ['object']]"
   ]
  },
  {
   "cell_type": "code",
   "execution_count": 48,
   "metadata": {},
   "outputs": [],
   "source": [
    "atk_sfinal_num = atk_sfinal[num_col]"
   ]
  },
  {
   "cell_type": "code",
   "execution_count": 49,
   "metadata": {},
   "outputs": [],
   "source": [
    "atk_sfinal_cat = atk_sfinal[cat_col]"
   ]
  },
  {
   "cell_type": "code",
   "execution_count": 50,
   "metadata": {},
   "outputs": [],
   "source": [
    "atk_sfinal_Y = atk_sfinal['attack']"
   ]
  },
  {
   "cell_type": "code",
   "execution_count": 51,
   "metadata": {},
   "outputs": [],
   "source": [
    "# we'll remove the attack variable from numerical datframe\n",
    "del atk_sfinal_num['attack']"
   ]
  },
  {
   "cell_type": "markdown",
   "metadata": {},
   "source": [
    "#### Missing  Value and Outlier Treatment on the Numerical Columns"
   ]
  },
  {
   "cell_type": "code",
   "execution_count": 52,
   "metadata": {},
   "outputs": [],
   "source": [
    "def outliers(y):\n",
    "    y = y.clip(upper = y.quantile(0.95))\n",
    "    y = y.clip(lower = y.quantile(0.05))\n",
    "    return(y)"
   ]
  },
  {
   "cell_type": "code",
   "execution_count": 53,
   "metadata": {},
   "outputs": [
    {
     "data": {
      "text/plain": [
       "duration                       0\n",
       "src_bytes                      0\n",
       "dst_bytes                      0\n",
       "land                           0\n",
       "wrong_fragment                 0\n",
       "urgent                         0\n",
       "hot                            0\n",
       "num_failed_logins              0\n",
       "logged_in                      0\n",
       "num_compromised                0\n",
       "root_shell                     0\n",
       "su_attempted                   0\n",
       "num_root                       0\n",
       "num_file_creations             0\n",
       "num_shells                     0\n",
       "num_access_files               0\n",
       "num_outbound_cmds              0\n",
       "is_host_login                  0\n",
       "is_guest_login                 0\n",
       "count                          0\n",
       "srv_count                      0\n",
       "serror_rate                    0\n",
       "srv_error_rate                 0\n",
       "rerror_rate                    0\n",
       "srv_rerror_rate                0\n",
       "same_srv_rate                  0\n",
       "diff_srv_rate                  0\n",
       "srv_diff_host_rate             0\n",
       "dst_host_count                 0\n",
       "dst_host_srv_count             0\n",
       "dst_host_same_srv_rate         0\n",
       "dst_host_diff_srv_rate         0\n",
       "dst_host_same_src_port_rate    0\n",
       "dst_host_srv_diff_host_rate    0\n",
       "dst_host_serror_rate           0\n",
       "dst_host_srv_serror_rate       0\n",
       "dst_host_rerror_rate           0\n",
       "dst_host_srv_rerror_rate       0\n",
       "dtype: int64"
      ]
     },
     "execution_count": 53,
     "metadata": {},
     "output_type": "execute_result"
    }
   ],
   "source": [
    "# There are no missing value in this dataframe\n",
    "atk_sfinal_num.isna().sum()"
   ]
  },
  {
   "cell_type": "code",
   "execution_count": 54,
   "metadata": {},
   "outputs": [
    {
     "data": {
      "text/plain": [
       "<AxesSubplot:>"
      ]
     },
     "execution_count": 54,
     "metadata": {},
     "output_type": "execute_result"
    },
    {
     "data": {
      "image/png": "[encoded data removed]",
      "text/plain": [
       "<Figure size 720x540 with 1 Axes>"
      ]
     },
     "metadata": {
      "needs_background": "light"
     },
     "output_type": "display_data"
    }
   ],
   "source": [
    "atk_sfinal_num.plot(kind = 'box')"
   ]
  },
  {
   "cell_type": "code",
   "execution_count": 55,
   "metadata": {},
   "outputs": [],
   "source": [
    "atk_sfinal_num_cln = atk_sfinal_num.apply(outliers)"
   ]
  },
  {
   "cell_type": "code",
   "execution_count": 56,
   "metadata": {},
   "outputs": [
    {
     "data": {
      "text/plain": [
       "<AxesSubplot:>"
      ]
     },
     "execution_count": 56,
     "metadata": {},
     "output_type": "execute_result"
    },
    {
     "data": {
      "image/png": "[encoded data removed]",
      "text/plain": [
       "<Figure size 720x540 with 1 Axes>"
      ]
     },
     "metadata": {
      "needs_background": "light"
     },
     "output_type": "display_data"
    }
   ],
   "source": [
    "atk_sfinal_num_cln.plot(kind = 'box')"
   ]
  },
  {
   "cell_type": "markdown",
   "metadata": {},
   "source": [
    "#### Missing  Value on the Categorical Columns"
   ]
  },
  {
   "cell_type": "code",
   "execution_count": 57,
   "metadata": {},
   "outputs": [
    {
     "data": {
      "text/plain": [
       "protocol_type    0\n",
       "service          0\n",
       "flag             0\n",
       "dtype: int64"
      ]
     },
     "execution_count": 57,
     "metadata": {},
     "output_type": "execute_result"
    }
   ],
   "source": [
    "atk_sfinal_cat.isna().sum()"
   ]
  },
  {
   "cell_type": "code",
   "execution_count": 58,
   "metadata": {},
   "outputs": [
    {
     "data": {
      "text/plain": [
       "0"
      ]
     },
     "execution_count": 58,
     "metadata": {},
     "output_type": "execute_result"
    }
   ],
   "source": [
    "atk_sfinal_Y.isna().sum()"
   ]
  },
  {
   "cell_type": "code",
   "execution_count": 59,
   "metadata": {},
   "outputs": [],
   "source": [
    "atk_sfinal_cat_cln_w_dummies = pd.get_dummies(atk_sfinal_cat , drop_first=True)"
   ]
  },
  {
   "cell_type": "code",
   "execution_count": 60,
   "metadata": {},
   "outputs": [
    {
     "data": {
      "text/plain": [
       "(55209, 77)"
      ]
     },
     "execution_count": 60,
     "metadata": {},
     "output_type": "execute_result"
    }
   ],
   "source": [
    "atk_sfinal_cat_cln_w_dummies.shape"
   ]
  },
  {
   "cell_type": "code",
   "execution_count": 61,
   "metadata": {},
   "outputs": [
    {
     "data": {
      "text/plain": [
       "55209"
      ]
     },
     "execution_count": 61,
     "metadata": {},
     "output_type": "execute_result"
    }
   ],
   "source": [
    "len(atk_sfinal_Y)"
   ]
  },
  {
   "cell_type": "code",
   "execution_count": 62,
   "metadata": {},
   "outputs": [
    {
     "data": {
      "text/plain": [
       "(55209, 38)"
      ]
     },
     "execution_count": 62,
     "metadata": {},
     "output_type": "execute_result"
    }
   ],
   "source": [
    "atk_sfinal_num_cln.shape"
   ]
  },
  {
   "cell_type": "code",
   "execution_count": 63,
   "metadata": {},
   "outputs": [],
   "source": [
    "# Now we will concatinate all the Data frames to make one final dataframe to do our further operations.\n",
    "atk_sfinal_cleaned = pd.concat([atk_sfinal_cat_cln_w_dummies , atk_sfinal_num_cln , atk_sfinal_Y] , axis = 1)"
   ]
  },
  {
   "cell_type": "code",
   "execution_count": 64,
   "metadata": {},
   "outputs": [
    {
     "data": {
      "text/plain": [
       "(55209, 116)"
      ]
     },
     "execution_count": 64,
     "metadata": {},
     "output_type": "execute_result"
    }
   ],
   "source": [
    "atk_sfinal_cleaned.shape"
   ]
  },
  {
   "cell_type": "code",
   "execution_count": 66,
   "metadata": {},
   "outputs": [
    {
     "data": {
      "text/plain": [
       "protocol_type_0.01          0\n",
       "protocol_type_0.02          0\n",
       "service_0.01                0\n",
       "service_0.02                0\n",
       "service_0.03                0\n",
       "                           ..\n",
       "dst_host_serror_rate        0\n",
       "dst_host_srv_serror_rate    0\n",
       "dst_host_rerror_rate        0\n",
       "dst_host_srv_rerror_rate    0\n",
       "attack                      0\n",
       "Length: 116, dtype: int64"
      ]
     },
     "execution_count": 66,
     "metadata": {},
     "output_type": "execute_result"
    }
   ],
   "source": [
    "atk_sfinal_cleaned.isna().sum()"
   ]
  },
  {
   "cell_type": "markdown",
   "metadata": {},
   "source": [
    "##############################################################\n",
    "\n",
    "- Till this point our dataset is clean because:-\n",
    "    - No Missing\n",
    "    - No Outliers (Mild Outliers)\n",
    "    - No Variables with incorrect data type"
   ]
  },
  {
   "cell_type": "markdown",
   "metadata": {},
   "source": [
    "### RFE"
   ]
  },
  {
   "cell_type": "code",
   "execution_count": 67,
   "metadata": {},
   "outputs": [],
   "source": [
    "from sklearn.feature_selection import RFE"
   ]
  },
  {
   "cell_type": "code",
   "execution_count": 68,
   "metadata": {},
   "outputs": [],
   "source": [
    "from sklearn.linear_model import LinearRegression"
   ]
  },
  {
   "cell_type": "code",
   "execution_count": 69,
   "metadata": {},
   "outputs": [],
   "source": [
    "target = atk_sfinal_cleaned['attack']"
   ]
  },
  {
   "cell_type": "code",
   "execution_count": 70,
   "metadata": {},
   "outputs": [],
   "source": [
    "features = atk_sfinal_cleaned[atk_sfinal_cleaned.columns.difference(['attack'])]"
   ]
  },
  {
   "cell_type": "code",
   "execution_count": 71,
   "metadata": {},
   "outputs": [],
   "source": [
    "### Initlaize the Linear Regression Model\n",
    "\n",
    "lm = LinearRegression()"
   ]
  },
  {
   "cell_type": "code",
   "execution_count": 72,
   "metadata": {},
   "outputs": [],
   "source": [
    "### Initlalzing the RFE Model\n",
    "\n",
    "rfe = RFE(lm, n_features_to_select=20)"
   ]
  },
  {
   "cell_type": "code",
   "execution_count": 73,
   "metadata": {},
   "outputs": [],
   "source": [
    "## Fit the RFE Model\n",
    "\n",
    "rfe = rfe.fit(features, target)"
   ]
  },
  {
   "cell_type": "code",
   "execution_count": 74,
   "metadata": {},
   "outputs": [],
   "source": [
    "RFE_imp_vars = features.columns[rfe.get_support()]"
   ]
  },
  {
   "cell_type": "code",
   "execution_count": 76,
   "metadata": {},
   "outputs": [
    {
     "data": {
      "text/plain": [
       "['diff_srv_rate',\n",
       " 'dst_bytes',\n",
       " 'dst_host_same_srv_rate',\n",
       " 'dst_host_serror_rate',\n",
       " 'dst_host_srv_diff_host_rate',\n",
       " 'duration',\n",
       " 'is_guest_login',\n",
       " 'is_host_login',\n",
       " 'land',\n",
       " 'logged_in',\n",
       " 'num_access_files',\n",
       " 'num_compromised',\n",
       " 'num_outbound_cmds',\n",
       " 'num_root',\n",
       " 'protocol_type_0.02',\n",
       " 'rerror_rate',\n",
       " 'service_0.06',\n",
       " 'service_0.09',\n",
       " 'service_0.11',\n",
       " 'srv_diff_host_rate']"
      ]
     },
     "execution_count": 76,
     "metadata": {},
     "output_type": "execute_result"
    }
   ],
   "source": [
    "list(RFE_imp_vars)"
   ]
  },
  {
   "cell_type": "markdown",
   "metadata": {},
   "source": [
    "### K Best"
   ]
  },
  {
   "cell_type": "code",
   "execution_count": 77,
   "metadata": {},
   "outputs": [],
   "source": [
    "from sklearn.feature_selection import SelectKBest, f_classif, chi2"
   ]
  },
  {
   "cell_type": "code",
   "execution_count": 78,
   "metadata": {},
   "outputs": [],
   "source": [
    "## Initalize the K Best Model\n",
    "\n",
    "selector = SelectKBest(f_classif, k=20)"
   ]
  },
  {
   "cell_type": "code",
   "execution_count": 79,
   "metadata": {},
   "outputs": [
    {
     "name": "stderr",
     "output_type": "stream",
     "text": [
      "C:\\Users\\akhil\\anaconda3\\lib\\site-packages\\sklearn\\feature_selection\\_univariate_selection.py:114: UserWarning: Features [ 25  26  27  29  33  35 112 113 114] are constant.\n",
      "  warnings.warn(\"Features %s are constant.\" % constant_features_idx,\n",
      "C:\\Users\\akhil\\anaconda3\\lib\\site-packages\\sklearn\\feature_selection\\_univariate_selection.py:116: RuntimeWarning: invalid value encountered in true_divide\n",
      "  f = msb / msw\n"
     ]
    },
    {
     "data": {
      "text/plain": [
       "SelectKBest(k=20)"
      ]
     },
     "execution_count": 79,
     "metadata": {},
     "output_type": "execute_result"
    }
   ],
   "source": [
    "### Fit the model\n",
    "\n",
    "selector.fit(features, target)"
   ]
  },
  {
   "cell_type": "code",
   "execution_count": 80,
   "metadata": {},
   "outputs": [],
   "source": [
    "k_best_20 = features.columns[selector.get_support()]"
   ]
  },
  {
   "cell_type": "code",
   "execution_count": 82,
   "metadata": {},
   "outputs": [
    {
     "data": {
      "text/plain": [
       "['dst_bytes',\n",
       " 'dst_host_count',\n",
       " 'dst_host_rerror_rate',\n",
       " 'dst_host_same_srv_rate',\n",
       " 'dst_host_serror_rate',\n",
       " 'dst_host_srv_count',\n",
       " 'dst_host_srv_rerror_rate',\n",
       " 'flag_0.06',\n",
       " 'flag_0.07',\n",
       " 'hot',\n",
       " 'logged_in',\n",
       " 'num_failed_logins',\n",
       " 'protocol_type_0.02',\n",
       " 'rerror_rate',\n",
       " 'same_srv_rate',\n",
       " 'service_0.05',\n",
       " 'service_0.09',\n",
       " 'src_bytes',\n",
       " 'srv_count',\n",
       " 'srv_rerror_rate']"
      ]
     },
     "execution_count": 82,
     "metadata": {},
     "output_type": "execute_result"
    }
   ],
   "source": [
    "list(k_best_20)"
   ]
  },
  {
   "cell_type": "code",
   "execution_count": 83,
   "metadata": {},
   "outputs": [],
   "source": [
    "selected_vars = {'diff_srv_rate',\n",
    " 'dst_bytes',\n",
    " 'dst_host_same_srv_rate',\n",
    " 'dst_host_serror_rate',\n",
    " 'dst_host_srv_diff_host_rate',\n",
    " 'duration',\n",
    " 'is_guest_login',\n",
    " 'is_host_login',\n",
    " 'land',\n",
    " 'logged_in',\n",
    " 'num_access_files',\n",
    " 'num_compromised',\n",
    " 'num_outbound_cmds',\n",
    " 'num_root',\n",
    " 'protocol_type_0.02',\n",
    " 'rerror_rate',\n",
    " 'service_0.06',\n",
    " 'service_0.09',\n",
    " 'service_0.11',\n",
    " 'srv_diff_host_rate',\n",
    " 'dst_bytes',\n",
    " 'dst_host_count',\n",
    " 'dst_host_rerror_rate',\n",
    " 'dst_host_same_srv_rate',\n",
    " 'dst_host_serror_rate',\n",
    " 'dst_host_srv_count',\n",
    " 'dst_host_srv_rerror_rate',\n",
    " 'flag_0.06',\n",
    " 'flag_0.07',\n",
    " 'hot',\n",
    " 'logged_in',\n",
    " 'num_failed_logins',\n",
    " 'protocol_type_0.02',\n",
    " 'rerror_rate',\n",
    " 'same_srv_rate',\n",
    " 'service_0.05',\n",
    " 'service_0.09',\n",
    " 'src_bytes',\n",
    " 'srv_count',\n",
    " 'srv_rerror_rate'}"
   ]
  },
  {
   "cell_type": "code",
   "execution_count": 84,
   "metadata": {},
   "outputs": [],
   "source": [
    "selected_vars = list(selected_vars)"
   ]
  },
  {
   "cell_type": "code",
   "execution_count": 85,
   "metadata": {},
   "outputs": [],
   "source": [
    "features_reduced = features[selected_vars]"
   ]
  },
  {
   "cell_type": "code",
   "execution_count": 86,
   "metadata": {},
   "outputs": [
    {
     "data": {
      "text/plain": [
       "(55209, 33)"
      ]
     },
     "execution_count": 86,
     "metadata": {},
     "output_type": "execute_result"
    }
   ],
   "source": [
    "features_reduced.shape"
   ]
  },
  {
   "cell_type": "code",
   "execution_count": 87,
   "metadata": {},
   "outputs": [
    {
     "data": {
      "text/plain": [
       "Index(['diff_srv_rate', 'dst_host_same_srv_rate', 'duration', 'same_srv_rate',\n",
       "       'service_0.09', 'rerror_rate', 'src_bytes', 'is_guest_login',\n",
       "       'dst_host_count', 'land', 'num_root', 'dst_bytes', 'hot',\n",
       "       'service_0.06', 'dst_host_serror_rate', 'is_host_login',\n",
       "       'num_access_files', 'dst_host_rerror_rate', 'srv_count', 'logged_in',\n",
       "       'protocol_type_0.02', 'num_outbound_cmds', 'dst_host_srv_count',\n",
       "       'dst_host_srv_diff_host_rate', 'dst_host_srv_rerror_rate',\n",
       "       'num_compromised', 'flag_0.06', 'flag_0.07', 'service_0.05',\n",
       "       'srv_rerror_rate', 'srv_diff_host_rate', 'service_0.11',\n",
       "       'num_failed_logins'],\n",
       "      dtype='object')"
      ]
     },
     "execution_count": 87,
     "metadata": {},
     "output_type": "execute_result"
    }
   ],
   "source": [
    "features_reduced.columns"
   ]
  },
  {
   "cell_type": "markdown",
   "metadata": {},
   "source": [
    "### VIF"
   ]
  },
  {
   "cell_type": "code",
   "execution_count": 88,
   "metadata": {},
   "outputs": [],
   "source": [
    "from statsmodels.stats.outliers_influence import variance_inflation_factor\n",
    "from patsy import dmatrices"
   ]
  },
  {
   "cell_type": "code",
   "execution_count": 89,
   "metadata": {
    "scrolled": true
   },
   "outputs": [
    {
     "name": "stderr",
     "output_type": "stream",
     "text": [
      "C:\\Users\\akhil\\anaconda3\\lib\\site-packages\\statsmodels\\stats\\outliers_influence.py:193: RuntimeWarning: divide by zero encountered in double_scalars\n",
      "  vif = 1. / (1. - r_squared_i)\n",
      "C:\\Users\\akhil\\anaconda3\\lib\\site-packages\\statsmodels\\regression\\linear_model.py:1717: RuntimeWarning: invalid value encountered in double_scalars\n",
      "  return 1 - self.ssr/self.uncentered_tss\n"
     ]
    }
   ],
   "source": [
    "VIF = [variance_inflation_factor(features_reduced.values,i) for i in range(features_reduced.shape[1])]"
   ]
  },
  {
   "cell_type": "code",
   "execution_count": 90,
   "metadata": {},
   "outputs": [],
   "source": [
    "VIF = pd.Series(VIF, name = 'VIF')"
   ]
  },
  {
   "cell_type": "code",
   "execution_count": 91,
   "metadata": {},
   "outputs": [],
   "source": [
    "cols = pd.Series(features_reduced.columns, name='Column_Name')"
   ]
  },
  {
   "cell_type": "code",
   "execution_count": 92,
   "metadata": {},
   "outputs": [],
   "source": [
    "VIF_res = pd.concat([cols,VIF],axis=1)"
   ]
  },
  {
   "cell_type": "code",
   "execution_count": 93,
   "metadata": {},
   "outputs": [],
   "source": [
    "VIF_20 = VIF_res.sort_values(by=['VIF'], ascending = False).head(20)"
   ]
  },
  {
   "cell_type": "code",
   "execution_count": 94,
   "metadata": {},
   "outputs": [
    {
     "data": {
      "text/html": [
       "<div>\n",
       "<style scoped>\n",
       "    .dataframe tbody tr th:only-of-type {\n",
       "        vertical-align: middle;\n",
       "    }\n",
       "\n",
       "    .dataframe tbody tr th {\n",
       "        vertical-align: top;\n",
       "    }\n",
       "\n",
       "    .dataframe thead th {\n",
       "        text-align: right;\n",
       "    }\n",
       "</style>\n",
       "<table border=\"1\" class=\"dataframe\">\n",
       "  <thead>\n",
       "    <tr style=\"text-align: right;\">\n",
       "      <th></th>\n",
       "      <th>Column_Name</th>\n",
       "      <th>VIF</th>\n",
       "    </tr>\n",
       "  </thead>\n",
       "  <tbody>\n",
       "    <tr>\n",
       "      <th>31</th>\n",
       "      <td>service_0.11</td>\n",
       "      <td>inf</td>\n",
       "    </tr>\n",
       "    <tr>\n",
       "      <th>4</th>\n",
       "      <td>service_0.09</td>\n",
       "      <td>inf</td>\n",
       "    </tr>\n",
       "    <tr>\n",
       "      <th>20</th>\n",
       "      <td>protocol_type_0.02</td>\n",
       "      <td>inf</td>\n",
       "    </tr>\n",
       "    <tr>\n",
       "      <th>13</th>\n",
       "      <td>service_0.06</td>\n",
       "      <td>inf</td>\n",
       "    </tr>\n",
       "    <tr>\n",
       "      <th>29</th>\n",
       "      <td>srv_rerror_rate</td>\n",
       "      <td>45.289315</td>\n",
       "    </tr>\n",
       "    <tr>\n",
       "      <th>24</th>\n",
       "      <td>dst_host_srv_rerror_rate</td>\n",
       "      <td>34.231350</td>\n",
       "    </tr>\n",
       "    <tr>\n",
       "      <th>5</th>\n",
       "      <td>rerror_rate</td>\n",
       "      <td>31.094077</td>\n",
       "    </tr>\n",
       "    <tr>\n",
       "      <th>1</th>\n",
       "      <td>dst_host_same_srv_rate</td>\n",
       "      <td>18.477961</td>\n",
       "    </tr>\n",
       "    <tr>\n",
       "      <th>3</th>\n",
       "      <td>same_srv_rate</td>\n",
       "      <td>18.344371</td>\n",
       "    </tr>\n",
       "    <tr>\n",
       "      <th>8</th>\n",
       "      <td>dst_host_count</td>\n",
       "      <td>9.982882</td>\n",
       "    </tr>\n",
       "    <tr>\n",
       "      <th>19</th>\n",
       "      <td>logged_in</td>\n",
       "      <td>9.312586</td>\n",
       "    </tr>\n",
       "    <tr>\n",
       "      <th>17</th>\n",
       "      <td>dst_host_rerror_rate</td>\n",
       "      <td>9.222972</td>\n",
       "    </tr>\n",
       "    <tr>\n",
       "      <th>11</th>\n",
       "      <td>dst_bytes</td>\n",
       "      <td>8.817374</td>\n",
       "    </tr>\n",
       "    <tr>\n",
       "      <th>12</th>\n",
       "      <td>hot</td>\n",
       "      <td>8.143325</td>\n",
       "    </tr>\n",
       "    <tr>\n",
       "      <th>25</th>\n",
       "      <td>num_compromised</td>\n",
       "      <td>7.125253</td>\n",
       "    </tr>\n",
       "    <tr>\n",
       "      <th>32</th>\n",
       "      <td>num_failed_logins</td>\n",
       "      <td>7.059193</td>\n",
       "    </tr>\n",
       "    <tr>\n",
       "      <th>27</th>\n",
       "      <td>flag_0.07</td>\n",
       "      <td>6.919850</td>\n",
       "    </tr>\n",
       "    <tr>\n",
       "      <th>28</th>\n",
       "      <td>service_0.05</td>\n",
       "      <td>6.861339</td>\n",
       "    </tr>\n",
       "    <tr>\n",
       "      <th>22</th>\n",
       "      <td>dst_host_srv_count</td>\n",
       "      <td>6.101841</td>\n",
       "    </tr>\n",
       "    <tr>\n",
       "      <th>18</th>\n",
       "      <td>srv_count</td>\n",
       "      <td>6.073654</td>\n",
       "    </tr>\n",
       "  </tbody>\n",
       "</table>\n",
       "</div>"
      ],
      "text/plain": [
       "                 Column_Name        VIF\n",
       "31              service_0.11        inf\n",
       "4               service_0.09        inf\n",
       "20        protocol_type_0.02        inf\n",
       "13              service_0.06        inf\n",
       "29           srv_rerror_rate  45.289315\n",
       "24  dst_host_srv_rerror_rate  34.231350\n",
       "5                rerror_rate  31.094077\n",
       "1     dst_host_same_srv_rate  18.477961\n",
       "3              same_srv_rate  18.344371\n",
       "8             dst_host_count   9.982882\n",
       "19                 logged_in   9.312586\n",
       "17      dst_host_rerror_rate   9.222972\n",
       "11                 dst_bytes   8.817374\n",
       "12                       hot   8.143325\n",
       "25           num_compromised   7.125253\n",
       "32         num_failed_logins   7.059193\n",
       "27                 flag_0.07   6.919850\n",
       "28              service_0.05   6.861339\n",
       "22        dst_host_srv_count   6.101841\n",
       "18                 srv_count   6.073654"
      ]
     },
     "execution_count": 94,
     "metadata": {},
     "output_type": "execute_result"
    }
   ],
   "source": [
    "VIF_20"
   ]
  },
  {
   "cell_type": "code",
   "execution_count": 95,
   "metadata": {},
   "outputs": [
    {
     "name": "stderr",
     "output_type": "stream",
     "text": [
      "C:\\Users\\akhil\\anaconda3\\lib\\site-packages\\statsmodels\\regression\\linear_model.py:1717: RuntimeWarning: invalid value encountered in double_scalars\n",
      "  return 1 - self.ssr/self.uncentered_tss\n"
     ]
    },
    {
     "data": {
      "text/html": [
       "<div>\n",
       "<style scoped>\n",
       "    .dataframe tbody tr th:only-of-type {\n",
       "        vertical-align: middle;\n",
       "    }\n",
       "\n",
       "    .dataframe tbody tr th {\n",
       "        vertical-align: top;\n",
       "    }\n",
       "\n",
       "    .dataframe thead th {\n",
       "        text-align: right;\n",
       "    }\n",
       "</style>\n",
       "<table border=\"1\" class=\"dataframe\">\n",
       "  <thead>\n",
       "    <tr style=\"text-align: right;\">\n",
       "      <th></th>\n",
       "      <th>Column_Name</th>\n",
       "      <th>VIF</th>\n",
       "    </tr>\n",
       "  </thead>\n",
       "  <tbody>\n",
       "    <tr>\n",
       "      <th>22</th>\n",
       "      <td>protocol_type_0.02</td>\n",
       "      <td>1385.428178</td>\n",
       "    </tr>\n",
       "    <tr>\n",
       "      <th>27</th>\n",
       "      <td>service_0.09</td>\n",
       "      <td>847.976221</td>\n",
       "    </tr>\n",
       "    <tr>\n",
       "      <th>26</th>\n",
       "      <td>service_0.06</td>\n",
       "      <td>547.632485</td>\n",
       "    </tr>\n",
       "    <tr>\n",
       "      <th>31</th>\n",
       "      <td>srv_rerror_rate</td>\n",
       "      <td>45.297859</td>\n",
       "    </tr>\n",
       "    <tr>\n",
       "      <th>8</th>\n",
       "      <td>dst_host_srv_rerror_rate</td>\n",
       "      <td>34.232441</td>\n",
       "    </tr>\n",
       "    <tr>\n",
       "      <th>23</th>\n",
       "      <td>rerror_rate</td>\n",
       "      <td>31.094115</td>\n",
       "    </tr>\n",
       "    <tr>\n",
       "      <th>4</th>\n",
       "      <td>dst_host_same_srv_rate</td>\n",
       "      <td>18.492265</td>\n",
       "    </tr>\n",
       "    <tr>\n",
       "      <th>24</th>\n",
       "      <td>same_srv_rate</td>\n",
       "      <td>18.368758</td>\n",
       "    </tr>\n",
       "    <tr>\n",
       "      <th>2</th>\n",
       "      <td>dst_host_count</td>\n",
       "      <td>9.983693</td>\n",
       "    </tr>\n",
       "    <tr>\n",
       "      <th>16</th>\n",
       "      <td>logged_in</td>\n",
       "      <td>9.318316</td>\n",
       "    </tr>\n",
       "    <tr>\n",
       "      <th>3</th>\n",
       "      <td>dst_host_rerror_rate</td>\n",
       "      <td>9.223309</td>\n",
       "    </tr>\n",
       "    <tr>\n",
       "      <th>1</th>\n",
       "      <td>dst_bytes</td>\n",
       "      <td>8.836172</td>\n",
       "    </tr>\n",
       "    <tr>\n",
       "      <th>12</th>\n",
       "      <td>hot</td>\n",
       "      <td>8.178837</td>\n",
       "    </tr>\n",
       "    <tr>\n",
       "      <th>18</th>\n",
       "      <td>num_compromised</td>\n",
       "      <td>7.129038</td>\n",
       "    </tr>\n",
       "    <tr>\n",
       "      <th>19</th>\n",
       "      <td>num_failed_logins</td>\n",
       "      <td>7.059254</td>\n",
       "    </tr>\n",
       "    <tr>\n",
       "      <th>11</th>\n",
       "      <td>flag_0.07</td>\n",
       "      <td>6.920195</td>\n",
       "    </tr>\n",
       "    <tr>\n",
       "      <th>25</th>\n",
       "      <td>service_0.05</td>\n",
       "      <td>6.861355</td>\n",
       "    </tr>\n",
       "    <tr>\n",
       "      <th>6</th>\n",
       "      <td>dst_host_srv_count</td>\n",
       "      <td>6.102393</td>\n",
       "    </tr>\n",
       "    <tr>\n",
       "      <th>29</th>\n",
       "      <td>srv_count</td>\n",
       "      <td>6.073971</td>\n",
       "    </tr>\n",
       "    <tr>\n",
       "      <th>10</th>\n",
       "      <td>flag_0.06</td>\n",
       "      <td>5.543004</td>\n",
       "    </tr>\n",
       "  </tbody>\n",
       "</table>\n",
       "</div>"
      ],
      "text/plain": [
       "                 Column_Name          VIF\n",
       "22        protocol_type_0.02  1385.428178\n",
       "27              service_0.09   847.976221\n",
       "26              service_0.06   547.632485\n",
       "31           srv_rerror_rate    45.297859\n",
       "8   dst_host_srv_rerror_rate    34.232441\n",
       "23               rerror_rate    31.094115\n",
       "4     dst_host_same_srv_rate    18.492265\n",
       "24             same_srv_rate    18.368758\n",
       "2             dst_host_count     9.983693\n",
       "16                 logged_in     9.318316\n",
       "3       dst_host_rerror_rate     9.223309\n",
       "1                  dst_bytes     8.836172\n",
       "12                       hot     8.178837\n",
       "18           num_compromised     7.129038\n",
       "19         num_failed_logins     7.059254\n",
       "11                 flag_0.07     6.920195\n",
       "25              service_0.05     6.861355\n",
       "6         dst_host_srv_count     6.102393\n",
       "29                 srv_count     6.073971\n",
       "10                 flag_0.06     5.543004"
      ]
     },
     "execution_count": 95,
     "metadata": {},
     "output_type": "execute_result"
    }
   ],
   "source": [
    "features_reduced2 = features_reduced[features_reduced.columns.difference(['service_0.11'])]\n",
    "\n",
    "VIF = [variance_inflation_factor(features_reduced2.values,i) for i in range(features_reduced2.shape[1])]\n",
    "\n",
    "VIF = pd.Series(VIF, name = 'VIF')\n",
    "\n",
    "cols = pd.Series(features_reduced2.columns, name='Column_Name')\n",
    "\n",
    "VIF_res = pd.concat([cols,VIF],axis=1)\n",
    "\n",
    "VIF_20 = VIF_res.sort_values(by=['VIF'], ascending = False).head(20)\n",
    "\n",
    "VIF_20"
   ]
  },
  {
   "cell_type": "code",
   "execution_count": 97,
   "metadata": {},
   "outputs": [],
   "source": [
    "final_vars = pd.concat([features_reduced2 , atk_sfinal_cleaned['attack']] , axis=1) "
   ]
  },
  {
   "cell_type": "markdown",
   "metadata": {},
   "source": [
    "### Data Preparation Level 4 : Resampling Data --> train and test"
   ]
  },
  {
   "cell_type": "code",
   "execution_count": 111,
   "metadata": {},
   "outputs": [],
   "source": [
    "train,test = train_test_split(final_vars, test_size = 0.3, random_state = 123)"
   ]
  },
  {
   "cell_type": "code",
   "execution_count": 112,
   "metadata": {},
   "outputs": [],
   "source": [
    "X = final_vars[final_vars.columns.difference(['attack'])]\n",
    "y = final_vars.attack"
   ]
  },
  {
   "cell_type": "code",
   "execution_count": 113,
   "metadata": {
    "scrolled": true
   },
   "outputs": [],
   "source": [
    "train_X, test_X, train_y, test_y = train_test_split(X,y, test_size=0.3, random_state= 123)"
   ]
  },
  {
   "cell_type": "code",
   "execution_count": 114,
   "metadata": {},
   "outputs": [
    {
     "data": {
      "text/plain": [
       "(38646,)"
      ]
     },
     "execution_count": 114,
     "metadata": {},
     "output_type": "execute_result"
    }
   ],
   "source": [
    "train_y.shape"
   ]
  },
  {
   "cell_type": "code",
   "execution_count": 115,
   "metadata": {},
   "outputs": [
    {
     "data": {
      "text/plain": [
       "(16563,)"
      ]
     },
     "execution_count": 115,
     "metadata": {},
     "output_type": "execute_result"
    }
   ],
   "source": [
    "test_y.shape"
   ]
  },
  {
   "cell_type": "code",
   "execution_count": 116,
   "metadata": {},
   "outputs": [],
   "source": [
    "model = LogisticRegression()"
   ]
  },
  {
   "cell_type": "code",
   "execution_count": 117,
   "metadata": {},
   "outputs": [
    {
     "name": "stderr",
     "output_type": "stream",
     "text": [
      "C:\\Users\\akhil\\anaconda3\\lib\\site-packages\\sklearn\\linear_model\\_logistic.py:762: ConvergenceWarning: lbfgs failed to converge (status=1):\n",
      "STOP: TOTAL NO. of ITERATIONS REACHED LIMIT.\n",
      "\n",
      "Increase the number of iterations (max_iter) or scale the data as shown in:\n",
      "    https://scikit-learn.org/stable/modules/preprocessing.html\n",
      "Please also refer to the documentation for alternative solver options:\n",
      "    https://scikit-learn.org/stable/modules/linear_model.html#logistic-regression\n",
      "  n_iter_i = _check_optimize_result(\n"
     ]
    }
   ],
   "source": [
    "model = model.fit(train_X , train_y)"
   ]
  },
  {
   "cell_type": "code",
   "execution_count": 118,
   "metadata": {},
   "outputs": [],
   "source": [
    "pred_model = model.predict(train_X)"
   ]
  },
  {
   "cell_type": "code",
   "execution_count": 125,
   "metadata": {},
   "outputs": [
    {
     "name": "stdout",
     "output_type": "stream",
     "text": [
      "0.9146095326812607\n"
     ]
    }
   ],
   "source": [
    "train_auc = metrics.accuracy_score(train.attack, pred_model)\n",
    "print(train_auc)"
   ]
  },
  {
   "cell_type": "code",
   "execution_count": 126,
   "metadata": {},
   "outputs": [
    {
     "name": "stdout",
     "output_type": "stream",
     "text": [
      "0.9172251403731209\n"
     ]
    }
   ],
   "source": [
    "pred_model_test = model.predict(test_X)\n",
    "test_auc = metrics.accuracy_score(test.attack, pred_model_test)\n",
    "print(test_auc)\n"
   ]
  },
  {
   "cell_type": "code",
   "execution_count": 127,
   "metadata": {},
   "outputs": [],
   "source": [
    "#Calculating Gini (somerceD) for train & Test"
   ]
  },
  {
   "cell_type": "code",
   "execution_count": 128,
   "metadata": {},
   "outputs": [
    {
     "name": "stdout",
     "output_type": "stream",
     "text": [
      "0.8292190653625213\n",
      "0.8344502807462417\n"
     ]
    }
   ],
   "source": [
    "train_gini = 2*metrics.accuracy_score(train.attack, pred_model)-1\n",
    "print(train_gini)\n",
    "\n",
    "test_gini = 2*metrics.accuracy_score(test.attack, pred_model_test)-1\n",
    "print(test_gini)"
   ]
  },
  {
   "cell_type": "code",
   "execution_count": null,
   "metadata": {},
   "outputs": [],
   "source": []
  },
  {
   "cell_type": "code",
   "execution_count": null,
   "metadata": {},
   "outputs": [],
   "source": []
  },
  {
   "cell_type": "code",
   "execution_count": null,
   "metadata": {},
   "outputs": [],
   "source": []
  },
  {
   "cell_type": "code",
   "execution_count": null,
   "metadata": {},
   "outputs": [],
   "source": []
  },
  {
   "cell_type": "code",
   "execution_count": null,
   "metadata": {},
   "outputs": [],
   "source": []
  },
  {
   "cell_type": "code",
   "execution_count": null,
   "metadata": {},
   "outputs": [],
   "source": []
  },
  {
   "cell_type": "code",
   "execution_count": null,
   "metadata": {},
   "outputs": [],
   "source": []
  },
  {
   "cell_type": "code",
   "execution_count": null,
   "metadata": {},
   "outputs": [],
   "source": []
  },
  {
   "cell_type": "code",
   "execution_count": null,
   "metadata": {},
   "outputs": [],
   "source": []
  },
  {
   "cell_type": "code",
   "execution_count": null,
   "metadata": {},
   "outputs": [],
   "source": []
  },
  {
   "cell_type": "code",
   "execution_count": null,
   "metadata": {},
   "outputs": [],
   "source": []
  },
  {
   "cell_type": "code",
   "execution_count": null,
   "metadata": {},
   "outputs": [],
   "source": []
  },
  {
   "cell_type": "code",
   "execution_count": null,
   "metadata": {},
   "outputs": [],
   "source": []
  },
  {
   "cell_type": "code",
   "execution_count": null,
   "metadata": {},
   "outputs": [],
   "source": []
  },
  {
   "cell_type": "code",
   "execution_count": null,
   "metadata": {},
   "outputs": [],
   "source": []
  },
  {
   "cell_type": "code",
   "execution_count": null,
   "metadata": {},
   "outputs": [],
   "source": []
  },
  {
   "cell_type": "code",
   "execution_count": null,
   "metadata": {},
   "outputs": [],
   "source": []
  },
  {
   "cell_type": "code",
   "execution_count": null,
   "metadata": {},
   "outputs": [],
   "source": []
  },
  {
   "cell_type": "code",
   "execution_count": null,
   "metadata": {},
   "outputs": [],
   "source": []
  },
  {
   "cell_type": "code",
   "execution_count": null,
   "metadata": {},
   "outputs": [],
   "source": []
  },
  {
   "cell_type": "code",
   "execution_count": null,
   "metadata": {},
   "outputs": [],
   "source": []
  },
  {
   "cell_type": "code",
   "execution_count": null,
   "metadata": {},
   "outputs": [],
   "source": []
  },
  {
   "cell_type": "code",
   "execution_count": null,
   "metadata": {},
   "outputs": [],
   "source": []
  },
  {
   "cell_type": "code",
   "execution_count": null,
   "metadata": {},
   "outputs": [],
   "source": []
  },
  {
   "cell_type": "code",
   "execution_count": null,
   "metadata": {},
   "outputs": [],
   "source": []
  },
  {
   "cell_type": "code",
   "execution_count": null,
   "metadata": {},
   "outputs": [],
   "source": []
  },
  {
   "cell_type": "code",
   "execution_count": null,
   "metadata": {},
   "outputs": [],
   "source": []
  },
  {
   "cell_type": "code",
   "execution_count": null,
   "metadata": {},
   "outputs": [],
   "source": []
  },
  {
   "cell_type": "code",
   "execution_count": null,
   "metadata": {},
   "outputs": [],
   "source": []
  },
  {
   "cell_type": "code",
   "execution_count": null,
   "metadata": {},
   "outputs": [],
   "source": []
  },
  {
   "cell_type": "code",
   "execution_count": null,
   "metadata": {},
   "outputs": [],
   "source": []
  },
  {
   "cell_type": "code",
   "execution_count": null,
   "metadata": {},
   "outputs": [],
   "source": []
  },
  {
   "cell_type": "code",
   "execution_count": null,
   "metadata": {},
   "outputs": [],
   "source": []
  },
  {
   "cell_type": "code",
   "execution_count": null,
   "metadata": {},
   "outputs": [],
   "source": []
  },
  {
   "cell_type": "code",
   "execution_count": null,
   "metadata": {},
   "outputs": [],
   "source": []
  },
  {
   "cell_type": "code",
   "execution_count": null,
   "metadata": {},
   "outputs": [],
   "source": []
  },
  {
   "cell_type": "code",
   "execution_count": null,
   "metadata": {},
   "outputs": [],
   "source": []
  },
  {
   "cell_type": "code",
   "execution_count": null,
   "metadata": {},
   "outputs": [],
   "source": []
  },
  {
   "cell_type": "code",
   "execution_count": null,
   "metadata": {},
   "outputs": [],
   "source": []
  },
  {
   "cell_type": "code",
   "execution_count": null,
   "metadata": {},
   "outputs": [],
   "source": []
  },
  {
   "cell_type": "code",
   "execution_count": null,
   "metadata": {},
   "outputs": [],
   "source": []
  },
  {
   "cell_type": "code",
   "execution_count": null,
   "metadata": {},
   "outputs": [],
   "source": []
  },
  {
   "cell_type": "code",
   "execution_count": null,
   "metadata": {},
   "outputs": [],
   "source": []
  }
 ],
 "metadata": {
  "kernelspec": {
   "display_name": "Python 3",
   "language": "python",
   "name": "python3"
  },
  "language_info": {
   "codemirror_mode": {
    "name": "ipython",
    "version": 3
   },
   "file_extension": ".py",
   "mimetype": "text/x-python",
   "name": "python",
   "nbconvert_exporter": "python",
   "pygments_lexer": "ipython3",
   "version": "3.8.5"
  }
 },
 "nbformat": 4,
 "nbformat_minor": 4
}

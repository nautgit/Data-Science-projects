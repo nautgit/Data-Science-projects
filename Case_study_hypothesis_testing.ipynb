{
 "cells": [
  {
   "cell_type": "code",
   "execution_count": 1,
   "metadata": {},
   "outputs": [],
   "source": [
    "import pandas as pd\n",
    "import numpy as np\n",
    "import matplotlib.pyplot as plt\n",
    "import datetime as dt\n",
    "import seaborn as sns\n",
    "import re\n",
    "import scipy.stats as stats\n",
    "import math\n",
    "\n",
    "# set the graphs to show in the jupyter notebook\n",
    "%matplotlib inline\n",
    "\n",
    "# set seabor graphs to a better style\n",
    "sns.set(style=\"ticks\")"
   ]
  },
  {
   "cell_type": "markdown",
   "metadata": {},
   "source": [
    "### Business Problem - 1"
   ]
  },
  {
   "cell_type": "markdown",
   "metadata": {},
   "source": [
    "#### EDA"
   ]
  },
  {
   "cell_type": "code",
   "execution_count": 80,
   "metadata": {},
   "outputs": [],
   "source": [
    "loan_data = pd.read_csv('D:/python/proj_7/LoansData.csv')"
   ]
  },
  {
   "cell_type": "code",
   "execution_count": 81,
   "metadata": {},
   "outputs": [
    {
     "data": {
      "text/plain": [
       "Amount.Requested                  float64\n",
       "Amount.Funded.By.Investors        float64\n",
       "Interest.Rate                      object\n",
       "Loan.Length                        object\n",
       "Loan.Purpose                       object\n",
       "Debt.To.Income.Ratio               object\n",
       "State                              object\n",
       "Home.Ownership                     object\n",
       "Monthly.Income                    float64\n",
       "FICO.Range                         object\n",
       "Open.CREDIT.Lines                 float64\n",
       "Revolving.CREDIT.Balance          float64\n",
       "Inquiries.in.the.Last.6.Months    float64\n",
       "Employment.Length                  object\n",
       "dtype: object"
      ]
     },
     "execution_count": 81,
     "metadata": {},
     "output_type": "execute_result"
    }
   ],
   "source": [
    "loan_data.dtypes"
   ]
  },
  {
   "cell_type": "code",
   "execution_count": 82,
   "metadata": {},
   "outputs": [
    {
     "data": {
      "text/plain": [
       "36 months    1952\n",
       "60 months     548\n",
       "Name: Loan.Length, dtype: int64"
      ]
     },
     "execution_count": 82,
     "metadata": {},
     "output_type": "execute_result"
    }
   ],
   "source": [
    "loan_data['Loan.Length'].value_counts()"
   ]
  },
  {
   "cell_type": "code",
   "execution_count": 83,
   "metadata": {},
   "outputs": [
    {
     "data": {
      "text/html": [
       "<div>\n",
       "<style scoped>\n",
       "    .dataframe tbody tr th:only-of-type {\n",
       "        vertical-align: middle;\n",
       "    }\n",
       "\n",
       "    .dataframe tbody tr th {\n",
       "        vertical-align: top;\n",
       "    }\n",
       "\n",
       "    .dataframe thead th {\n",
       "        text-align: right;\n",
       "    }\n",
       "</style>\n",
       "<table border=\"1\" class=\"dataframe\">\n",
       "  <thead>\n",
       "    <tr style=\"text-align: right;\">\n",
       "      <th></th>\n",
       "      <th>Amount.Requested</th>\n",
       "      <th>Amount.Funded.By.Investors</th>\n",
       "      <th>Interest.Rate</th>\n",
       "      <th>Loan.Length</th>\n",
       "      <th>Loan.Purpose</th>\n",
       "      <th>Debt.To.Income.Ratio</th>\n",
       "      <th>State</th>\n",
       "      <th>Home.Ownership</th>\n",
       "      <th>Monthly.Income</th>\n",
       "      <th>FICO.Range</th>\n",
       "      <th>Open.CREDIT.Lines</th>\n",
       "      <th>Revolving.CREDIT.Balance</th>\n",
       "      <th>Inquiries.in.the.Last.6.Months</th>\n",
       "      <th>Employment.Length</th>\n",
       "    </tr>\n",
       "  </thead>\n",
       "  <tbody>\n",
       "    <tr>\n",
       "      <th>0</th>\n",
       "      <td>20000.0</td>\n",
       "      <td>20000.0</td>\n",
       "      <td>8.90%</td>\n",
       "      <td>36 months</td>\n",
       "      <td>debt_consolidation</td>\n",
       "      <td>14.90%</td>\n",
       "      <td>SC</td>\n",
       "      <td>MORTGAGE</td>\n",
       "      <td>6541.67</td>\n",
       "      <td>735-739</td>\n",
       "      <td>14.0</td>\n",
       "      <td>14272.0</td>\n",
       "      <td>2.0</td>\n",
       "      <td>&lt; 1 year</td>\n",
       "    </tr>\n",
       "    <tr>\n",
       "      <th>1</th>\n",
       "      <td>19200.0</td>\n",
       "      <td>19200.0</td>\n",
       "      <td>12.12%</td>\n",
       "      <td>36 months</td>\n",
       "      <td>debt_consolidation</td>\n",
       "      <td>28.36%</td>\n",
       "      <td>TX</td>\n",
       "      <td>MORTGAGE</td>\n",
       "      <td>4583.33</td>\n",
       "      <td>715-719</td>\n",
       "      <td>12.0</td>\n",
       "      <td>11140.0</td>\n",
       "      <td>1.0</td>\n",
       "      <td>2 years</td>\n",
       "    </tr>\n",
       "  </tbody>\n",
       "</table>\n",
       "</div>"
      ],
      "text/plain": [
       "   Amount.Requested  Amount.Funded.By.Investors Interest.Rate Loan.Length  \\\n",
       "0           20000.0                     20000.0         8.90%   36 months   \n",
       "1           19200.0                     19200.0        12.12%   36 months   \n",
       "\n",
       "         Loan.Purpose Debt.To.Income.Ratio State Home.Ownership  \\\n",
       "0  debt_consolidation               14.90%    SC       MORTGAGE   \n",
       "1  debt_consolidation               28.36%    TX       MORTGAGE   \n",
       "\n",
       "   Monthly.Income FICO.Range  Open.CREDIT.Lines  Revolving.CREDIT.Balance  \\\n",
       "0         6541.67    735-739               14.0                   14272.0   \n",
       "1         4583.33    715-719               12.0                   11140.0   \n",
       "\n",
       "   Inquiries.in.the.Last.6.Months Employment.Length  \n",
       "0                             2.0          < 1 year  \n",
       "1                             1.0           2 years  "
      ]
     },
     "execution_count": 83,
     "metadata": {},
     "output_type": "execute_result"
    }
   ],
   "source": [
    "loan_data.head(2)"
   ]
  },
  {
   "cell_type": "code",
   "execution_count": 84,
   "metadata": {},
   "outputs": [
    {
     "data": {
      "text/plain": [
       "debt_consolidation    1307\n",
       "credit_card            444\n",
       "other                  201\n",
       "home_improvement       152\n",
       "major_purchase         101\n",
       "small_business          87\n",
       "car                     50\n",
       "wedding                 39\n",
       "medical                 30\n",
       "moving                  29\n",
       "vacation                21\n",
       "house                   20\n",
       "educational             15\n",
       "renewable_energy         4\n",
       "Name: Loan.Purpose, dtype: int64"
      ]
     },
     "execution_count": 84,
     "metadata": {},
     "output_type": "execute_result"
    }
   ],
   "source": [
    "loan_data['Loan.Purpose'].value_counts()"
   ]
  },
  {
   "cell_type": "code",
   "execution_count": 85,
   "metadata": {},
   "outputs": [
    {
     "data": {
      "text/plain": [
       "(2500, 14)"
      ]
     },
     "execution_count": 85,
     "metadata": {},
     "output_type": "execute_result"
    }
   ],
   "source": [
    "loan_data.shape"
   ]
  },
  {
   "cell_type": "code",
   "execution_count": 86,
   "metadata": {},
   "outputs": [],
   "source": [
    "loan_data['Interest.Rate'] = loan_data['Interest.Rate'].str.replace('%','').astype('float')"
   ]
  },
  {
   "cell_type": "code",
   "execution_count": 87,
   "metadata": {
    "scrolled": true
   },
   "outputs": [],
   "source": [
    "loan_data['Interest.Rate'] = loan_data['Interest.Rate'].apply(lambda i:pd.Series(i/100))"
   ]
  },
  {
   "cell_type": "code",
   "execution_count": 88,
   "metadata": {},
   "outputs": [
    {
     "data": {
      "text/plain": [
       "0.130653883106485"
      ]
     },
     "execution_count": 88,
     "metadata": {},
     "output_type": "execute_result"
    }
   ],
   "source": [
    "loan_data['Interest.Rate'].mean()"
   ]
  },
  {
   "cell_type": "code",
   "execution_count": 89,
   "metadata": {},
   "outputs": [
    {
     "data": {
      "text/plain": [
       "2"
      ]
     },
     "execution_count": 89,
     "metadata": {},
     "output_type": "execute_result"
    }
   ],
   "source": [
    "loan_data['Interest.Rate'].isna().sum()"
   ]
  },
  {
   "cell_type": "code",
   "execution_count": 90,
   "metadata": {},
   "outputs": [
    {
     "data": {
      "text/plain": [
       "Amount.Requested                   1\n",
       "Amount.Funded.By.Investors         1\n",
       "Interest.Rate                      2\n",
       "Loan.Length                        0\n",
       "Loan.Purpose                       0\n",
       "Debt.To.Income.Ratio               1\n",
       "State                              0\n",
       "Home.Ownership                     1\n",
       "Monthly.Income                     1\n",
       "FICO.Range                         2\n",
       "Open.CREDIT.Lines                  3\n",
       "Revolving.CREDIT.Balance           3\n",
       "Inquiries.in.the.Last.6.Months     3\n",
       "Employment.Length                 77\n",
       "dtype: int64"
      ]
     },
     "execution_count": 90,
     "metadata": {},
     "output_type": "execute_result"
    }
   ],
   "source": [
    "loan_data.isna().sum()"
   ]
  },
  {
   "cell_type": "code",
   "execution_count": 91,
   "metadata": {},
   "outputs": [],
   "source": [
    "loan_data['Debt.To.Income.Ratio'] = loan_data['Debt.To.Income.Ratio'].str.replace('%','').astype('float')"
   ]
  },
  {
   "cell_type": "code",
   "execution_count": 92,
   "metadata": {},
   "outputs": [],
   "source": [
    "loan_data[['fico_low' , 'fico_high']] = loan_data['FICO.Range'].apply(lambda  i: pd.Series(str(i).split('-')))"
   ]
  },
  {
   "cell_type": "code",
   "execution_count": 93,
   "metadata": {},
   "outputs": [
    {
     "data": {
      "text/html": [
       "<div>\n",
       "<style scoped>\n",
       "    .dataframe tbody tr th:only-of-type {\n",
       "        vertical-align: middle;\n",
       "    }\n",
       "\n",
       "    .dataframe tbody tr th {\n",
       "        vertical-align: top;\n",
       "    }\n",
       "\n",
       "    .dataframe thead th {\n",
       "        text-align: right;\n",
       "    }\n",
       "</style>\n",
       "<table border=\"1\" class=\"dataframe\">\n",
       "  <thead>\n",
       "    <tr style=\"text-align: right;\">\n",
       "      <th></th>\n",
       "      <th>Amount.Requested</th>\n",
       "      <th>Amount.Funded.By.Investors</th>\n",
       "      <th>Interest.Rate</th>\n",
       "      <th>Loan.Length</th>\n",
       "      <th>Loan.Purpose</th>\n",
       "      <th>Debt.To.Income.Ratio</th>\n",
       "      <th>State</th>\n",
       "      <th>Home.Ownership</th>\n",
       "      <th>Monthly.Income</th>\n",
       "      <th>FICO.Range</th>\n",
       "      <th>Open.CREDIT.Lines</th>\n",
       "      <th>Revolving.CREDIT.Balance</th>\n",
       "      <th>Inquiries.in.the.Last.6.Months</th>\n",
       "      <th>Employment.Length</th>\n",
       "      <th>fico_low</th>\n",
       "      <th>fico_high</th>\n",
       "    </tr>\n",
       "  </thead>\n",
       "  <tbody>\n",
       "    <tr>\n",
       "      <th>0</th>\n",
       "      <td>20000.0</td>\n",
       "      <td>20000.0</td>\n",
       "      <td>0.0890</td>\n",
       "      <td>36 months</td>\n",
       "      <td>debt_consolidation</td>\n",
       "      <td>14.90</td>\n",
       "      <td>SC</td>\n",
       "      <td>MORTGAGE</td>\n",
       "      <td>6541.67</td>\n",
       "      <td>735-739</td>\n",
       "      <td>14.0</td>\n",
       "      <td>14272.0</td>\n",
       "      <td>2.0</td>\n",
       "      <td>&lt; 1 year</td>\n",
       "      <td>735</td>\n",
       "      <td>739</td>\n",
       "    </tr>\n",
       "    <tr>\n",
       "      <th>1</th>\n",
       "      <td>19200.0</td>\n",
       "      <td>19200.0</td>\n",
       "      <td>0.1212</td>\n",
       "      <td>36 months</td>\n",
       "      <td>debt_consolidation</td>\n",
       "      <td>28.36</td>\n",
       "      <td>TX</td>\n",
       "      <td>MORTGAGE</td>\n",
       "      <td>4583.33</td>\n",
       "      <td>715-719</td>\n",
       "      <td>12.0</td>\n",
       "      <td>11140.0</td>\n",
       "      <td>1.0</td>\n",
       "      <td>2 years</td>\n",
       "      <td>715</td>\n",
       "      <td>719</td>\n",
       "    </tr>\n",
       "    <tr>\n",
       "      <th>2</th>\n",
       "      <td>35000.0</td>\n",
       "      <td>35000.0</td>\n",
       "      <td>0.2198</td>\n",
       "      <td>60 months</td>\n",
       "      <td>debt_consolidation</td>\n",
       "      <td>23.81</td>\n",
       "      <td>CA</td>\n",
       "      <td>MORTGAGE</td>\n",
       "      <td>11500.00</td>\n",
       "      <td>690-694</td>\n",
       "      <td>14.0</td>\n",
       "      <td>21977.0</td>\n",
       "      <td>1.0</td>\n",
       "      <td>2 years</td>\n",
       "      <td>690</td>\n",
       "      <td>694</td>\n",
       "    </tr>\n",
       "  </tbody>\n",
       "</table>\n",
       "</div>"
      ],
      "text/plain": [
       "   Amount.Requested  Amount.Funded.By.Investors  Interest.Rate Loan.Length  \\\n",
       "0           20000.0                     20000.0         0.0890   36 months   \n",
       "1           19200.0                     19200.0         0.1212   36 months   \n",
       "2           35000.0                     35000.0         0.2198   60 months   \n",
       "\n",
       "         Loan.Purpose  Debt.To.Income.Ratio State Home.Ownership  \\\n",
       "0  debt_consolidation                 14.90    SC       MORTGAGE   \n",
       "1  debt_consolidation                 28.36    TX       MORTGAGE   \n",
       "2  debt_consolidation                 23.81    CA       MORTGAGE   \n",
       "\n",
       "   Monthly.Income FICO.Range  Open.CREDIT.Lines  Revolving.CREDIT.Balance  \\\n",
       "0         6541.67    735-739               14.0                   14272.0   \n",
       "1         4583.33    715-719               12.0                   11140.0   \n",
       "2        11500.00    690-694               14.0                   21977.0   \n",
       "\n",
       "   Inquiries.in.the.Last.6.Months Employment.Length fico_low fico_high  \n",
       "0                             2.0          < 1 year      735       739  \n",
       "1                             1.0           2 years      715       719  \n",
       "2                             1.0           2 years      690       694  "
      ]
     },
     "execution_count": 93,
     "metadata": {},
     "output_type": "execute_result"
    }
   ],
   "source": [
    "loan_data.head(3)"
   ]
  },
  {
   "cell_type": "code",
   "execution_count": 94,
   "metadata": {},
   "outputs": [],
   "source": [
    "loan_data['fico_low'] = loan_data['fico_low'].astype('float')"
   ]
  },
  {
   "cell_type": "code",
   "execution_count": 95,
   "metadata": {},
   "outputs": [],
   "source": [
    "loan_data['fico_high'] = loan_data['fico_high'].astype('float')"
   ]
  },
  {
   "cell_type": "code",
   "execution_count": 96,
   "metadata": {},
   "outputs": [],
   "source": [
    "loan_data['fico_avg'] = (loan_data['fico_low'] + loan_data['fico_high']) / 2"
   ]
  },
  {
   "cell_type": "code",
   "execution_count": 97,
   "metadata": {},
   "outputs": [
    {
     "data": {
      "text/html": [
       "<div>\n",
       "<style scoped>\n",
       "    .dataframe tbody tr th:only-of-type {\n",
       "        vertical-align: middle;\n",
       "    }\n",
       "\n",
       "    .dataframe tbody tr th {\n",
       "        vertical-align: top;\n",
       "    }\n",
       "\n",
       "    .dataframe thead th {\n",
       "        text-align: right;\n",
       "    }\n",
       "</style>\n",
       "<table border=\"1\" class=\"dataframe\">\n",
       "  <thead>\n",
       "    <tr style=\"text-align: right;\">\n",
       "      <th></th>\n",
       "      <th>Amount.Requested</th>\n",
       "      <th>Amount.Funded.By.Investors</th>\n",
       "      <th>Interest.Rate</th>\n",
       "      <th>Loan.Length</th>\n",
       "      <th>Loan.Purpose</th>\n",
       "      <th>Debt.To.Income.Ratio</th>\n",
       "      <th>State</th>\n",
       "      <th>Home.Ownership</th>\n",
       "      <th>Monthly.Income</th>\n",
       "      <th>FICO.Range</th>\n",
       "      <th>Open.CREDIT.Lines</th>\n",
       "      <th>Revolving.CREDIT.Balance</th>\n",
       "      <th>Inquiries.in.the.Last.6.Months</th>\n",
       "      <th>Employment.Length</th>\n",
       "      <th>fico_low</th>\n",
       "      <th>fico_high</th>\n",
       "      <th>fico_avg</th>\n",
       "    </tr>\n",
       "  </thead>\n",
       "  <tbody>\n",
       "    <tr>\n",
       "      <th>0</th>\n",
       "      <td>20000.0</td>\n",
       "      <td>20000.0</td>\n",
       "      <td>0.0890</td>\n",
       "      <td>36 months</td>\n",
       "      <td>debt_consolidation</td>\n",
       "      <td>14.90</td>\n",
       "      <td>SC</td>\n",
       "      <td>MORTGAGE</td>\n",
       "      <td>6541.67</td>\n",
       "      <td>735-739</td>\n",
       "      <td>14.0</td>\n",
       "      <td>14272.0</td>\n",
       "      <td>2.0</td>\n",
       "      <td>&lt; 1 year</td>\n",
       "      <td>735.0</td>\n",
       "      <td>739.0</td>\n",
       "      <td>737.0</td>\n",
       "    </tr>\n",
       "    <tr>\n",
       "      <th>1</th>\n",
       "      <td>19200.0</td>\n",
       "      <td>19200.0</td>\n",
       "      <td>0.1212</td>\n",
       "      <td>36 months</td>\n",
       "      <td>debt_consolidation</td>\n",
       "      <td>28.36</td>\n",
       "      <td>TX</td>\n",
       "      <td>MORTGAGE</td>\n",
       "      <td>4583.33</td>\n",
       "      <td>715-719</td>\n",
       "      <td>12.0</td>\n",
       "      <td>11140.0</td>\n",
       "      <td>1.0</td>\n",
       "      <td>2 years</td>\n",
       "      <td>715.0</td>\n",
       "      <td>719.0</td>\n",
       "      <td>717.0</td>\n",
       "    </tr>\n",
       "    <tr>\n",
       "      <th>2</th>\n",
       "      <td>35000.0</td>\n",
       "      <td>35000.0</td>\n",
       "      <td>0.2198</td>\n",
       "      <td>60 months</td>\n",
       "      <td>debt_consolidation</td>\n",
       "      <td>23.81</td>\n",
       "      <td>CA</td>\n",
       "      <td>MORTGAGE</td>\n",
       "      <td>11500.00</td>\n",
       "      <td>690-694</td>\n",
       "      <td>14.0</td>\n",
       "      <td>21977.0</td>\n",
       "      <td>1.0</td>\n",
       "      <td>2 years</td>\n",
       "      <td>690.0</td>\n",
       "      <td>694.0</td>\n",
       "      <td>692.0</td>\n",
       "    </tr>\n",
       "    <tr>\n",
       "      <th>3</th>\n",
       "      <td>10000.0</td>\n",
       "      <td>9975.0</td>\n",
       "      <td>0.0999</td>\n",
       "      <td>36 months</td>\n",
       "      <td>debt_consolidation</td>\n",
       "      <td>14.30</td>\n",
       "      <td>KS</td>\n",
       "      <td>MORTGAGE</td>\n",
       "      <td>3833.33</td>\n",
       "      <td>695-699</td>\n",
       "      <td>10.0</td>\n",
       "      <td>9346.0</td>\n",
       "      <td>0.0</td>\n",
       "      <td>5 years</td>\n",
       "      <td>695.0</td>\n",
       "      <td>699.0</td>\n",
       "      <td>697.0</td>\n",
       "    </tr>\n",
       "    <tr>\n",
       "      <th>4</th>\n",
       "      <td>12000.0</td>\n",
       "      <td>12000.0</td>\n",
       "      <td>0.1171</td>\n",
       "      <td>36 months</td>\n",
       "      <td>credit_card</td>\n",
       "      <td>18.78</td>\n",
       "      <td>NJ</td>\n",
       "      <td>RENT</td>\n",
       "      <td>3195.00</td>\n",
       "      <td>695-699</td>\n",
       "      <td>11.0</td>\n",
       "      <td>14469.0</td>\n",
       "      <td>0.0</td>\n",
       "      <td>9 years</td>\n",
       "      <td>695.0</td>\n",
       "      <td>699.0</td>\n",
       "      <td>697.0</td>\n",
       "    </tr>\n",
       "  </tbody>\n",
       "</table>\n",
       "</div>"
      ],
      "text/plain": [
       "   Amount.Requested  Amount.Funded.By.Investors  Interest.Rate Loan.Length  \\\n",
       "0           20000.0                     20000.0         0.0890   36 months   \n",
       "1           19200.0                     19200.0         0.1212   36 months   \n",
       "2           35000.0                     35000.0         0.2198   60 months   \n",
       "3           10000.0                      9975.0         0.0999   36 months   \n",
       "4           12000.0                     12000.0         0.1171   36 months   \n",
       "\n",
       "         Loan.Purpose  Debt.To.Income.Ratio State Home.Ownership  \\\n",
       "0  debt_consolidation                 14.90    SC       MORTGAGE   \n",
       "1  debt_consolidation                 28.36    TX       MORTGAGE   \n",
       "2  debt_consolidation                 23.81    CA       MORTGAGE   \n",
       "3  debt_consolidation                 14.30    KS       MORTGAGE   \n",
       "4         credit_card                 18.78    NJ           RENT   \n",
       "\n",
       "   Monthly.Income FICO.Range  Open.CREDIT.Lines  Revolving.CREDIT.Balance  \\\n",
       "0         6541.67    735-739               14.0                   14272.0   \n",
       "1         4583.33    715-719               12.0                   11140.0   \n",
       "2        11500.00    690-694               14.0                   21977.0   \n",
       "3         3833.33    695-699               10.0                    9346.0   \n",
       "4         3195.00    695-699               11.0                   14469.0   \n",
       "\n",
       "   Inquiries.in.the.Last.6.Months Employment.Length  fico_low  fico_high  \\\n",
       "0                             2.0          < 1 year     735.0      739.0   \n",
       "1                             1.0           2 years     715.0      719.0   \n",
       "2                             1.0           2 years     690.0      694.0   \n",
       "3                             0.0           5 years     695.0      699.0   \n",
       "4                             0.0           9 years     695.0      699.0   \n",
       "\n",
       "   fico_avg  \n",
       "0     737.0  \n",
       "1     717.0  \n",
       "2     692.0  \n",
       "3     697.0  \n",
       "4     697.0  "
      ]
     },
     "execution_count": 97,
     "metadata": {},
     "output_type": "execute_result"
    }
   ],
   "source": [
    "loan_data.head()"
   ]
  },
  {
   "cell_type": "code",
   "execution_count": 98,
   "metadata": {},
   "outputs": [],
   "source": [
    "loan_data['Inquiries.in.the.Last.6.Months'] = loan_data['Inquiries.in.the.Last.6.Months'].astype('str')"
   ]
  },
  {
   "cell_type": "markdown",
   "metadata": {},
   "source": [
    "### a) Interest rate is varied for different loan amounts?"
   ]
  },
  {
   "cell_type": "markdown",
   "metadata": {},
   "source": [
    "#### Dependent(paired) T test"
   ]
  },
  {
   "cell_type": "code",
   "execution_count": 99,
   "metadata": {},
   "outputs": [
    {
     "data": {
      "text/plain": [
       "Ttest_relResult(statistic=nan, pvalue=nan)"
      ]
     },
     "execution_count": 99,
     "metadata": {},
     "output_type": "execute_result"
    }
   ],
   "source": [
    "stats.ttest_rel(a=loan_data['Amount.Funded.By.Investors'] , b=loan_data['Interest.Rate'])"
   ]
  },
  {
   "cell_type": "code",
   "execution_count": 100,
   "metadata": {},
   "outputs": [
    {
     "data": {
      "text/plain": [
       "0.3374540043675973"
      ]
     },
     "execution_count": 100,
     "metadata": {},
     "output_type": "execute_result"
    }
   ],
   "source": [
    "loan_data.corr(method='pearson').iloc[2,1]"
   ]
  },
  {
   "cell_type": "code",
   "execution_count": 102,
   "metadata": {},
   "outputs": [
    {
     "data": {
      "text/html": [
       "<div>\n",
       "<style scoped>\n",
       "    .dataframe tbody tr th:only-of-type {\n",
       "        vertical-align: middle;\n",
       "    }\n",
       "\n",
       "    .dataframe tbody tr th {\n",
       "        vertical-align: top;\n",
       "    }\n",
       "\n",
       "    .dataframe thead th {\n",
       "        text-align: right;\n",
       "    }\n",
       "</style>\n",
       "<table border=\"1\" class=\"dataframe\">\n",
       "  <thead>\n",
       "    <tr style=\"text-align: right;\">\n",
       "      <th></th>\n",
       "      <th>Amount.Requested</th>\n",
       "      <th>Amount.Funded.By.Investors</th>\n",
       "      <th>Interest.Rate</th>\n",
       "      <th>Debt.To.Income.Ratio</th>\n",
       "      <th>Monthly.Income</th>\n",
       "      <th>Open.CREDIT.Lines</th>\n",
       "      <th>Revolving.CREDIT.Balance</th>\n",
       "      <th>fico_low</th>\n",
       "      <th>fico_high</th>\n",
       "      <th>fico_avg</th>\n",
       "    </tr>\n",
       "  </thead>\n",
       "  <tbody>\n",
       "    <tr>\n",
       "      <th>Amount.Requested</th>\n",
       "      <td>1.000000</td>\n",
       "      <td>0.969843</td>\n",
       "      <td>0.332454</td>\n",
       "      <td>0.081923</td>\n",
       "      <td>0.389527</td>\n",
       "      <td>0.195694</td>\n",
       "      <td>0.295064</td>\n",
       "      <td>0.083221</td>\n",
       "      <td>0.083221</td>\n",
       "      <td>0.083221</td>\n",
       "    </tr>\n",
       "    <tr>\n",
       "      <th>Amount.Funded.By.Investors</th>\n",
       "      <td>0.969843</td>\n",
       "      <td>1.000000</td>\n",
       "      <td>0.337454</td>\n",
       "      <td>0.094383</td>\n",
       "      <td>0.372339</td>\n",
       "      <td>0.185346</td>\n",
       "      <td>0.263499</td>\n",
       "      <td>0.074036</td>\n",
       "      <td>0.074036</td>\n",
       "      <td>0.074036</td>\n",
       "    </tr>\n",
       "    <tr>\n",
       "      <th>Interest.Rate</th>\n",
       "      <td>0.332454</td>\n",
       "      <td>0.337454</td>\n",
       "      <td>1.000000</td>\n",
       "      <td>0.173442</td>\n",
       "      <td>0.011968</td>\n",
       "      <td>0.090546</td>\n",
       "      <td>0.061746</td>\n",
       "      <td>-0.709035</td>\n",
       "      <td>-0.709035</td>\n",
       "      <td>-0.709035</td>\n",
       "    </tr>\n",
       "    <tr>\n",
       "      <th>Debt.To.Income.Ratio</th>\n",
       "      <td>0.081923</td>\n",
       "      <td>0.094383</td>\n",
       "      <td>0.173442</td>\n",
       "      <td>1.000000</td>\n",
       "      <td>-0.162906</td>\n",
       "      <td>0.370764</td>\n",
       "      <td>0.188644</td>\n",
       "      <td>-0.218322</td>\n",
       "      <td>-0.218322</td>\n",
       "      <td>-0.218322</td>\n",
       "    </tr>\n",
       "    <tr>\n",
       "      <th>Monthly.Income</th>\n",
       "      <td>0.389527</td>\n",
       "      <td>0.372339</td>\n",
       "      <td>0.011968</td>\n",
       "      <td>-0.162906</td>\n",
       "      <td>1.000000</td>\n",
       "      <td>0.171558</td>\n",
       "      <td>0.359896</td>\n",
       "      <td>0.121980</td>\n",
       "      <td>0.121980</td>\n",
       "      <td>0.121980</td>\n",
       "    </tr>\n",
       "    <tr>\n",
       "      <th>Open.CREDIT.Lines</th>\n",
       "      <td>0.195694</td>\n",
       "      <td>0.185346</td>\n",
       "      <td>0.090546</td>\n",
       "      <td>0.370764</td>\n",
       "      <td>0.171558</td>\n",
       "      <td>1.000000</td>\n",
       "      <td>0.289559</td>\n",
       "      <td>-0.088968</td>\n",
       "      <td>-0.088968</td>\n",
       "      <td>-0.088968</td>\n",
       "    </tr>\n",
       "    <tr>\n",
       "      <th>Revolving.CREDIT.Balance</th>\n",
       "      <td>0.295064</td>\n",
       "      <td>0.263499</td>\n",
       "      <td>0.061746</td>\n",
       "      <td>0.188644</td>\n",
       "      <td>0.359896</td>\n",
       "      <td>0.289559</td>\n",
       "      <td>1.000000</td>\n",
       "      <td>0.002484</td>\n",
       "      <td>0.002484</td>\n",
       "      <td>0.002484</td>\n",
       "    </tr>\n",
       "    <tr>\n",
       "      <th>fico_low</th>\n",
       "      <td>0.083221</td>\n",
       "      <td>0.074036</td>\n",
       "      <td>-0.709035</td>\n",
       "      <td>-0.218322</td>\n",
       "      <td>0.121980</td>\n",
       "      <td>-0.088968</td>\n",
       "      <td>0.002484</td>\n",
       "      <td>1.000000</td>\n",
       "      <td>1.000000</td>\n",
       "      <td>1.000000</td>\n",
       "    </tr>\n",
       "    <tr>\n",
       "      <th>fico_high</th>\n",
       "      <td>0.083221</td>\n",
       "      <td>0.074036</td>\n",
       "      <td>-0.709035</td>\n",
       "      <td>-0.218322</td>\n",
       "      <td>0.121980</td>\n",
       "      <td>-0.088968</td>\n",
       "      <td>0.002484</td>\n",
       "      <td>1.000000</td>\n",
       "      <td>1.000000</td>\n",
       "      <td>1.000000</td>\n",
       "    </tr>\n",
       "    <tr>\n",
       "      <th>fico_avg</th>\n",
       "      <td>0.083221</td>\n",
       "      <td>0.074036</td>\n",
       "      <td>-0.709035</td>\n",
       "      <td>-0.218322</td>\n",
       "      <td>0.121980</td>\n",
       "      <td>-0.088968</td>\n",
       "      <td>0.002484</td>\n",
       "      <td>1.000000</td>\n",
       "      <td>1.000000</td>\n",
       "      <td>1.000000</td>\n",
       "    </tr>\n",
       "  </tbody>\n",
       "</table>\n",
       "</div>"
      ],
      "text/plain": [
       "                            Amount.Requested  Amount.Funded.By.Investors  \\\n",
       "Amount.Requested                    1.000000                    0.969843   \n",
       "Amount.Funded.By.Investors          0.969843                    1.000000   \n",
       "Interest.Rate                       0.332454                    0.337454   \n",
       "Debt.To.Income.Ratio                0.081923                    0.094383   \n",
       "Monthly.Income                      0.389527                    0.372339   \n",
       "Open.CREDIT.Lines                   0.195694                    0.185346   \n",
       "Revolving.CREDIT.Balance            0.295064                    0.263499   \n",
       "fico_low                            0.083221                    0.074036   \n",
       "fico_high                           0.083221                    0.074036   \n",
       "fico_avg                            0.083221                    0.074036   \n",
       "\n",
       "                            Interest.Rate  Debt.To.Income.Ratio  \\\n",
       "Amount.Requested                 0.332454              0.081923   \n",
       "Amount.Funded.By.Investors       0.337454              0.094383   \n",
       "Interest.Rate                    1.000000              0.173442   \n",
       "Debt.To.Income.Ratio             0.173442              1.000000   \n",
       "Monthly.Income                   0.011968             -0.162906   \n",
       "Open.CREDIT.Lines                0.090546              0.370764   \n",
       "Revolving.CREDIT.Balance         0.061746              0.188644   \n",
       "fico_low                        -0.709035             -0.218322   \n",
       "fico_high                       -0.709035             -0.218322   \n",
       "fico_avg                        -0.709035             -0.218322   \n",
       "\n",
       "                            Monthly.Income  Open.CREDIT.Lines  \\\n",
       "Amount.Requested                  0.389527           0.195694   \n",
       "Amount.Funded.By.Investors        0.372339           0.185346   \n",
       "Interest.Rate                     0.011968           0.090546   \n",
       "Debt.To.Income.Ratio             -0.162906           0.370764   \n",
       "Monthly.Income                    1.000000           0.171558   \n",
       "Open.CREDIT.Lines                 0.171558           1.000000   \n",
       "Revolving.CREDIT.Balance          0.359896           0.289559   \n",
       "fico_low                          0.121980          -0.088968   \n",
       "fico_high                         0.121980          -0.088968   \n",
       "fico_avg                          0.121980          -0.088968   \n",
       "\n",
       "                            Revolving.CREDIT.Balance  fico_low  fico_high  \\\n",
       "Amount.Requested                            0.295064  0.083221   0.083221   \n",
       "Amount.Funded.By.Investors                  0.263499  0.074036   0.074036   \n",
       "Interest.Rate                               0.061746 -0.709035  -0.709035   \n",
       "Debt.To.Income.Ratio                        0.188644 -0.218322  -0.218322   \n",
       "Monthly.Income                              0.359896  0.121980   0.121980   \n",
       "Open.CREDIT.Lines                           0.289559 -0.088968  -0.088968   \n",
       "Revolving.CREDIT.Balance                    1.000000  0.002484   0.002484   \n",
       "fico_low                                    0.002484  1.000000   1.000000   \n",
       "fico_high                                   0.002484  1.000000   1.000000   \n",
       "fico_avg                                    0.002484  1.000000   1.000000   \n",
       "\n",
       "                            fico_avg  \n",
       "Amount.Requested            0.083221  \n",
       "Amount.Funded.By.Investors  0.074036  \n",
       "Interest.Rate              -0.709035  \n",
       "Debt.To.Income.Ratio       -0.218322  \n",
       "Monthly.Income              0.121980  \n",
       "Open.CREDIT.Lines          -0.088968  \n",
       "Revolving.CREDIT.Balance    0.002484  \n",
       "fico_low                    1.000000  \n",
       "fico_high                   1.000000  \n",
       "fico_avg                    1.000000  "
      ]
     },
     "execution_count": 102,
     "metadata": {},
     "output_type": "execute_result"
    }
   ],
   "source": [
    "loan_data.corr(method='pearson')"
   ]
  },
  {
   "cell_type": "markdown",
   "metadata": {},
   "source": [
    "- The above pearson correlation method is showing that there is not much relation between Interest rate and loan amount."
   ]
  },
  {
   "cell_type": "markdown",
   "metadata": {},
   "source": [
    "### b) Loan length is directly effecting interest rate?"
   ]
  },
  {
   "cell_type": "markdown",
   "metadata": {},
   "source": [
    "#### Independent(2 Sample) T test"
   ]
  },
  {
   "cell_type": "code",
   "execution_count": 145,
   "metadata": {},
   "outputs": [],
   "source": [
    "ll36 = loan_data.loc[loan_data['Loan.Length'] == '36 months' , 'Interest.Rate'].dropna()"
   ]
  },
  {
   "cell_type": "code",
   "execution_count": 146,
   "metadata": {},
   "outputs": [],
   "source": [
    "ll60 = loan_data.loc[loan_data['Loan.Length'] == '60 months' , 'Interest.Rate'].dropna()"
   ]
  },
  {
   "cell_type": "code",
   "execution_count": 147,
   "metadata": {},
   "outputs": [
    {
     "name": "stdout",
     "output_type": "stream",
     "text": [
      "The mean of loan lenght with 36 months 0.12\n",
      "The mean of loan lenght with 60 months 0.16\n"
     ]
    }
   ],
   "source": [
    "print('The mean of loan lenght with 36 months' , round(ll36.mean(),2))\n",
    "print('The mean of loan lenght with 60 months' , round(ll60.mean(),2))"
   ]
  },
  {
   "cell_type": "code",
   "execution_count": 148,
   "metadata": {},
   "outputs": [
    {
     "name": "stdout",
     "output_type": "stream",
     "text": [
      "The Std deviation of loan lenght with 36 months 0.04\n",
      "The Std deviation of loan lenght with 60 months 0.04\n"
     ]
    }
   ],
   "source": [
    "print('The Std deviation of loan lenght with 36 months' , round(ll36.std(),2))\n",
    "print('The Std deviation of loan lenght with 60 months' , round(ll60.std(),2))"
   ]
  },
  {
   "cell_type": "code",
   "execution_count": 151,
   "metadata": {},
   "outputs": [
    {
     "data": {
      "text/plain": [
       "Ttest_indResult(statistic=-23.404324256626747, pvalue=1.0952664487978044e-109)"
      ]
     },
     "execution_count": 151,
     "metadata": {},
     "output_type": "execute_result"
    }
   ],
   "source": [
    "stats.ttest_ind(a=ll36 , b=ll60 , equal_var=True)"
   ]
  },
  {
   "cell_type": "code",
   "execution_count": 108,
   "metadata": {},
   "outputs": [
    {
     "data": {
      "text/html": [
       "<div>\n",
       "<style scoped>\n",
       "    .dataframe tbody tr th:only-of-type {\n",
       "        vertical-align: middle;\n",
       "    }\n",
       "\n",
       "    .dataframe tbody tr th {\n",
       "        vertical-align: top;\n",
       "    }\n",
       "\n",
       "    .dataframe thead th {\n",
       "        text-align: right;\n",
       "    }\n",
       "</style>\n",
       "<table border=\"1\" class=\"dataframe\">\n",
       "  <thead>\n",
       "    <tr style=\"text-align: right;\">\n",
       "      <th></th>\n",
       "      <th>Amount.Requested</th>\n",
       "      <th>Amount.Funded.By.Investors</th>\n",
       "      <th>Interest.Rate</th>\n",
       "      <th>Debt.To.Income.Ratio</th>\n",
       "      <th>Monthly.Income</th>\n",
       "      <th>Open.CREDIT.Lines</th>\n",
       "      <th>Revolving.CREDIT.Balance</th>\n",
       "      <th>fico_low</th>\n",
       "      <th>fico_high</th>\n",
       "      <th>fico_avg</th>\n",
       "    </tr>\n",
       "  </thead>\n",
       "  <tbody>\n",
       "    <tr>\n",
       "      <th>Amount.Requested</th>\n",
       "      <td>1.000000</td>\n",
       "      <td>0.969843</td>\n",
       "      <td>0.332454</td>\n",
       "      <td>0.081923</td>\n",
       "      <td>0.389527</td>\n",
       "      <td>0.195694</td>\n",
       "      <td>0.295064</td>\n",
       "      <td>0.083221</td>\n",
       "      <td>0.083221</td>\n",
       "      <td>0.083221</td>\n",
       "    </tr>\n",
       "    <tr>\n",
       "      <th>Amount.Funded.By.Investors</th>\n",
       "      <td>0.969843</td>\n",
       "      <td>1.000000</td>\n",
       "      <td>0.337454</td>\n",
       "      <td>0.094383</td>\n",
       "      <td>0.372339</td>\n",
       "      <td>0.185346</td>\n",
       "      <td>0.263499</td>\n",
       "      <td>0.074036</td>\n",
       "      <td>0.074036</td>\n",
       "      <td>0.074036</td>\n",
       "    </tr>\n",
       "    <tr>\n",
       "      <th>Interest.Rate</th>\n",
       "      <td>0.332454</td>\n",
       "      <td>0.337454</td>\n",
       "      <td>1.000000</td>\n",
       "      <td>0.173442</td>\n",
       "      <td>0.011968</td>\n",
       "      <td>0.090546</td>\n",
       "      <td>0.061746</td>\n",
       "      <td>-0.709035</td>\n",
       "      <td>-0.709035</td>\n",
       "      <td>-0.709035</td>\n",
       "    </tr>\n",
       "    <tr>\n",
       "      <th>Debt.To.Income.Ratio</th>\n",
       "      <td>0.081923</td>\n",
       "      <td>0.094383</td>\n",
       "      <td>0.173442</td>\n",
       "      <td>1.000000</td>\n",
       "      <td>-0.162906</td>\n",
       "      <td>0.370764</td>\n",
       "      <td>0.188644</td>\n",
       "      <td>-0.218322</td>\n",
       "      <td>-0.218322</td>\n",
       "      <td>-0.218322</td>\n",
       "    </tr>\n",
       "    <tr>\n",
       "      <th>Monthly.Income</th>\n",
       "      <td>0.389527</td>\n",
       "      <td>0.372339</td>\n",
       "      <td>0.011968</td>\n",
       "      <td>-0.162906</td>\n",
       "      <td>1.000000</td>\n",
       "      <td>0.171558</td>\n",
       "      <td>0.359896</td>\n",
       "      <td>0.121980</td>\n",
       "      <td>0.121980</td>\n",
       "      <td>0.121980</td>\n",
       "    </tr>\n",
       "    <tr>\n",
       "      <th>Open.CREDIT.Lines</th>\n",
       "      <td>0.195694</td>\n",
       "      <td>0.185346</td>\n",
       "      <td>0.090546</td>\n",
       "      <td>0.370764</td>\n",
       "      <td>0.171558</td>\n",
       "      <td>1.000000</td>\n",
       "      <td>0.289559</td>\n",
       "      <td>-0.088968</td>\n",
       "      <td>-0.088968</td>\n",
       "      <td>-0.088968</td>\n",
       "    </tr>\n",
       "    <tr>\n",
       "      <th>Revolving.CREDIT.Balance</th>\n",
       "      <td>0.295064</td>\n",
       "      <td>0.263499</td>\n",
       "      <td>0.061746</td>\n",
       "      <td>0.188644</td>\n",
       "      <td>0.359896</td>\n",
       "      <td>0.289559</td>\n",
       "      <td>1.000000</td>\n",
       "      <td>0.002484</td>\n",
       "      <td>0.002484</td>\n",
       "      <td>0.002484</td>\n",
       "    </tr>\n",
       "    <tr>\n",
       "      <th>fico_low</th>\n",
       "      <td>0.083221</td>\n",
       "      <td>0.074036</td>\n",
       "      <td>-0.709035</td>\n",
       "      <td>-0.218322</td>\n",
       "      <td>0.121980</td>\n",
       "      <td>-0.088968</td>\n",
       "      <td>0.002484</td>\n",
       "      <td>1.000000</td>\n",
       "      <td>1.000000</td>\n",
       "      <td>1.000000</td>\n",
       "    </tr>\n",
       "    <tr>\n",
       "      <th>fico_high</th>\n",
       "      <td>0.083221</td>\n",
       "      <td>0.074036</td>\n",
       "      <td>-0.709035</td>\n",
       "      <td>-0.218322</td>\n",
       "      <td>0.121980</td>\n",
       "      <td>-0.088968</td>\n",
       "      <td>0.002484</td>\n",
       "      <td>1.000000</td>\n",
       "      <td>1.000000</td>\n",
       "      <td>1.000000</td>\n",
       "    </tr>\n",
       "    <tr>\n",
       "      <th>fico_avg</th>\n",
       "      <td>0.083221</td>\n",
       "      <td>0.074036</td>\n",
       "      <td>-0.709035</td>\n",
       "      <td>-0.218322</td>\n",
       "      <td>0.121980</td>\n",
       "      <td>-0.088968</td>\n",
       "      <td>0.002484</td>\n",
       "      <td>1.000000</td>\n",
       "      <td>1.000000</td>\n",
       "      <td>1.000000</td>\n",
       "    </tr>\n",
       "  </tbody>\n",
       "</table>\n",
       "</div>"
      ],
      "text/plain": [
       "                            Amount.Requested  Amount.Funded.By.Investors  \\\n",
       "Amount.Requested                    1.000000                    0.969843   \n",
       "Amount.Funded.By.Investors          0.969843                    1.000000   \n",
       "Interest.Rate                       0.332454                    0.337454   \n",
       "Debt.To.Income.Ratio                0.081923                    0.094383   \n",
       "Monthly.Income                      0.389527                    0.372339   \n",
       "Open.CREDIT.Lines                   0.195694                    0.185346   \n",
       "Revolving.CREDIT.Balance            0.295064                    0.263499   \n",
       "fico_low                            0.083221                    0.074036   \n",
       "fico_high                           0.083221                    0.074036   \n",
       "fico_avg                            0.083221                    0.074036   \n",
       "\n",
       "                            Interest.Rate  Debt.To.Income.Ratio  \\\n",
       "Amount.Requested                 0.332454              0.081923   \n",
       "Amount.Funded.By.Investors       0.337454              0.094383   \n",
       "Interest.Rate                    1.000000              0.173442   \n",
       "Debt.To.Income.Ratio             0.173442              1.000000   \n",
       "Monthly.Income                   0.011968             -0.162906   \n",
       "Open.CREDIT.Lines                0.090546              0.370764   \n",
       "Revolving.CREDIT.Balance         0.061746              0.188644   \n",
       "fico_low                        -0.709035             -0.218322   \n",
       "fico_high                       -0.709035             -0.218322   \n",
       "fico_avg                        -0.709035             -0.218322   \n",
       "\n",
       "                            Monthly.Income  Open.CREDIT.Lines  \\\n",
       "Amount.Requested                  0.389527           0.195694   \n",
       "Amount.Funded.By.Investors        0.372339           0.185346   \n",
       "Interest.Rate                     0.011968           0.090546   \n",
       "Debt.To.Income.Ratio             -0.162906           0.370764   \n",
       "Monthly.Income                    1.000000           0.171558   \n",
       "Open.CREDIT.Lines                 0.171558           1.000000   \n",
       "Revolving.CREDIT.Balance          0.359896           0.289559   \n",
       "fico_low                          0.121980          -0.088968   \n",
       "fico_high                         0.121980          -0.088968   \n",
       "fico_avg                          0.121980          -0.088968   \n",
       "\n",
       "                            Revolving.CREDIT.Balance  fico_low  fico_high  \\\n",
       "Amount.Requested                            0.295064  0.083221   0.083221   \n",
       "Amount.Funded.By.Investors                  0.263499  0.074036   0.074036   \n",
       "Interest.Rate                               0.061746 -0.709035  -0.709035   \n",
       "Debt.To.Income.Ratio                        0.188644 -0.218322  -0.218322   \n",
       "Monthly.Income                              0.359896  0.121980   0.121980   \n",
       "Open.CREDIT.Lines                           0.289559 -0.088968  -0.088968   \n",
       "Revolving.CREDIT.Balance                    1.000000  0.002484   0.002484   \n",
       "fico_low                                    0.002484  1.000000   1.000000   \n",
       "fico_high                                   0.002484  1.000000   1.000000   \n",
       "fico_avg                                    0.002484  1.000000   1.000000   \n",
       "\n",
       "                            fico_avg  \n",
       "Amount.Requested            0.083221  \n",
       "Amount.Funded.By.Investors  0.074036  \n",
       "Interest.Rate              -0.709035  \n",
       "Debt.To.Income.Ratio       -0.218322  \n",
       "Monthly.Income              0.121980  \n",
       "Open.CREDIT.Lines          -0.088968  \n",
       "Revolving.CREDIT.Balance    0.002484  \n",
       "fico_low                    1.000000  \n",
       "fico_high                   1.000000  \n",
       "fico_avg                    1.000000  "
      ]
     },
     "execution_count": 108,
     "metadata": {},
     "output_type": "execute_result"
    }
   ],
   "source": [
    "loan_data.corr(method='pearson')"
   ]
  },
  {
   "cell_type": "markdown",
   "metadata": {},
   "source": [
    "### c)"
   ]
  },
  {
   "cell_type": "code",
   "execution_count": 109,
   "metadata": {},
   "outputs": [
    {
     "data": {
      "text/html": [
       "<div>\n",
       "<style scoped>\n",
       "    .dataframe tbody tr th:only-of-type {\n",
       "        vertical-align: middle;\n",
       "    }\n",
       "\n",
       "    .dataframe tbody tr th {\n",
       "        vertical-align: top;\n",
       "    }\n",
       "\n",
       "    .dataframe thead th {\n",
       "        text-align: right;\n",
       "    }\n",
       "</style>\n",
       "<table border=\"1\" class=\"dataframe\">\n",
       "  <thead>\n",
       "    <tr style=\"text-align: right;\">\n",
       "      <th></th>\n",
       "      <th>Amount.Requested</th>\n",
       "      <th>Amount.Funded.By.Investors</th>\n",
       "      <th>Interest.Rate</th>\n",
       "      <th>Loan.Length</th>\n",
       "      <th>Loan.Purpose</th>\n",
       "      <th>Debt.To.Income.Ratio</th>\n",
       "      <th>State</th>\n",
       "      <th>Home.Ownership</th>\n",
       "      <th>Monthly.Income</th>\n",
       "      <th>FICO.Range</th>\n",
       "      <th>Open.CREDIT.Lines</th>\n",
       "      <th>Revolving.CREDIT.Balance</th>\n",
       "      <th>Inquiries.in.the.Last.6.Months</th>\n",
       "      <th>Employment.Length</th>\n",
       "      <th>fico_low</th>\n",
       "      <th>fico_high</th>\n",
       "      <th>fico_avg</th>\n",
       "    </tr>\n",
       "  </thead>\n",
       "  <tbody>\n",
       "    <tr>\n",
       "      <th>0</th>\n",
       "      <td>20000.0</td>\n",
       "      <td>20000.0</td>\n",
       "      <td>0.0890</td>\n",
       "      <td>36 months</td>\n",
       "      <td>debt_consolidation</td>\n",
       "      <td>14.90</td>\n",
       "      <td>SC</td>\n",
       "      <td>MORTGAGE</td>\n",
       "      <td>6541.67</td>\n",
       "      <td>735-739</td>\n",
       "      <td>14.0</td>\n",
       "      <td>14272.0</td>\n",
       "      <td>2.0</td>\n",
       "      <td>&lt; 1 year</td>\n",
       "      <td>735.0</td>\n",
       "      <td>739.0</td>\n",
       "      <td>737.0</td>\n",
       "    </tr>\n",
       "    <tr>\n",
       "      <th>1</th>\n",
       "      <td>19200.0</td>\n",
       "      <td>19200.0</td>\n",
       "      <td>0.1212</td>\n",
       "      <td>36 months</td>\n",
       "      <td>debt_consolidation</td>\n",
       "      <td>28.36</td>\n",
       "      <td>TX</td>\n",
       "      <td>MORTGAGE</td>\n",
       "      <td>4583.33</td>\n",
       "      <td>715-719</td>\n",
       "      <td>12.0</td>\n",
       "      <td>11140.0</td>\n",
       "      <td>1.0</td>\n",
       "      <td>2 years</td>\n",
       "      <td>715.0</td>\n",
       "      <td>719.0</td>\n",
       "      <td>717.0</td>\n",
       "    </tr>\n",
       "    <tr>\n",
       "      <th>2</th>\n",
       "      <td>35000.0</td>\n",
       "      <td>35000.0</td>\n",
       "      <td>0.2198</td>\n",
       "      <td>60 months</td>\n",
       "      <td>debt_consolidation</td>\n",
       "      <td>23.81</td>\n",
       "      <td>CA</td>\n",
       "      <td>MORTGAGE</td>\n",
       "      <td>11500.00</td>\n",
       "      <td>690-694</td>\n",
       "      <td>14.0</td>\n",
       "      <td>21977.0</td>\n",
       "      <td>1.0</td>\n",
       "      <td>2 years</td>\n",
       "      <td>690.0</td>\n",
       "      <td>694.0</td>\n",
       "      <td>692.0</td>\n",
       "    </tr>\n",
       "    <tr>\n",
       "      <th>3</th>\n",
       "      <td>10000.0</td>\n",
       "      <td>9975.0</td>\n",
       "      <td>0.0999</td>\n",
       "      <td>36 months</td>\n",
       "      <td>debt_consolidation</td>\n",
       "      <td>14.30</td>\n",
       "      <td>KS</td>\n",
       "      <td>MORTGAGE</td>\n",
       "      <td>3833.33</td>\n",
       "      <td>695-699</td>\n",
       "      <td>10.0</td>\n",
       "      <td>9346.0</td>\n",
       "      <td>0.0</td>\n",
       "      <td>5 years</td>\n",
       "      <td>695.0</td>\n",
       "      <td>699.0</td>\n",
       "      <td>697.0</td>\n",
       "    </tr>\n",
       "    <tr>\n",
       "      <th>4</th>\n",
       "      <td>12000.0</td>\n",
       "      <td>12000.0</td>\n",
       "      <td>0.1171</td>\n",
       "      <td>36 months</td>\n",
       "      <td>credit_card</td>\n",
       "      <td>18.78</td>\n",
       "      <td>NJ</td>\n",
       "      <td>RENT</td>\n",
       "      <td>3195.00</td>\n",
       "      <td>695-699</td>\n",
       "      <td>11.0</td>\n",
       "      <td>14469.0</td>\n",
       "      <td>0.0</td>\n",
       "      <td>9 years</td>\n",
       "      <td>695.0</td>\n",
       "      <td>699.0</td>\n",
       "      <td>697.0</td>\n",
       "    </tr>\n",
       "  </tbody>\n",
       "</table>\n",
       "</div>"
      ],
      "text/plain": [
       "   Amount.Requested  Amount.Funded.By.Investors  Interest.Rate Loan.Length  \\\n",
       "0           20000.0                     20000.0         0.0890   36 months   \n",
       "1           19200.0                     19200.0         0.1212   36 months   \n",
       "2           35000.0                     35000.0         0.2198   60 months   \n",
       "3           10000.0                      9975.0         0.0999   36 months   \n",
       "4           12000.0                     12000.0         0.1171   36 months   \n",
       "\n",
       "         Loan.Purpose  Debt.To.Income.Ratio State Home.Ownership  \\\n",
       "0  debt_consolidation                 14.90    SC       MORTGAGE   \n",
       "1  debt_consolidation                 28.36    TX       MORTGAGE   \n",
       "2  debt_consolidation                 23.81    CA       MORTGAGE   \n",
       "3  debt_consolidation                 14.30    KS       MORTGAGE   \n",
       "4         credit_card                 18.78    NJ           RENT   \n",
       "\n",
       "   Monthly.Income FICO.Range  Open.CREDIT.Lines  Revolving.CREDIT.Balance  \\\n",
       "0         6541.67    735-739               14.0                   14272.0   \n",
       "1         4583.33    715-719               12.0                   11140.0   \n",
       "2        11500.00    690-694               14.0                   21977.0   \n",
       "3         3833.33    695-699               10.0                    9346.0   \n",
       "4         3195.00    695-699               11.0                   14469.0   \n",
       "\n",
       "  Inquiries.in.the.Last.6.Months Employment.Length  fico_low  fico_high  \\\n",
       "0                            2.0          < 1 year     735.0      739.0   \n",
       "1                            1.0           2 years     715.0      719.0   \n",
       "2                            1.0           2 years     690.0      694.0   \n",
       "3                            0.0           5 years     695.0      699.0   \n",
       "4                            0.0           9 years     695.0      699.0   \n",
       "\n",
       "   fico_avg  \n",
       "0     737.0  \n",
       "1     717.0  \n",
       "2     692.0  \n",
       "3     697.0  \n",
       "4     697.0  "
      ]
     },
     "execution_count": 109,
     "metadata": {},
     "output_type": "execute_result"
    }
   ],
   "source": [
    "loan_data.head()"
   ]
  },
  {
   "cell_type": "code",
   "execution_count": 122,
   "metadata": {},
   "outputs": [
    {
     "data": {
      "text/plain": [
       "debt_consolidation    1307\n",
       "credit_card            444\n",
       "other                  201\n",
       "home_improvement       152\n",
       "major_purchase         101\n",
       "small_business          87\n",
       "car                     50\n",
       "wedding                 39\n",
       "medical                 30\n",
       "moving                  29\n",
       "vacation                21\n",
       "house                   20\n",
       "educational             15\n",
       "renewable_energy         4\n",
       "Name: Loan.Purpose, dtype: int64"
      ]
     },
     "execution_count": 122,
     "metadata": {},
     "output_type": "execute_result"
    }
   ],
   "source": [
    "loan_data['Loan.Purpose'].value_counts()"
   ]
  },
  {
   "cell_type": "code",
   "execution_count": 133,
   "metadata": {},
   "outputs": [],
   "source": [
    "dcir = loan_data.loc[loan_data['Loan.Purpose'] == 'debt_consolidation' , 'Interest.Rate'].dropna()\n",
    "ccir = loan_data.loc[loan_data['Loan.Purpose'] == 'credit_card' , 'Interest.Rate'].dropna()\n",
    "oir = loan_data.loc[loan_data['Loan.Purpose'] == 'other' , 'Interest.Rate'].dropna()\n",
    "hiir = loan_data.loc[loan_data['Loan.Purpose'] == 'home_improvement' , 'Interest.Rate'].dropna()\n",
    "mpir = loan_data.loc[loan_data['Loan.Purpose'] == 'major_purchase' , 'Interest.Rate'].dropna()\n",
    "sbir = loan_data.loc[loan_data['Loan.Purpose'] == 'small_business' , 'Interest.Rate'].dropna()\n",
    "cir = loan_data.loc[loan_data['Loan.Purpose'] == 'car' , 'Interest.Rate'].dropna()\n",
    "wir = loan_data.loc[loan_data['Loan.Purpose'] == 'wedding' , 'Interest.Rate'].dropna()\n",
    "mir = loan_data.loc[loan_data['Loan.Purpose'] == 'medical' , 'Interest.Rate'].dropna()\n",
    "moir = loan_data.loc[loan_data['Loan.Purpose'] == 'moving' , 'Interest.Rate'].dropna()\n",
    "vir = loan_data.loc[loan_data['Loan.Purpose'] == 'vacation' , 'Interest.Rate'].dropna()\n",
    "hir = loan_data.loc[loan_data['Loan.Purpose'] == 'house' , 'Interest.Rate'].dropna()\n",
    "eir = loan_data.loc[loan_data['Loan.Purpose'] == 'educational' , 'Interest.Rate'].dropna()\n",
    "reir = loan_data.loc[loan_data['Loan.Purpose'] == 'renewable_energy' , 'Interest.Rate'].dropna()"
   ]
  },
  {
   "cell_type": "code",
   "execution_count": 134,
   "metadata": {},
   "outputs": [
    {
     "name": "stdout",
     "output_type": "stream",
     "text": [
      "Mean for debt_consolidation 0.14\n",
      "Mean for credit_card 0.13\n",
      "Mean for other 0.13\n",
      "Mean for home_improvement 0.12\n",
      "Mean for major_purchase 0.11\n",
      "Mean for small_business 0.13\n",
      "Mean for car 0.11\n",
      "Mean for wedding 0.12\n",
      "Mean for medical 0.12\n",
      "Mean for moving 0.14\n",
      "Mean for vacation 0.12\n",
      "Mean for house 0.13\n",
      "Mean for educational 0.11\n",
      "Mean for renewable_energy 0.1\n"
     ]
    }
   ],
   "source": [
    "print('Mean for debt_consolidation',round(dcir.mean(),2))\n",
    "print('Mean for credit_card',round(ccir.mean(),2))\n",
    "print('Mean for other',round(oir.mean(),2))\n",
    "print('Mean for home_improvement',round(hiir.mean(),2))\n",
    "print('Mean for major_purchase',round(mpir.mean(),2))\n",
    "print('Mean for small_business',round(sbir.mean(),2))\n",
    "print('Mean for car',round(cir.mean(),2))\n",
    "print('Mean for wedding',round(wir.mean(),2))\n",
    "print('Mean for medical',round(mir.mean(),2))\n",
    "print('Mean for moving',round(moir.mean(),2))\n",
    "print('Mean for vacation',round(vir.mean(),2))\n",
    "print('Mean for house',round(hir.mean(),2))\n",
    "print('Mean for educational',round(eir.mean(),2))\n",
    "print('Mean for renewable_energy',round(reir.mean(),2))"
   ]
  },
  {
   "cell_type": "code",
   "execution_count": 135,
   "metadata": {},
   "outputs": [
    {
     "data": {
      "text/plain": [
       "F_onewayResult(statistic=7.481404351302257, pvalue=1.1686298123677374e-14)"
      ]
     },
     "execution_count": 135,
     "metadata": {},
     "output_type": "execute_result"
    }
   ],
   "source": [
    "stats.f_oneway(dcir , ccir , oir , hiir , mpir , sbir , cir , wir , mir , moir , vir , hir , eir , reir)"
   ]
  },
  {
   "cell_type": "markdown",
   "metadata": {},
   "source": [
    "- f val: 7.48\n",
    "\n",
    "- Significance Level: 0.05 (5%)\n",
    "- P value: 1.1686298123677374e-14 (very low)\n",
    "- p val < signi value\n",
    "- Accepting the Ha\n",
    "- HO: 0.14 != 0.13 != 0.13 != 0.12 != 0.11 != 0.13 != 0.11 != 0.12 != 0.12 != 0.14 != 0.12 != 0.13 != 0.11 != 0.1\n",
    "<br>\n",
    "\n",
    "- **Analysis** : There is a statistically significant difference between purpose of loans."
   ]
  },
  {
   "cell_type": "markdown",
   "metadata": {},
   "source": [
    "### d)"
   ]
  },
  {
   "cell_type": "code",
   "execution_count": 153,
   "metadata": {},
   "outputs": [
    {
     "data": {
      "text/plain": [
       "MORTGAGE    1147\n",
       "RENT        1146\n",
       "OWN          200\n",
       "OTHER          5\n",
       "NONE           1\n",
       "Name: Home.Ownership, dtype: int64"
      ]
     },
     "execution_count": 153,
     "metadata": {},
     "output_type": "execute_result"
    }
   ],
   "source": [
    "loan_data['Home.Ownership'].value_counts()"
   ]
  },
  {
   "cell_type": "code",
   "execution_count": 158,
   "metadata": {},
   "outputs": [],
   "source": [
    "fm = loan_data.loc[loan_data['Home.Ownership'] == 'MORTGAGE' , 'fico_avg'].dropna()\n",
    "fr = loan_data.loc[loan_data['Home.Ownership'] == 'RENT' , 'fico_avg'].dropna()\n",
    "fow = loan_data.loc[loan_data['Home.Ownership'] == 'OWN' , 'fico_avg'].dropna()\n",
    "fot = loan_data.loc[loan_data['Home.Ownership'] == 'OTHER' , 'fico_avg'].dropna()\n",
    "fn = loan_data.loc[loan_data['Home.Ownership'] == 'NONE' , 'fico_avg'].dropna()"
   ]
  },
  {
   "cell_type": "code",
   "execution_count": 159,
   "metadata": {},
   "outputs": [
    {
     "name": "stdout",
     "output_type": "stream",
     "text": [
      "Mean for Mortgage 713.7\n",
      "Mean for Rent 702.06\n",
      "Mean for Own 708.55\n",
      "Mean for Other 674.0\n",
      "Mean for None 802.0\n"
     ]
    }
   ],
   "source": [
    "print('Mean for Mortgage',round(fm.mean(),2))\n",
    "print('Mean for Rent',round(fr.mean(),2))\n",
    "print('Mean for Own',round(fow.mean(),2))\n",
    "print('Mean for Other',round(fot.mean(),2))\n",
    "print('Mean for None',round(fn.mean(),2))"
   ]
  },
  {
   "cell_type": "code",
   "execution_count": 160,
   "metadata": {},
   "outputs": [
    {
     "data": {
      "text/plain": [
       "F_onewayResult(statistic=19.334591709631045, pvalue=1.114378111228758e-15)"
      ]
     },
     "execution_count": 160,
     "metadata": {},
     "output_type": "execute_result"
    }
   ],
   "source": [
    "stats.f_oneway(fm , fr , fow , fot , fn)"
   ]
  },
  {
   "cell_type": "markdown",
   "metadata": {},
   "source": [
    "- f val: 19.33\n",
    "\n",
    "- Significance Level: 0.05 (5%)\n",
    "- P value: 1.114378111228758e-15 (very low)\n",
    "- p val < signi value\n",
    "- Accepting the Ha\n",
    "- HO: 713.7 != 702.06 != 708.55 != 674.0 != 802.0\n",
    "<br>\n",
    "\n",
    "- **Analysis** : There is a statistically significant difference in fico scores for home ownership."
   ]
  },
  {
   "cell_type": "markdown",
   "metadata": {},
   "source": [
    "### Business Problem - 2"
   ]
  },
  {
   "cell_type": "markdown",
   "metadata": {},
   "source": [
    "#### EDA"
   ]
  },
  {
   "cell_type": "code",
   "execution_count": 63,
   "metadata": {},
   "outputs": [],
   "source": [
    "price_quotes = pd.read_csv('D:/python/proj_7/Price_Quotes.csv')"
   ]
  },
  {
   "cell_type": "code",
   "execution_count": 64,
   "metadata": {},
   "outputs": [
    {
     "data": {
      "text/html": [
       "<div>\n",
       "<style scoped>\n",
       "    .dataframe tbody tr th:only-of-type {\n",
       "        vertical-align: middle;\n",
       "    }\n",
       "\n",
       "    .dataframe tbody tr th {\n",
       "        vertical-align: top;\n",
       "    }\n",
       "\n",
       "    .dataframe thead th {\n",
       "        text-align: right;\n",
       "    }\n",
       "</style>\n",
       "<table border=\"1\" class=\"dataframe\">\n",
       "  <thead>\n",
       "    <tr style=\"text-align: right;\">\n",
       "      <th></th>\n",
       "      <th>Order_Number</th>\n",
       "      <th>Barry_Price</th>\n",
       "      <th>Mary_Price</th>\n",
       "    </tr>\n",
       "  </thead>\n",
       "  <tbody>\n",
       "    <tr>\n",
       "      <th>0</th>\n",
       "      <td>1</td>\n",
       "      <td>126</td>\n",
       "      <td>114</td>\n",
       "    </tr>\n",
       "    <tr>\n",
       "      <th>1</th>\n",
       "      <td>2</td>\n",
       "      <td>110</td>\n",
       "      <td>118</td>\n",
       "    </tr>\n",
       "    <tr>\n",
       "      <th>2</th>\n",
       "      <td>3</td>\n",
       "      <td>138</td>\n",
       "      <td>114</td>\n",
       "    </tr>\n",
       "    <tr>\n",
       "      <th>3</th>\n",
       "      <td>4</td>\n",
       "      <td>142</td>\n",
       "      <td>111</td>\n",
       "    </tr>\n",
       "    <tr>\n",
       "      <th>4</th>\n",
       "      <td>5</td>\n",
       "      <td>146</td>\n",
       "      <td>129</td>\n",
       "    </tr>\n",
       "    <tr>\n",
       "      <th>5</th>\n",
       "      <td>6</td>\n",
       "      <td>136</td>\n",
       "      <td>119</td>\n",
       "    </tr>\n",
       "    <tr>\n",
       "      <th>6</th>\n",
       "      <td>7</td>\n",
       "      <td>94</td>\n",
       "      <td>97</td>\n",
       "    </tr>\n",
       "    <tr>\n",
       "      <th>7</th>\n",
       "      <td>8</td>\n",
       "      <td>103</td>\n",
       "      <td>104</td>\n",
       "    </tr>\n",
       "    <tr>\n",
       "      <th>8</th>\n",
       "      <td>9</td>\n",
       "      <td>140</td>\n",
       "      <td>127</td>\n",
       "    </tr>\n",
       "    <tr>\n",
       "      <th>9</th>\n",
       "      <td>10</td>\n",
       "      <td>152</td>\n",
       "      <td>133</td>\n",
       "    </tr>\n",
       "    <tr>\n",
       "      <th>10</th>\n",
       "      <td>11</td>\n",
       "      <td>108</td>\n",
       "      <td>103</td>\n",
       "    </tr>\n",
       "    <tr>\n",
       "      <th>11</th>\n",
       "      <td>12</td>\n",
       "      <td>97</td>\n",
       "      <td>108</td>\n",
       "    </tr>\n",
       "  </tbody>\n",
       "</table>\n",
       "</div>"
      ],
      "text/plain": [
       "    Order_Number  Barry_Price  Mary_Price\n",
       "0              1          126         114\n",
       "1              2          110         118\n",
       "2              3          138         114\n",
       "3              4          142         111\n",
       "4              5          146         129\n",
       "5              6          136         119\n",
       "6              7           94          97\n",
       "7              8          103         104\n",
       "8              9          140         127\n",
       "9             10          152         133\n",
       "10            11          108         103\n",
       "11            12           97         108"
      ]
     },
     "execution_count": 64,
     "metadata": {},
     "output_type": "execute_result"
    }
   ],
   "source": [
    "price_quotes.head(12)"
   ]
  },
  {
   "cell_type": "code",
   "execution_count": 65,
   "metadata": {},
   "outputs": [
    {
     "data": {
      "text/plain": [
       "Order_Number    int64\n",
       "Barry_Price     int64\n",
       "Mary_Price      int64\n",
       "dtype: object"
      ]
     },
     "execution_count": 65,
     "metadata": {},
     "output_type": "execute_result"
    }
   ],
   "source": [
    "price_quotes.dtypes"
   ]
  },
  {
   "cell_type": "code",
   "execution_count": 66,
   "metadata": {},
   "outputs": [],
   "source": [
    "mary_avg_price = price_quotes['Mary_Price'].mean()"
   ]
  },
  {
   "cell_type": "code",
   "execution_count": 67,
   "metadata": {},
   "outputs": [],
   "source": [
    "barry_avg_price = price_quotes['Barry_Price'].mean()"
   ]
  },
  {
   "cell_type": "code",
   "execution_count": 68,
   "metadata": {},
   "outputs": [
    {
     "name": "stdout",
     "output_type": "stream",
     "text": [
      "114.75\n",
      "124.33333333333333\n"
     ]
    }
   ],
   "source": [
    "print(mary_avg_price)\n",
    "print(barry_avg_price)"
   ]
  },
  {
   "cell_type": "markdown",
   "metadata": {},
   "source": [
    "#### Dependent(paired) T test"
   ]
  },
  {
   "cell_type": "code",
   "execution_count": 69,
   "metadata": {},
   "outputs": [
    {
     "data": {
      "text/plain": [
       "Ttest_relResult(statistic=2.521376510892349, pvalue=0.02840588045242053)"
      ]
     },
     "execution_count": 69,
     "metadata": {},
     "output_type": "execute_result"
    }
   ],
   "source": [
    "stats.ttest_rel(a=price_quotes.Barry_Price , b=price_quotes.Mary_Price)"
   ]
  },
  {
   "cell_type": "markdown",
   "metadata": {},
   "source": [
    "- t val: 2.52\n",
    "\n",
    "- Significance Level: 0.05 (5%)\n",
    "- P value: 0.028 (HIGH)\n",
    "- p val < signi value\n",
    "- Accepting the Ha\n",
    "- HO: 114.75 != 124.33\n",
    "<br>\n",
    "\n",
    "- **Analysis** : There has been a statistically significant difference in the average price quotes provided by mary and barry."
   ]
  },
  {
   "cell_type": "markdown",
   "metadata": {},
   "source": [
    "### Business Problem - 3"
   ]
  },
  {
   "cell_type": "markdown",
   "metadata": {},
   "source": [
    "#### EDA"
   ]
  },
  {
   "cell_type": "code",
   "execution_count": 6,
   "metadata": {},
   "outputs": [],
   "source": [
    "treat_fac = pd.read_csv('D:/python/proj_7/Treatment_Facility.csv')"
   ]
  },
  {
   "cell_type": "code",
   "execution_count": 7,
   "metadata": {},
   "outputs": [],
   "source": [
    "treat_fac.rename(columns={'VAR4' : 'TRFF' , 'VAR5' : 'CI'} , inplace=True)"
   ]
  },
  {
   "cell_type": "code",
   "execution_count": 14,
   "metadata": {},
   "outputs": [
    {
     "data": {
      "text/html": [
       "<div>\n",
       "<style scoped>\n",
       "    .dataframe tbody tr th:only-of-type {\n",
       "        vertical-align: middle;\n",
       "    }\n",
       "\n",
       "    .dataframe tbody tr th {\n",
       "        vertical-align: top;\n",
       "    }\n",
       "\n",
       "    .dataframe thead th {\n",
       "        text-align: right;\n",
       "    }\n",
       "</style>\n",
       "<table border=\"1\" class=\"dataframe\">\n",
       "  <thead>\n",
       "    <tr style=\"text-align: right;\">\n",
       "      <th></th>\n",
       "      <th>Month</th>\n",
       "      <th>Reengineer</th>\n",
       "      <th>Employee_Turnover</th>\n",
       "      <th>TRFF</th>\n",
       "      <th>CI</th>\n",
       "    </tr>\n",
       "  </thead>\n",
       "  <tbody>\n",
       "    <tr>\n",
       "      <th>0</th>\n",
       "      <td>1</td>\n",
       "      <td>Prior</td>\n",
       "      <td>0.0000</td>\n",
       "      <td>24.390244</td>\n",
       "      <td>42.682927</td>\n",
       "    </tr>\n",
       "    <tr>\n",
       "      <th>1</th>\n",
       "      <td>2</td>\n",
       "      <td>Prior</td>\n",
       "      <td>6.0606</td>\n",
       "      <td>19.354839</td>\n",
       "      <td>25.806452</td>\n",
       "    </tr>\n",
       "    <tr>\n",
       "      <th>2</th>\n",
       "      <td>3</td>\n",
       "      <td>Prior</td>\n",
       "      <td>12.1212</td>\n",
       "      <td>35.087719</td>\n",
       "      <td>146.198830</td>\n",
       "    </tr>\n",
       "    <tr>\n",
       "      <th>3</th>\n",
       "      <td>4</td>\n",
       "      <td>Prior</td>\n",
       "      <td>3.3333</td>\n",
       "      <td>18.404908</td>\n",
       "      <td>110.429448</td>\n",
       "    </tr>\n",
       "    <tr>\n",
       "      <th>4</th>\n",
       "      <td>5</td>\n",
       "      <td>Prior</td>\n",
       "      <td>12.9032</td>\n",
       "      <td>17.964072</td>\n",
       "      <td>23.952096</td>\n",
       "    </tr>\n",
       "  </tbody>\n",
       "</table>\n",
       "</div>"
      ],
      "text/plain": [
       "   Month Reengineer  Employee_Turnover       TRFF          CI\n",
       "0      1      Prior             0.0000  24.390244   42.682927\n",
       "1      2      Prior             6.0606  19.354839   25.806452\n",
       "2      3      Prior            12.1212  35.087719  146.198830\n",
       "3      4      Prior             3.3333  18.404908  110.429448\n",
       "4      5      Prior            12.9032  17.964072   23.952096"
      ]
     },
     "execution_count": 14,
     "metadata": {},
     "output_type": "execute_result"
    }
   ],
   "source": [
    "treat_fac.head()"
   ]
  },
  {
   "cell_type": "code",
   "execution_count": 45,
   "metadata": {},
   "outputs": [
    {
     "data": {
      "text/plain": [
       "Month                  int64\n",
       "Reengineer            object\n",
       "Employee_Turnover    float64\n",
       "TRFF                 float64\n",
       "CI                   float64\n",
       "dtype: object"
      ]
     },
     "execution_count": 45,
     "metadata": {},
     "output_type": "execute_result"
    }
   ],
   "source": [
    "treat_fac.dtypes"
   ]
  },
  {
   "cell_type": "code",
   "execution_count": 33,
   "metadata": {},
   "outputs": [],
   "source": [
    "prior_TO = treat_fac.loc[treat_fac.Reengineer == 'Prior' , 'Employee_Turnover']"
   ]
  },
  {
   "cell_type": "code",
   "execution_count": 34,
   "metadata": {},
   "outputs": [],
   "source": [
    "post_TO = treat_fac.loc[treat_fac.Reengineer == 'Post' , 'Employee_Turnover']"
   ]
  },
  {
   "cell_type": "code",
   "execution_count": 40,
   "metadata": {
    "scrolled": true
   },
   "outputs": [
    {
     "name": "stdout",
     "output_type": "stream",
     "text": [
      "The mean of prior_TO is 11.74\n",
      "The mean of post_TO is 18.69\n"
     ]
    }
   ],
   "source": [
    "print('The mean of prior_TO is' , round(prior_TO.mean(),2))\n",
    "print('The mean of post_TO is' , round(post_TO.mean(),2))"
   ]
  },
  {
   "cell_type": "code",
   "execution_count": 41,
   "metadata": {},
   "outputs": [
    {
     "name": "stdout",
     "output_type": "stream",
     "text": [
      "The std deviation of prior_TO is 7.04\n",
      "The std deviation of post_TO is 10.56\n"
     ]
    }
   ],
   "source": [
    "print('The std deviation of prior_TO is' , round(prior_TO.std(),2))\n",
    "print('The std deviation of post_TO is' , round(post_TO.std(),2))"
   ]
  },
  {
   "cell_type": "markdown",
   "metadata": {},
   "source": [
    "#### Re-engineering vs employee turnover"
   ]
  },
  {
   "cell_type": "code",
   "execution_count": 42,
   "metadata": {},
   "outputs": [
    {
     "data": {
      "text/plain": [
       "Ttest_indResult(statistic=-1.5653912078421088, pvalue=0.15207128913702453)"
      ]
     },
     "execution_count": 42,
     "metadata": {},
     "output_type": "execute_result"
    }
   ],
   "source": [
    "stats.ttest_ind(a=prior_TO , b=post_TO , equal_var=False)"
   ]
  },
  {
   "cell_type": "markdown",
   "metadata": {},
   "source": [
    "- t val: -1.565\n",
    "\n",
    "- Significance Level: 0.05 (5%)\n",
    "- P value: 0.152 (HIGH)\n",
    "- p val > signi value\n",
    "- Accepting the H0\n",
    "- H0: 11.74 == 18.69\n",
    "<br>\n",
    "\n",
    "- **Analysis** : There is no statistically significant difference between the Re-engineering vs employee turnover."
   ]
  },
  {
   "cell_type": "markdown",
   "metadata": {},
   "source": [
    "#### Re-engineering vs critical incidence"
   ]
  },
  {
   "cell_type": "code",
   "execution_count": 47,
   "metadata": {},
   "outputs": [],
   "source": [
    "prior_ci = treat_fac.loc[treat_fac.Reengineer == 'Prior' , 'CI']"
   ]
  },
  {
   "cell_type": "code",
   "execution_count": 48,
   "metadata": {},
   "outputs": [],
   "source": [
    "post_ci = treat_fac.loc[treat_fac.Reengineer == 'Post' , 'CI']"
   ]
  },
  {
   "cell_type": "code",
   "execution_count": 49,
   "metadata": {},
   "outputs": [
    {
     "name": "stdout",
     "output_type": "stream",
     "text": [
      "The mean of prior_ci is 53.89\n",
      "The mean of post_ci is 23.35\n"
     ]
    }
   ],
   "source": [
    "print('The mean of prior_ci is' , round(prior_ci.mean(),2))\n",
    "print('The mean of post_ci is' , round(post_ci.mean(),2))"
   ]
  },
  {
   "cell_type": "code",
   "execution_count": 50,
   "metadata": {},
   "outputs": [
    {
     "name": "stdout",
     "output_type": "stream",
     "text": [
      "The std deviation of prior_ci is 48.7\n",
      "The std deviation of post_ci is 7.81\n"
     ]
    }
   ],
   "source": [
    "print('The std deviation of prior_ci is' , round(prior_ci.std(),2))\n",
    "print('The std deviation of post_ci is' , round(post_ci.std(),2))"
   ]
  },
  {
   "cell_type": "code",
   "execution_count": 51,
   "metadata": {},
   "outputs": [
    {
     "data": {
      "text/plain": [
       "Ttest_indResult(statistic=2.209006531430452, pvalue=0.045565519570193176)"
      ]
     },
     "execution_count": 51,
     "metadata": {},
     "output_type": "execute_result"
    }
   ],
   "source": [
    "stats.ttest_ind(a=prior_ci , b=post_ci , equal_var=False)"
   ]
  },
  {
   "cell_type": "markdown",
   "metadata": {},
   "source": [
    "- t val: 2.209\n",
    "\n",
    "- Significance Level: 0.05 (5%)\n",
    "- P value: 0.045 (Low)\n",
    "- p val < signi value\n",
    "- Accepting the Ha\n",
    "- H0: 53.89!=23.35\n",
    "<br>\n",
    "\n",
    "- **Analysis** : There has been a statistically significant difference between Re-engineering vs critical incidence"
   ]
  },
  {
   "cell_type": "markdown",
   "metadata": {},
   "source": [
    "### Business Problem - 4"
   ]
  },
  {
   "cell_type": "code",
   "execution_count": 52,
   "metadata": {},
   "outputs": [],
   "source": [
    "prior_assess = pd.read_csv('D:/python/proj_7/Priority_Assessment.csv')"
   ]
  },
  {
   "cell_type": "code",
   "execution_count": 57,
   "metadata": {},
   "outputs": [
    {
     "data": {
      "text/html": [
       "<div>\n",
       "<style scoped>\n",
       "    .dataframe tbody tr th:only-of-type {\n",
       "        vertical-align: middle;\n",
       "    }\n",
       "\n",
       "    .dataframe tbody tr th {\n",
       "        vertical-align: top;\n",
       "    }\n",
       "\n",
       "    .dataframe thead th {\n",
       "        text-align: right;\n",
       "    }\n",
       "</style>\n",
       "<table border=\"1\" class=\"dataframe\">\n",
       "  <thead>\n",
       "    <tr style=\"text-align: right;\">\n",
       "      <th></th>\n",
       "      <th>Days</th>\n",
       "      <th>Priority</th>\n",
       "    </tr>\n",
       "  </thead>\n",
       "  <tbody>\n",
       "    <tr>\n",
       "      <th>0</th>\n",
       "      <td>3.3</td>\n",
       "      <td>High</td>\n",
       "    </tr>\n",
       "    <tr>\n",
       "      <th>1</th>\n",
       "      <td>7.9</td>\n",
       "      <td>Medium</td>\n",
       "    </tr>\n",
       "    <tr>\n",
       "      <th>2</th>\n",
       "      <td>0.3</td>\n",
       "      <td>High</td>\n",
       "    </tr>\n",
       "    <tr>\n",
       "      <th>3</th>\n",
       "      <td>0.7</td>\n",
       "      <td>Medium</td>\n",
       "    </tr>\n",
       "    <tr>\n",
       "      <th>4</th>\n",
       "      <td>8.6</td>\n",
       "      <td>Medium</td>\n",
       "    </tr>\n",
       "  </tbody>\n",
       "</table>\n",
       "</div>"
      ],
      "text/plain": [
       "   Days Priority\n",
       "0   3.3     High\n",
       "1   7.9   Medium\n",
       "2   0.3     High\n",
       "3   0.7   Medium\n",
       "4   8.6   Medium"
      ]
     },
     "execution_count": 57,
     "metadata": {},
     "output_type": "execute_result"
    }
   ],
   "source": [
    "prior_assess.head()"
   ]
  },
  {
   "cell_type": "code",
   "execution_count": 62,
   "metadata": {},
   "outputs": [],
   "source": [
    "prior_high = prior_assess.loc[prior_assess.Priority == 'High' , 'Days']"
   ]
  },
  {
   "cell_type": "code",
   "execution_count": 63,
   "metadata": {},
   "outputs": [],
   "source": [
    "prior_medium = prior_assess.loc[prior_assess.Priority == 'Medium' , 'Days']"
   ]
  },
  {
   "cell_type": "code",
   "execution_count": 64,
   "metadata": {},
   "outputs": [],
   "source": [
    "prior_low = prior_assess.loc[prior_assess.Priority == 'Low' , 'Days']"
   ]
  },
  {
   "cell_type": "code",
   "execution_count": 66,
   "metadata": {
    "scrolled": true
   },
   "outputs": [
    {
     "name": "stdout",
     "output_type": "stream",
     "text": [
      "The mean of prior_high is 3.02\n",
      "The mean of prior_medium is 2.5\n",
      "The mean of prior_low is 4.23\n"
     ]
    }
   ],
   "source": [
    "print('The mean of prior_high is' , round(prior_high.mean(),2))\n",
    "print('The mean of prior_medium is' , round(prior_medium.mean(),2))\n",
    "print('The mean of prior_low is' , round(prior_low.mean(),2))"
   ]
  },
  {
   "cell_type": "code",
   "execution_count": 67,
   "metadata": {},
   "outputs": [
    {
     "data": {
      "text/plain": [
       "F_onewayResult(statistic=1.812311010076072, pvalue=0.16411459461716182)"
      ]
     },
     "execution_count": 67,
     "metadata": {},
     "output_type": "execute_result"
    }
   ],
   "source": [
    "stats.f_oneway(prior_high , prior_medium , prior_low)"
   ]
  },
  {
   "cell_type": "markdown",
   "metadata": {},
   "source": [
    "- f val: 1.812\n",
    "\n",
    "- Significance Level: 0.05 (5%)\n",
    "- P value: 0.164 (High)\n",
    "- p val > signi value\n",
    "- Accepting the HO\n",
    "- HO: 3.02 = 2.5 = 4.23\n",
    "<br>\n",
    "\n",
    "- **Analysis** : There is no statistically significant difference in number of days for high, medium and low priority jobs. The system is working fine."
   ]
  },
  {
   "cell_type": "markdown",
   "metadata": {},
   "source": [
    "### Business Problem - 5"
   ]
  },
  {
   "cell_type": "code",
   "execution_count": 13,
   "metadata": {},
   "outputs": [],
   "source": [
    "films = pd.read_csv('D:/python/proj_7/Films.csv')"
   ]
  },
  {
   "cell_type": "code",
   "execution_count": 14,
   "metadata": {},
   "outputs": [
    {
     "data": {
      "text/html": [
       "<div>\n",
       "<style scoped>\n",
       "    .dataframe tbody tr th:only-of-type {\n",
       "        vertical-align: middle;\n",
       "    }\n",
       "\n",
       "    .dataframe tbody tr th {\n",
       "        vertical-align: top;\n",
       "    }\n",
       "\n",
       "    .dataframe thead th {\n",
       "        text-align: right;\n",
       "    }\n",
       "</style>\n",
       "<table border=\"1\" class=\"dataframe\">\n",
       "  <thead>\n",
       "    <tr style=\"text-align: right;\">\n",
       "      <th></th>\n",
       "      <th>_rowstate_</th>\n",
       "      <th>Movie</th>\n",
       "      <th>Gender</th>\n",
       "      <th>Marital_Status</th>\n",
       "      <th>Sinage</th>\n",
       "      <th>Parking</th>\n",
       "      <th>Clean</th>\n",
       "      <th>Overall</th>\n",
       "      <th>Age</th>\n",
       "      <th>Income</th>\n",
       "      <th>Hear_About</th>\n",
       "    </tr>\n",
       "  </thead>\n",
       "  <tbody>\n",
       "    <tr>\n",
       "      <th>0</th>\n",
       "      <td>0</td>\n",
       "      <td>Ferris Buellers Day Off</td>\n",
       "      <td>Female</td>\n",
       "      <td>Married</td>\n",
       "      <td>2.0</td>\n",
       "      <td>2.0</td>\n",
       "      <td>2.0</td>\n",
       "      <td>2.0</td>\n",
       "      <td>3.0</td>\n",
       "      <td>1.0</td>\n",
       "      <td>5</td>\n",
       "    </tr>\n",
       "    <tr>\n",
       "      <th>1</th>\n",
       "      <td>0</td>\n",
       "      <td>Ferris Buellers Day Off</td>\n",
       "      <td>Female</td>\n",
       "      <td>Single</td>\n",
       "      <td>1.0</td>\n",
       "      <td>1.0</td>\n",
       "      <td>1.0</td>\n",
       "      <td>1.0</td>\n",
       "      <td>2.0</td>\n",
       "      <td>1.0</td>\n",
       "      <td>5</td>\n",
       "    </tr>\n",
       "    <tr>\n",
       "      <th>2</th>\n",
       "      <td>0</td>\n",
       "      <td>Ferris Buellers Day Off</td>\n",
       "      <td>Male</td>\n",
       "      <td>Married</td>\n",
       "      <td>2.0</td>\n",
       "      <td>4.0</td>\n",
       "      <td>3.0</td>\n",
       "      <td>2.0</td>\n",
       "      <td>4.0</td>\n",
       "      <td>1.0</td>\n",
       "      <td>5</td>\n",
       "    </tr>\n",
       "    <tr>\n",
       "      <th>3</th>\n",
       "      <td>0</td>\n",
       "      <td>Ferris Buellers Day Off</td>\n",
       "      <td>Female</td>\n",
       "      <td>Married</td>\n",
       "      <td>1.0</td>\n",
       "      <td>3.0</td>\n",
       "      <td>2.0</td>\n",
       "      <td>2.0</td>\n",
       "      <td>4.0</td>\n",
       "      <td>1.0</td>\n",
       "      <td>5</td>\n",
       "    </tr>\n",
       "    <tr>\n",
       "      <th>4</th>\n",
       "      <td>0</td>\n",
       "      <td>Ferris Buellers Day Off</td>\n",
       "      <td>Female</td>\n",
       "      <td>Married</td>\n",
       "      <td>1.0</td>\n",
       "      <td>1.0</td>\n",
       "      <td>1.0</td>\n",
       "      <td>1.0</td>\n",
       "      <td>3.0</td>\n",
       "      <td>3.0</td>\n",
       "      <td>1</td>\n",
       "    </tr>\n",
       "  </tbody>\n",
       "</table>\n",
       "</div>"
      ],
      "text/plain": [
       "   _rowstate_                    Movie  Gender Marital_Status  Sinage  \\\n",
       "0           0  Ferris Buellers Day Off  Female        Married     2.0   \n",
       "1           0  Ferris Buellers Day Off  Female         Single     1.0   \n",
       "2           0  Ferris Buellers Day Off    Male        Married     2.0   \n",
       "3           0  Ferris Buellers Day Off  Female        Married     1.0   \n",
       "4           0  Ferris Buellers Day Off  Female        Married     1.0   \n",
       "\n",
       "   Parking  Clean  Overall  Age  Income Hear_About  \n",
       "0      2.0    2.0      2.0  3.0     1.0          5  \n",
       "1      1.0    1.0      1.0  2.0     1.0          5  \n",
       "2      4.0    3.0      2.0  4.0     1.0          5  \n",
       "3      3.0    2.0      2.0  4.0     1.0          5  \n",
       "4      1.0    1.0      1.0  3.0     3.0          1  "
      ]
     },
     "execution_count": 14,
     "metadata": {},
     "output_type": "execute_result"
    }
   ],
   "source": [
    "films.head()"
   ]
  },
  {
   "cell_type": "markdown",
   "metadata": {},
   "source": [
    "### a)"
   ]
  },
  {
   "cell_type": "code",
   "execution_count": 15,
   "metadata": {},
   "outputs": [
    {
     "data": {
      "text/plain": [
       "2.0    175\n",
       "3.0    117\n",
       "1.0     26\n",
       "4.0     10\n",
       "Name: Age, dtype: int64"
      ]
     },
     "execution_count": 15,
     "metadata": {},
     "output_type": "execute_result"
    }
   ],
   "source": [
    "films.Age.value_counts()"
   ]
  },
  {
   "cell_type": "code",
   "execution_count": 16,
   "metadata": {},
   "outputs": [
    {
     "data": {
      "text/plain": [
       "_rowstate_          int64\n",
       "Movie              object\n",
       "Gender             object\n",
       "Marital_Status     object\n",
       "Sinage            float64\n",
       "Parking           float64\n",
       "Clean             float64\n",
       "Overall           float64\n",
       "Age               float64\n",
       "Income            float64\n",
       "Hear_About         object\n",
       "dtype: object"
      ]
     },
     "execution_count": 16,
     "metadata": {},
     "output_type": "execute_result"
    }
   ],
   "source": [
    "films.dtypes"
   ]
  },
  {
   "cell_type": "code",
   "execution_count": 77,
   "metadata": {},
   "outputs": [
    {
     "data": {
      "text/plain": [
       "2.0"
      ]
     },
     "execution_count": 77,
     "metadata": {},
     "output_type": "execute_result"
    }
   ],
   "source": [
    "round(films['Overall'].mean(), 0)"
   ]
  },
  {
   "cell_type": "markdown",
   "metadata": {},
   "source": [
    "- The overall satisfaction by customer is good.\n",
    "- We will not do any hypothesis tetsing in the above part , simply we'll calculate the mean to find\n",
    "  the overall satisfaction of the customer."
   ]
  },
  {
   "cell_type": "markdown",
   "metadata": {},
   "source": [
    "### b)"
   ]
  },
  {
   "cell_type": "code",
   "execution_count": 36,
   "metadata": {},
   "outputs": [],
   "source": [
    "fico = films.corr()"
   ]
  },
  {
   "cell_type": "code",
   "execution_count": 74,
   "metadata": {},
   "outputs": [
    {
     "data": {
      "text/html": [
       "<div>\n",
       "<style scoped>\n",
       "    .dataframe tbody tr th:only-of-type {\n",
       "        vertical-align: middle;\n",
       "    }\n",
       "\n",
       "    .dataframe tbody tr th {\n",
       "        vertical-align: top;\n",
       "    }\n",
       "\n",
       "    .dataframe thead th {\n",
       "        text-align: right;\n",
       "    }\n",
       "</style>\n",
       "<table border=\"1\" class=\"dataframe\">\n",
       "  <thead>\n",
       "    <tr style=\"text-align: right;\">\n",
       "      <th></th>\n",
       "      <th>_rowstate_</th>\n",
       "      <th>Sinage</th>\n",
       "      <th>Parking</th>\n",
       "      <th>Clean</th>\n",
       "      <th>Overall</th>\n",
       "      <th>Age</th>\n",
       "      <th>Income</th>\n",
       "    </tr>\n",
       "  </thead>\n",
       "  <tbody>\n",
       "    <tr>\n",
       "      <th>_rowstate_</th>\n",
       "      <td>NaN</td>\n",
       "      <td>NaN</td>\n",
       "      <td>NaN</td>\n",
       "      <td>NaN</td>\n",
       "      <td>NaN</td>\n",
       "      <td>NaN</td>\n",
       "      <td>NaN</td>\n",
       "    </tr>\n",
       "    <tr>\n",
       "      <th>Sinage</th>\n",
       "      <td>NaN</td>\n",
       "      <td>1.000000</td>\n",
       "      <td>0.470322</td>\n",
       "      <td>0.349163</td>\n",
       "      <td>0.382881</td>\n",
       "      <td>-0.091512</td>\n",
       "      <td>-0.036721</td>\n",
       "    </tr>\n",
       "    <tr>\n",
       "      <th>Parking</th>\n",
       "      <td>NaN</td>\n",
       "      <td>0.470322</td>\n",
       "      <td>1.000000</td>\n",
       "      <td>0.444368</td>\n",
       "      <td>0.516585</td>\n",
       "      <td>-0.023607</td>\n",
       "      <td>-0.022084</td>\n",
       "    </tr>\n",
       "    <tr>\n",
       "      <th>Clean</th>\n",
       "      <td>NaN</td>\n",
       "      <td>0.349163</td>\n",
       "      <td>0.444368</td>\n",
       "      <td>1.000000</td>\n",
       "      <td>0.349412</td>\n",
       "      <td>-0.005052</td>\n",
       "      <td>0.019851</td>\n",
       "    </tr>\n",
       "    <tr>\n",
       "      <th>Overall</th>\n",
       "      <td>NaN</td>\n",
       "      <td>0.382881</td>\n",
       "      <td>0.516585</td>\n",
       "      <td>0.349412</td>\n",
       "      <td>1.000000</td>\n",
       "      <td>-0.034171</td>\n",
       "      <td>-0.004050</td>\n",
       "    </tr>\n",
       "    <tr>\n",
       "      <th>Age</th>\n",
       "      <td>NaN</td>\n",
       "      <td>-0.091512</td>\n",
       "      <td>-0.023607</td>\n",
       "      <td>-0.005052</td>\n",
       "      <td>-0.034171</td>\n",
       "      <td>1.000000</td>\n",
       "      <td>0.144772</td>\n",
       "    </tr>\n",
       "    <tr>\n",
       "      <th>Income</th>\n",
       "      <td>NaN</td>\n",
       "      <td>-0.036721</td>\n",
       "      <td>-0.022084</td>\n",
       "      <td>0.019851</td>\n",
       "      <td>-0.004050</td>\n",
       "      <td>0.144772</td>\n",
       "      <td>1.000000</td>\n",
       "    </tr>\n",
       "  </tbody>\n",
       "</table>\n",
       "</div>"
      ],
      "text/plain": [
       "            _rowstate_    Sinage   Parking     Clean   Overall       Age  \\\n",
       "_rowstate_         NaN       NaN       NaN       NaN       NaN       NaN   \n",
       "Sinage             NaN  1.000000  0.470322  0.349163  0.382881 -0.091512   \n",
       "Parking            NaN  0.470322  1.000000  0.444368  0.516585 -0.023607   \n",
       "Clean              NaN  0.349163  0.444368  1.000000  0.349412 -0.005052   \n",
       "Overall            NaN  0.382881  0.516585  0.349412  1.000000 -0.034171   \n",
       "Age                NaN -0.091512 -0.023607 -0.005052 -0.034171  1.000000   \n",
       "Income             NaN -0.036721 -0.022084  0.019851 -0.004050  0.144772   \n",
       "\n",
       "              Income  \n",
       "_rowstate_       NaN  \n",
       "Sinage     -0.036721  \n",
       "Parking    -0.022084  \n",
       "Clean       0.019851  \n",
       "Overall    -0.004050  \n",
       "Age         0.144772  \n",
       "Income      1.000000  "
      ]
     },
     "execution_count": 74,
     "metadata": {},
     "output_type": "execute_result"
    }
   ],
   "source": [
    "films.corr(method='pearson')"
   ]
  },
  {
   "cell_type": "markdown",
   "metadata": {},
   "source": [
    "- The above pearson correlation method is showing us that the variables related to satisfation are :- Parking , Sinage , Clean"
   ]
  },
  {
   "cell_type": "markdown",
   "metadata": {},
   "source": [
    "### b)"
   ]
  },
  {
   "cell_type": "code",
   "execution_count": 48,
   "metadata": {},
   "outputs": [
    {
     "data": {
      "text/plain": [
       "Willy Wonka                161\n",
       "Ferris Buellers Day Off    137\n",
       "Old School                  32\n",
       "Name: Movie, dtype: int64"
      ]
     },
     "execution_count": 48,
     "metadata": {},
     "output_type": "execute_result"
    }
   ],
   "source": [
    "films.Movie.value_counts()"
   ]
  },
  {
   "cell_type": "code",
   "execution_count": 75,
   "metadata": {},
   "outputs": [
    {
     "data": {
      "text/plain": [
       "Movie                    Sinage  Parking\n",
       "Willy Wonka              2.0     2.0        57\n",
       "Ferris Buellers Day Off  2.0     2.0        45\n",
       "Willy Wonka              1.0     1.0        41\n",
       "Ferris Buellers Day Off  1.0     1.0        36\n",
       "Willy Wonka              2.0     1.0        16\n",
       "Ferris Buellers Day Off  1.0     2.0        14\n",
       "                         2.0     1.0        12\n",
       "Old School               1.0     1.0        10\n",
       "Willy Wonka              3.0     2.0         9\n",
       "                                 3.0         8\n",
       "                         1.0     2.0         7\n",
       "Ferris Buellers Day Off  3.0     2.0         6\n",
       "Old School               2.0     2.0         6\n",
       "Ferris Buellers Day Off  3.0     1.0         6\n",
       "                         2.0     3.0         6\n",
       "Old School               2.0     1.0         6\n",
       "Willy Wonka              2.0     3.0         5\n",
       "                         3.0     1.0         4\n",
       "Ferris Buellers Day Off  3.0     3.0         3\n",
       "                                 4.0         3\n",
       "                         1.0     3.0         2\n",
       "Old School               1.0     2.0         2\n",
       "                         3.0     2.0         2\n",
       "Willy Wonka              3.0     4.0         2\n",
       "                         4.0     2.0         2\n",
       "Old School               2.0     3.0         1\n",
       "Willy Wonka              5.0     1.0         1\n",
       "                         4.0     3.0         1\n",
       "Ferris Buellers Day Off  1.0     4.0         1\n",
       "Willy Wonka              4.0     1.0         1\n",
       "                         3.0     5.0         1\n",
       "Ferris Buellers Day Off  2.0     4.0         1\n",
       "Willy Wonka              2.0     5.0         1\n",
       "Old School               3.0     1.0         1\n",
       "                         5.0     5.0         1\n",
       "                         4.0     3.0         1\n",
       "Ferris Buellers Day Off  3.0     5.0         1\n",
       "                         5.0     2.0         1\n",
       "Old School               4.0     2.0         1\n",
       "                         3.0     3.0         1\n",
       "Willy Wonka              5.0     2.0         1\n",
       "                                 3.0         1\n",
       "dtype: int64"
      ]
     },
     "execution_count": 75,
     "metadata": {},
     "output_type": "execute_result"
    }
   ],
   "source": [
    "films.loc[: , ['Movie' , 'Sinage' , 'Parking']].value_counts()"
   ]
  },
  {
   "cell_type": "code",
   "execution_count": null,
   "metadata": {},
   "outputs": [],
   "source": []
  },
  {
   "cell_type": "code",
   "execution_count": null,
   "metadata": {},
   "outputs": [],
   "source": []
  },
  {
   "cell_type": "code",
   "execution_count": null,
   "metadata": {},
   "outputs": [],
   "source": []
  },
  {
   "cell_type": "code",
   "execution_count": null,
   "metadata": {},
   "outputs": [],
   "source": []
  },
  {
   "cell_type": "code",
   "execution_count": null,
   "metadata": {},
   "outputs": [],
   "source": []
  },
  {
   "cell_type": "code",
   "execution_count": null,
   "metadata": {},
   "outputs": [],
   "source": []
  },
  {
   "cell_type": "code",
   "execution_count": null,
   "metadata": {},
   "outputs": [],
   "source": []
  },
  {
   "cell_type": "code",
   "execution_count": null,
   "metadata": {},
   "outputs": [],
   "source": []
  },
  {
   "cell_type": "code",
   "execution_count": null,
   "metadata": {},
   "outputs": [],
   "source": []
  },
  {
   "cell_type": "code",
   "execution_count": null,
   "metadata": {},
   "outputs": [],
   "source": []
  },
  {
   "cell_type": "code",
   "execution_count": null,
   "metadata": {},
   "outputs": [],
   "source": []
  },
  {
   "cell_type": "code",
   "execution_count": null,
   "metadata": {},
   "outputs": [],
   "source": []
  },
  {
   "cell_type": "code",
   "execution_count": null,
   "metadata": {},
   "outputs": [],
   "source": []
  },
  {
   "cell_type": "code",
   "execution_count": null,
   "metadata": {},
   "outputs": [],
   "source": []
  },
  {
   "cell_type": "code",
   "execution_count": null,
   "metadata": {},
   "outputs": [],
   "source": []
  },
  {
   "cell_type": "code",
   "execution_count": null,
   "metadata": {},
   "outputs": [],
   "source": []
  },
  {
   "cell_type": "code",
   "execution_count": null,
   "metadata": {},
   "outputs": [],
   "source": []
  }
 ],
 "metadata": {
  "kernelspec": {
   "display_name": "Python 3",
   "language": "python",
   "name": "python3"
  },
  "language_info": {
   "codemirror_mode": {
    "name": "ipython",
    "version": 3
   },
   "file_extension": ".py",
   "mimetype": "text/x-python",
   "name": "python",
   "nbconvert_exporter": "python",
   "pygments_lexer": "ipython3",
   "version": "3.8.5"
  }
 },
 "nbformat": 4,
 "nbformat_minor": 4
}

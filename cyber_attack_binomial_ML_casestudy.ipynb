{
 "cells": [
  {
   "cell_type": "code",
   "execution_count": 1,
   "metadata": {},
   "outputs": [],
   "source": [
    "#### Importing the essential modules\n",
    "\n",
    "import pandas as pd\n",
    "import numpy as np"
   ]
  },
  {
   "cell_type": "code",
   "execution_count": 2,
   "metadata": {},
   "outputs": [],
   "source": [
    "atk_back = pd.read_csv('D:/python/Machine Learning/Modelling case studies/cyber_aatck_casestudy/Data_of_Attack_Back.csv')\n",
    "atk_bufov = pd.read_csv('D:/python/Machine Learning/Modelling case studies/cyber_aatck_casestudy/Data_of_Attack_Back_BufferOverflow.csv')\n",
    "atk_ftpw = pd.read_csv('D:/python/Machine Learning/Modelling case studies/cyber_aatck_casestudy/Data_of_Attack_Back_FTPWrite.csv')\n",
    "atk_guesspass = pd.read_csv('D:/python/Machine Learning/Modelling case studies/cyber_aatck_casestudy/Data_of_Attack_Back_GuessPassword.csv')\n",
    "atk_nept = pd.read_csv('D:/python/Machine Learning/Modelling case studies/cyber_aatck_casestudy/Data_of_Attack_Back_Neptune.csv')\n",
    "atk_nmap = pd.read_csv('D:/python/Machine Learning/Modelling case studies/cyber_aatck_casestudy/Data_of_Attack_Back_NMap.csv')\n",
    "atk_normal = pd.read_csv('D:/python/Machine Learning/Modelling case studies/cyber_aatck_casestudy/Data_of_Attack_Back_Normal.csv')\n",
    "atk_portsweep = pd.read_csv('D:/python/Machine Learning/Modelling case studies/cyber_aatck_casestudy/Data_of_Attack_Back_PortSweep.csv')\n",
    "atk_rootkit = pd.read_csv('D:/python/Machine Learning/Modelling case studies/cyber_aatck_casestudy/Data_of_Attack_Back_RootKit.csv')\n",
    "atk_satan = pd.read_csv('D:/python/Machine Learning/Modelling case studies/cyber_aatck_casestudy/Data_of_Attack_Back_Satan.csv')\n",
    "atk_smurf = pd.read_csv('D:/python/Machine Learning/Modelling case studies/cyber_aatck_casestudy/Data_of_Attack_Back_Smurf.csv')"
   ]
  },
  {
   "cell_type": "code",
   "execution_count": 13,
   "metadata": {},
   "outputs": [],
   "source": [
    "# In our dataset all the columns names are not proper so we are giving them correct format in the below code:-\n",
    "\n",
    "atk_smurf = atk_smurf.rename(columns={'duration':'duration', ' protocol_type':'protocol_type', ' service':'service', ' flag':'flag', ' src_bytes':'src_bytes', ' dst_bytes':'dst_bytes', ' land':'land', ' wrong_fragment':'wrong_fragment', ' urgent':'urgent', ' hot':'hot', ' num_failed_logins':'num_failed_logins', ' logged_in':'logged_in', ' num_compromised':'num_compromised', ' root_shell':'root_shell', ' su_attempted':'su_attempted', ' num_root':'num_root', ' num_file_creations':'num_file_creations',\n",
    "                        ' num_shells':'num_shells', ' num_access_files':'num_access_files', ' num_outbound_cmds':'num_outbound_cmds', ' is_host_login':'is_host_login', ' is_guest_login':'is_guest_login', ' count':'count', ' srv_count':'srv_count', ' serror_rate':'serror_rate', ' srv_error_rate':'srv_error_rate', ' rerror_rate':'rerror_rate', ' srv_rerror_rate':'srv_rerror_rate', ' same_srv_rate':'same_srv_rate', ' diff_srv_rate':'diff_srv_rate', ' srv_diff_host_rate':'srv_diff_host_rate',\n",
    "                        ' dst_host_count':'dst_host_count', ' dst_host_srv_count':'dst_host_srv_count', ' dst_host_same_srv_rate':'dst_host_same_srv_rate', ' dst_host_diff_srv_rate':'dst_host_diff_srv_rate', ' dst_host_same_src_port_rate':'dst_host_same_src_port_rate', ' dst_host_srv_diff_host_rate':'dst_host_srv_diff_host_rate', ' dst_host_serror_rate':'dst_host_serror_rate', ' dst_host_srv_serror_rate':'dst_host_srv_serror_rate', ' dst_host_rerror_rate':'dst_host_rerror_rate', ' dst_host_srv_rerror_rate':'dst_host_srv_rerror_rate'})"
   ]
  },
  {
   "cell_type": "code",
   "execution_count": 14,
   "metadata": {},
   "outputs": [],
   "source": [
    "atk_normal['attack'] = 0"
   ]
  },
  {
   "cell_type": "code",
   "execution_count": 27,
   "metadata": {},
   "outputs": [
    {
     "data": {
      "text/plain": [
       "Index(['duration', 'protocol_type', 'service', 'flag', 'src_bytes',\n",
       "       'dst_bytes', 'land', 'wrong_fragment', 'urgent', 'hot',\n",
       "       'num_failed_logins', 'logged_in', 'num_compromised', 'root_shell',\n",
       "       'su_attempted', 'num_root', 'num_file_creations', 'num_shells',\n",
       "       'num_access_files', 'num_outbound_cmds', 'is_host_login',\n",
       "       'is_guest_login', 'count', 'srv_count', 'serror_rate', 'srv_error_rate',\n",
       "       'rerror_rate', 'srv_rerror_rate', 'same_srv_rate', 'diff_srv_rate',\n",
       "       'srv_diff_host_rate', 'dst_host_count', 'dst_host_srv_count',\n",
       "       'dst_host_same_srv_rate', 'dst_host_diff_srv_rate',\n",
       "       'dst_host_same_src_port_rate', 'dst_host_srv_diff_host_rate',\n",
       "       'dst_host_serror_rate', 'dst_host_srv_serror_rate',\n",
       "       'dst_host_rerror_rate', 'dst_host_srv_rerror_rate'],\n",
       "      dtype='object')"
      ]
     },
     "execution_count": 27,
     "metadata": {},
     "output_type": "execute_result"
    }
   ],
   "source": [
    "atk_ftpw.columns"
   ]
  },
  {
   "cell_type": "code",
   "execution_count": 16,
   "metadata": {},
   "outputs": [],
   "source": [
    "atk_ftpw = atk_ftpw.rename(columns={'0.0026':'duration', ' 0':'protocol_type', ' 0.07':'service', ' 0.1':'flag', ' 0.00116':'src_bytes', ' 0.00451':'dst_bytes', ' 0.2':'land', ' 0.3':'wrong_fragment', ' 0.4':'urgent', ' 0.2.1':'hot', ' 0.5':'num_failed_logins', ' 0.1.1':'logged_in', ' 0.6':'num_compromised', ' 0.7':'root_shell', ' 0.8':'su_attempted', ' 0.9':'num_root', ' 0.1.2':'num_file_creations',\n",
    "                        ' 0.10':'num_shells', ' 0.1.3':'num_access_files', ' 0.11':'num_outbound_cmds', ' 0.12':'is_host_login', ' 0.1.4':'is_guest_login', ' 0.001':'count', ' 0.001.1':'srv_count', ' 0.13':'serror_rate', ' 0.14':'srv_error_rate', ' 0.15':'rerror_rate', ' 0.16':'srv_rerror_rate', ' 0.1.5':'same_srv_rate', ' 0.17':'diff_srv_rate', ' 0.18':'srv_diff_host_rate',\n",
    "                        ' 0.001.2':'dst_host_count', ' 0.001.3':'dst_host_srv_count', ' 0.1.6':'dst_host_same_srv_rate', ' 0.19':'dst_host_diff_srv_rate', ' 0.1.7':'dst_host_same_src_port_rate', ' 0.20':'dst_host_srv_diff_host_rate', ' 0.21':'dst_host_serror_rate', ' 0.22':'dst_host_srv_serror_rate', ' 0.23':'dst_host_rerror_rate', ' 0.24':'dst_host_srv_rerror_rate'})"
   ]
  },
  {
   "cell_type": "code",
   "execution_count": 17,
   "metadata": {},
   "outputs": [],
   "source": [
    "tot_attack = pd.concat([atk_back, atk_bufov, atk_ftpw, atk_guesspass, atk_nept, atk_nmap, atk_portsweep, atk_rootkit, atk_satan, atk_smurf] , axis =0)"
   ]
  },
  {
   "cell_type": "code",
   "execution_count": 19,
   "metadata": {},
   "outputs": [],
   "source": [
    "tot_attack['attack'] = 1"
   ]
  },
  {
   "cell_type": "code",
   "execution_count": 20,
   "metadata": {},
   "outputs": [
    {
     "data": {
      "text/html": [
       "<div>\n",
       "<style scoped>\n",
       "    .dataframe tbody tr th:only-of-type {\n",
       "        vertical-align: middle;\n",
       "    }\n",
       "\n",
       "    .dataframe tbody tr th {\n",
       "        vertical-align: top;\n",
       "    }\n",
       "\n",
       "    .dataframe thead th {\n",
       "        text-align: right;\n",
       "    }\n",
       "</style>\n",
       "<table border=\"1\" class=\"dataframe\">\n",
       "  <thead>\n",
       "    <tr style=\"text-align: right;\">\n",
       "      <th></th>\n",
       "      <th>duration</th>\n",
       "      <th>protocol_type</th>\n",
       "      <th>service</th>\n",
       "      <th>flag</th>\n",
       "      <th>src_bytes</th>\n",
       "      <th>dst_bytes</th>\n",
       "      <th>land</th>\n",
       "      <th>wrong_fragment</th>\n",
       "      <th>urgent</th>\n",
       "      <th>hot</th>\n",
       "      <th>...</th>\n",
       "      <th>dst_host_srv_count</th>\n",
       "      <th>dst_host_same_srv_rate</th>\n",
       "      <th>dst_host_diff_srv_rate</th>\n",
       "      <th>dst_host_same_src_port_rate</th>\n",
       "      <th>dst_host_srv_diff_host_rate</th>\n",
       "      <th>dst_host_serror_rate</th>\n",
       "      <th>dst_host_srv_serror_rate</th>\n",
       "      <th>dst_host_rerror_rate</th>\n",
       "      <th>dst_host_srv_rerror_rate</th>\n",
       "      <th>attack</th>\n",
       "    </tr>\n",
       "  </thead>\n",
       "  <tbody>\n",
       "    <tr>\n",
       "      <th>0</th>\n",
       "      <td>0.0</td>\n",
       "      <td>0.00</td>\n",
       "      <td>0.00</td>\n",
       "      <td>0.0</td>\n",
       "      <td>0.54540</td>\n",
       "      <td>0.08314</td>\n",
       "      <td>0</td>\n",
       "      <td>0.0</td>\n",
       "      <td>0.0</td>\n",
       "      <td>0.2</td>\n",
       "      <td>...</td>\n",
       "      <td>0.001</td>\n",
       "      <td>0.100</td>\n",
       "      <td>0.000</td>\n",
       "      <td>0.100</td>\n",
       "      <td>0.0</td>\n",
       "      <td>0.0</td>\n",
       "      <td>0.0</td>\n",
       "      <td>0.0</td>\n",
       "      <td>0.0</td>\n",
       "      <td>1</td>\n",
       "    </tr>\n",
       "    <tr>\n",
       "      <th>1</th>\n",
       "      <td>0.0</td>\n",
       "      <td>0.00</td>\n",
       "      <td>0.00</td>\n",
       "      <td>0.0</td>\n",
       "      <td>0.54540</td>\n",
       "      <td>0.08314</td>\n",
       "      <td>0</td>\n",
       "      <td>0.0</td>\n",
       "      <td>0.0</td>\n",
       "      <td>0.2</td>\n",
       "      <td>...</td>\n",
       "      <td>0.002</td>\n",
       "      <td>0.100</td>\n",
       "      <td>0.000</td>\n",
       "      <td>0.050</td>\n",
       "      <td>0.0</td>\n",
       "      <td>0.0</td>\n",
       "      <td>0.0</td>\n",
       "      <td>0.0</td>\n",
       "      <td>0.0</td>\n",
       "      <td>1</td>\n",
       "    </tr>\n",
       "    <tr>\n",
       "      <th>2</th>\n",
       "      <td>0.0</td>\n",
       "      <td>0.00</td>\n",
       "      <td>0.00</td>\n",
       "      <td>0.0</td>\n",
       "      <td>0.54540</td>\n",
       "      <td>0.08314</td>\n",
       "      <td>0</td>\n",
       "      <td>0.0</td>\n",
       "      <td>0.0</td>\n",
       "      <td>0.2</td>\n",
       "      <td>...</td>\n",
       "      <td>0.003</td>\n",
       "      <td>0.100</td>\n",
       "      <td>0.000</td>\n",
       "      <td>0.033</td>\n",
       "      <td>0.0</td>\n",
       "      <td>0.0</td>\n",
       "      <td>0.0</td>\n",
       "      <td>0.0</td>\n",
       "      <td>0.0</td>\n",
       "      <td>1</td>\n",
       "    </tr>\n",
       "    <tr>\n",
       "      <th>3</th>\n",
       "      <td>0.0</td>\n",
       "      <td>0.00</td>\n",
       "      <td>0.00</td>\n",
       "      <td>0.0</td>\n",
       "      <td>0.54540</td>\n",
       "      <td>0.08314</td>\n",
       "      <td>0</td>\n",
       "      <td>0.0</td>\n",
       "      <td>0.0</td>\n",
       "      <td>0.2</td>\n",
       "      <td>...</td>\n",
       "      <td>0.004</td>\n",
       "      <td>0.100</td>\n",
       "      <td>0.000</td>\n",
       "      <td>0.025</td>\n",
       "      <td>0.0</td>\n",
       "      <td>0.0</td>\n",
       "      <td>0.0</td>\n",
       "      <td>0.0</td>\n",
       "      <td>0.0</td>\n",
       "      <td>1</td>\n",
       "    </tr>\n",
       "    <tr>\n",
       "      <th>4</th>\n",
       "      <td>0.0</td>\n",
       "      <td>0.00</td>\n",
       "      <td>0.00</td>\n",
       "      <td>0.0</td>\n",
       "      <td>0.54540</td>\n",
       "      <td>0.08314</td>\n",
       "      <td>0</td>\n",
       "      <td>0.0</td>\n",
       "      <td>0.0</td>\n",
       "      <td>0.2</td>\n",
       "      <td>...</td>\n",
       "      <td>0.005</td>\n",
       "      <td>0.100</td>\n",
       "      <td>0.000</td>\n",
       "      <td>0.020</td>\n",
       "      <td>0.0</td>\n",
       "      <td>0.0</td>\n",
       "      <td>0.0</td>\n",
       "      <td>0.0</td>\n",
       "      <td>0.0</td>\n",
       "      <td>1</td>\n",
       "    </tr>\n",
       "    <tr>\n",
       "      <th>...</th>\n",
       "      <td>...</td>\n",
       "      <td>...</td>\n",
       "      <td>...</td>\n",
       "      <td>...</td>\n",
       "      <td>...</td>\n",
       "      <td>...</td>\n",
       "      <td>...</td>\n",
       "      <td>...</td>\n",
       "      <td>...</td>\n",
       "      <td>...</td>\n",
       "      <td>...</td>\n",
       "      <td>...</td>\n",
       "      <td>...</td>\n",
       "      <td>...</td>\n",
       "      <td>...</td>\n",
       "      <td>...</td>\n",
       "      <td>...</td>\n",
       "      <td>...</td>\n",
       "      <td>...</td>\n",
       "      <td>...</td>\n",
       "      <td>...</td>\n",
       "    </tr>\n",
       "    <tr>\n",
       "      <th>3002</th>\n",
       "      <td>0.0</td>\n",
       "      <td>0.02</td>\n",
       "      <td>0.09</td>\n",
       "      <td>0.0</td>\n",
       "      <td>0.01032</td>\n",
       "      <td>0.00000</td>\n",
       "      <td>0</td>\n",
       "      <td>0.0</td>\n",
       "      <td>0.0</td>\n",
       "      <td>0.0</td>\n",
       "      <td>...</td>\n",
       "      <td>0.251</td>\n",
       "      <td>0.098</td>\n",
       "      <td>0.001</td>\n",
       "      <td>0.098</td>\n",
       "      <td>0.0</td>\n",
       "      <td>0.0</td>\n",
       "      <td>0.0</td>\n",
       "      <td>0.0</td>\n",
       "      <td>0.0</td>\n",
       "      <td>1</td>\n",
       "    </tr>\n",
       "    <tr>\n",
       "      <th>3003</th>\n",
       "      <td>0.0</td>\n",
       "      <td>0.02</td>\n",
       "      <td>0.09</td>\n",
       "      <td>0.0</td>\n",
       "      <td>0.01032</td>\n",
       "      <td>0.00000</td>\n",
       "      <td>0</td>\n",
       "      <td>0.0</td>\n",
       "      <td>0.0</td>\n",
       "      <td>0.0</td>\n",
       "      <td>...</td>\n",
       "      <td>0.252</td>\n",
       "      <td>0.099</td>\n",
       "      <td>0.001</td>\n",
       "      <td>0.099</td>\n",
       "      <td>0.0</td>\n",
       "      <td>0.0</td>\n",
       "      <td>0.0</td>\n",
       "      <td>0.0</td>\n",
       "      <td>0.0</td>\n",
       "      <td>1</td>\n",
       "    </tr>\n",
       "    <tr>\n",
       "      <th>3004</th>\n",
       "      <td>0.0</td>\n",
       "      <td>0.02</td>\n",
       "      <td>0.09</td>\n",
       "      <td>0.0</td>\n",
       "      <td>0.01032</td>\n",
       "      <td>0.00000</td>\n",
       "      <td>0</td>\n",
       "      <td>0.0</td>\n",
       "      <td>0.0</td>\n",
       "      <td>0.0</td>\n",
       "      <td>...</td>\n",
       "      <td>0.253</td>\n",
       "      <td>0.099</td>\n",
       "      <td>0.001</td>\n",
       "      <td>0.099</td>\n",
       "      <td>0.0</td>\n",
       "      <td>0.0</td>\n",
       "      <td>0.0</td>\n",
       "      <td>0.0</td>\n",
       "      <td>0.0</td>\n",
       "      <td>1</td>\n",
       "    </tr>\n",
       "    <tr>\n",
       "      <th>3005</th>\n",
       "      <td>0.0</td>\n",
       "      <td>0.02</td>\n",
       "      <td>0.09</td>\n",
       "      <td>0.0</td>\n",
       "      <td>0.01032</td>\n",
       "      <td>0.00000</td>\n",
       "      <td>0</td>\n",
       "      <td>0.0</td>\n",
       "      <td>0.0</td>\n",
       "      <td>0.0</td>\n",
       "      <td>...</td>\n",
       "      <td>0.254</td>\n",
       "      <td>0.100</td>\n",
       "      <td>0.001</td>\n",
       "      <td>0.100</td>\n",
       "      <td>0.0</td>\n",
       "      <td>0.0</td>\n",
       "      <td>0.0</td>\n",
       "      <td>0.0</td>\n",
       "      <td>0.0</td>\n",
       "      <td>1</td>\n",
       "    </tr>\n",
       "    <tr>\n",
       "      <th>3006</th>\n",
       "      <td>0.0</td>\n",
       "      <td>0.01</td>\n",
       "      <td>0.12</td>\n",
       "      <td>0.0</td>\n",
       "      <td>0.00028</td>\n",
       "      <td>0.00000</td>\n",
       "      <td>0</td>\n",
       "      <td>0.3</td>\n",
       "      <td>0.0</td>\n",
       "      <td>0.0</td>\n",
       "      <td>...</td>\n",
       "      <td>0.001</td>\n",
       "      <td>0.000</td>\n",
       "      <td>0.001</td>\n",
       "      <td>0.000</td>\n",
       "      <td>0.0</td>\n",
       "      <td>0.0</td>\n",
       "      <td>0.0</td>\n",
       "      <td>0.0</td>\n",
       "      <td>0.0</td>\n",
       "      <td>1</td>\n",
       "    </tr>\n",
       "  </tbody>\n",
       "</table>\n",
       "<p>240840 rows × 42 columns</p>\n",
       "</div>"
      ],
      "text/plain": [
       "      duration  protocol_type  service  flag  src_bytes  dst_bytes  land  \\\n",
       "0          0.0           0.00     0.00   0.0    0.54540    0.08314     0   \n",
       "1          0.0           0.00     0.00   0.0    0.54540    0.08314     0   \n",
       "2          0.0           0.00     0.00   0.0    0.54540    0.08314     0   \n",
       "3          0.0           0.00     0.00   0.0    0.54540    0.08314     0   \n",
       "4          0.0           0.00     0.00   0.0    0.54540    0.08314     0   \n",
       "...        ...            ...      ...   ...        ...        ...   ...   \n",
       "3002       0.0           0.02     0.09   0.0    0.01032    0.00000     0   \n",
       "3003       0.0           0.02     0.09   0.0    0.01032    0.00000     0   \n",
       "3004       0.0           0.02     0.09   0.0    0.01032    0.00000     0   \n",
       "3005       0.0           0.02     0.09   0.0    0.01032    0.00000     0   \n",
       "3006       0.0           0.01     0.12   0.0    0.00028    0.00000     0   \n",
       "\n",
       "      wrong_fragment  urgent  hot  ...  dst_host_srv_count  \\\n",
       "0                0.0     0.0  0.2  ...               0.001   \n",
       "1                0.0     0.0  0.2  ...               0.002   \n",
       "2                0.0     0.0  0.2  ...               0.003   \n",
       "3                0.0     0.0  0.2  ...               0.004   \n",
       "4                0.0     0.0  0.2  ...               0.005   \n",
       "...              ...     ...  ...  ...                 ...   \n",
       "3002             0.0     0.0  0.0  ...               0.251   \n",
       "3003             0.0     0.0  0.0  ...               0.252   \n",
       "3004             0.0     0.0  0.0  ...               0.253   \n",
       "3005             0.0     0.0  0.0  ...               0.254   \n",
       "3006             0.3     0.0  0.0  ...               0.001   \n",
       "\n",
       "      dst_host_same_srv_rate  dst_host_diff_srv_rate  \\\n",
       "0                      0.100                   0.000   \n",
       "1                      0.100                   0.000   \n",
       "2                      0.100                   0.000   \n",
       "3                      0.100                   0.000   \n",
       "4                      0.100                   0.000   \n",
       "...                      ...                     ...   \n",
       "3002                   0.098                   0.001   \n",
       "3003                   0.099                   0.001   \n",
       "3004                   0.099                   0.001   \n",
       "3005                   0.100                   0.001   \n",
       "3006                   0.000                   0.001   \n",
       "\n",
       "      dst_host_same_src_port_rate  dst_host_srv_diff_host_rate  \\\n",
       "0                           0.100                          0.0   \n",
       "1                           0.050                          0.0   \n",
       "2                           0.033                          0.0   \n",
       "3                           0.025                          0.0   \n",
       "4                           0.020                          0.0   \n",
       "...                           ...                          ...   \n",
       "3002                        0.098                          0.0   \n",
       "3003                        0.099                          0.0   \n",
       "3004                        0.099                          0.0   \n",
       "3005                        0.100                          0.0   \n",
       "3006                        0.000                          0.0   \n",
       "\n",
       "      dst_host_serror_rate  dst_host_srv_serror_rate  dst_host_rerror_rate  \\\n",
       "0                      0.0                       0.0                   0.0   \n",
       "1                      0.0                       0.0                   0.0   \n",
       "2                      0.0                       0.0                   0.0   \n",
       "3                      0.0                       0.0                   0.0   \n",
       "4                      0.0                       0.0                   0.0   \n",
       "...                    ...                       ...                   ...   \n",
       "3002                   0.0                       0.0                   0.0   \n",
       "3003                   0.0                       0.0                   0.0   \n",
       "3004                   0.0                       0.0                   0.0   \n",
       "3005                   0.0                       0.0                   0.0   \n",
       "3006                   0.0                       0.0                   0.0   \n",
       "\n",
       "      dst_host_srv_rerror_rate  attack  \n",
       "0                          0.0       1  \n",
       "1                          0.0       1  \n",
       "2                          0.0       1  \n",
       "3                          0.0       1  \n",
       "4                          0.0       1  \n",
       "...                        ...     ...  \n",
       "3002                       0.0       1  \n",
       "3003                       0.0       1  \n",
       "3004                       0.0       1  \n",
       "3005                       0.0       1  \n",
       "3006                       0.0       1  \n",
       "\n",
       "[240840 rows x 42 columns]"
      ]
     },
     "execution_count": 20,
     "metadata": {},
     "output_type": "execute_result"
    }
   ],
   "source": [
    "tot_attack"
   ]
  },
  {
   "cell_type": "code",
   "execution_count": 21,
   "metadata": {},
   "outputs": [
    {
     "data": {
      "text/html": [
       "<div>\n",
       "<style scoped>\n",
       "    .dataframe tbody tr th:only-of-type {\n",
       "        vertical-align: middle;\n",
       "    }\n",
       "\n",
       "    .dataframe tbody tr th {\n",
       "        vertical-align: top;\n",
       "    }\n",
       "\n",
       "    .dataframe thead th {\n",
       "        text-align: right;\n",
       "    }\n",
       "</style>\n",
       "<table border=\"1\" class=\"dataframe\">\n",
       "  <thead>\n",
       "    <tr style=\"text-align: right;\">\n",
       "      <th></th>\n",
       "      <th>duration</th>\n",
       "      <th>protocol_type</th>\n",
       "      <th>service</th>\n",
       "      <th>flag</th>\n",
       "      <th>src_bytes</th>\n",
       "      <th>dst_bytes</th>\n",
       "      <th>land</th>\n",
       "      <th>wrong_fragment</th>\n",
       "      <th>urgent</th>\n",
       "      <th>hot</th>\n",
       "      <th>...</th>\n",
       "      <th>dst_host_srv_count</th>\n",
       "      <th>dst_host_same_srv_rate</th>\n",
       "      <th>dst_host_diff_srv_rate</th>\n",
       "      <th>dst_host_same_src_port_rate</th>\n",
       "      <th>dst_host_srv_diff_host_rate</th>\n",
       "      <th>dst_host_serror_rate</th>\n",
       "      <th>dst_host_srv_serror_rate</th>\n",
       "      <th>dst_host_rerror_rate</th>\n",
       "      <th>dst_host_srv_rerror_rate</th>\n",
       "      <th>attack</th>\n",
       "    </tr>\n",
       "  </thead>\n",
       "  <tbody>\n",
       "    <tr>\n",
       "      <th>0</th>\n",
       "      <td>0.0</td>\n",
       "      <td>0.0</td>\n",
       "      <td>0.0</td>\n",
       "      <td>0.0</td>\n",
       "      <td>0.00215</td>\n",
       "      <td>0.45076</td>\n",
       "      <td>0</td>\n",
       "      <td>0</td>\n",
       "      <td>0.0</td>\n",
       "      <td>0.0</td>\n",
       "      <td>...</td>\n",
       "      <td>0.000</td>\n",
       "      <td>0.0</td>\n",
       "      <td>0.0</td>\n",
       "      <td>0.000</td>\n",
       "      <td>0.000</td>\n",
       "      <td>0.0</td>\n",
       "      <td>0.000</td>\n",
       "      <td>0.0</td>\n",
       "      <td>0.0</td>\n",
       "      <td>0</td>\n",
       "    </tr>\n",
       "    <tr>\n",
       "      <th>1</th>\n",
       "      <td>0.0</td>\n",
       "      <td>0.0</td>\n",
       "      <td>0.0</td>\n",
       "      <td>0.0</td>\n",
       "      <td>0.00162</td>\n",
       "      <td>0.04528</td>\n",
       "      <td>0</td>\n",
       "      <td>0</td>\n",
       "      <td>0.0</td>\n",
       "      <td>0.0</td>\n",
       "      <td>...</td>\n",
       "      <td>0.001</td>\n",
       "      <td>0.1</td>\n",
       "      <td>0.0</td>\n",
       "      <td>0.100</td>\n",
       "      <td>0.000</td>\n",
       "      <td>0.0</td>\n",
       "      <td>0.000</td>\n",
       "      <td>0.0</td>\n",
       "      <td>0.0</td>\n",
       "      <td>0</td>\n",
       "    </tr>\n",
       "    <tr>\n",
       "      <th>2</th>\n",
       "      <td>0.0</td>\n",
       "      <td>0.0</td>\n",
       "      <td>0.0</td>\n",
       "      <td>0.0</td>\n",
       "      <td>0.00236</td>\n",
       "      <td>0.01228</td>\n",
       "      <td>0</td>\n",
       "      <td>0</td>\n",
       "      <td>0.0</td>\n",
       "      <td>0.0</td>\n",
       "      <td>...</td>\n",
       "      <td>0.002</td>\n",
       "      <td>0.1</td>\n",
       "      <td>0.0</td>\n",
       "      <td>0.050</td>\n",
       "      <td>0.000</td>\n",
       "      <td>0.0</td>\n",
       "      <td>0.000</td>\n",
       "      <td>0.0</td>\n",
       "      <td>0.0</td>\n",
       "      <td>0</td>\n",
       "    </tr>\n",
       "    <tr>\n",
       "      <th>3</th>\n",
       "      <td>0.0</td>\n",
       "      <td>0.0</td>\n",
       "      <td>0.0</td>\n",
       "      <td>0.0</td>\n",
       "      <td>0.00233</td>\n",
       "      <td>0.02032</td>\n",
       "      <td>0</td>\n",
       "      <td>0</td>\n",
       "      <td>0.0</td>\n",
       "      <td>0.0</td>\n",
       "      <td>...</td>\n",
       "      <td>0.003</td>\n",
       "      <td>0.1</td>\n",
       "      <td>0.0</td>\n",
       "      <td>0.033</td>\n",
       "      <td>0.000</td>\n",
       "      <td>0.0</td>\n",
       "      <td>0.000</td>\n",
       "      <td>0.0</td>\n",
       "      <td>0.0</td>\n",
       "      <td>0</td>\n",
       "    </tr>\n",
       "    <tr>\n",
       "      <th>4</th>\n",
       "      <td>0.0</td>\n",
       "      <td>0.0</td>\n",
       "      <td>0.0</td>\n",
       "      <td>0.0</td>\n",
       "      <td>0.00239</td>\n",
       "      <td>0.00486</td>\n",
       "      <td>0</td>\n",
       "      <td>0</td>\n",
       "      <td>0.0</td>\n",
       "      <td>0.0</td>\n",
       "      <td>...</td>\n",
       "      <td>0.004</td>\n",
       "      <td>0.1</td>\n",
       "      <td>0.0</td>\n",
       "      <td>0.025</td>\n",
       "      <td>0.000</td>\n",
       "      <td>0.0</td>\n",
       "      <td>0.000</td>\n",
       "      <td>0.0</td>\n",
       "      <td>0.0</td>\n",
       "      <td>0</td>\n",
       "    </tr>\n",
       "    <tr>\n",
       "      <th>...</th>\n",
       "      <td>...</td>\n",
       "      <td>...</td>\n",
       "      <td>...</td>\n",
       "      <td>...</td>\n",
       "      <td>...</td>\n",
       "      <td>...</td>\n",
       "      <td>...</td>\n",
       "      <td>...</td>\n",
       "      <td>...</td>\n",
       "      <td>...</td>\n",
       "      <td>...</td>\n",
       "      <td>...</td>\n",
       "      <td>...</td>\n",
       "      <td>...</td>\n",
       "      <td>...</td>\n",
       "      <td>...</td>\n",
       "      <td>...</td>\n",
       "      <td>...</td>\n",
       "      <td>...</td>\n",
       "      <td>...</td>\n",
       "      <td>...</td>\n",
       "    </tr>\n",
       "    <tr>\n",
       "      <th>576705</th>\n",
       "      <td>0.0</td>\n",
       "      <td>0.0</td>\n",
       "      <td>0.0</td>\n",
       "      <td>0.0</td>\n",
       "      <td>0.00206</td>\n",
       "      <td>0.59778</td>\n",
       "      <td>0</td>\n",
       "      <td>0</td>\n",
       "      <td>0.0</td>\n",
       "      <td>0.0</td>\n",
       "      <td>...</td>\n",
       "      <td>0.230</td>\n",
       "      <td>0.1</td>\n",
       "      <td>0.0</td>\n",
       "      <td>0.033</td>\n",
       "      <td>0.008</td>\n",
       "      <td>0.0</td>\n",
       "      <td>0.001</td>\n",
       "      <td>0.0</td>\n",
       "      <td>0.0</td>\n",
       "      <td>0</td>\n",
       "    </tr>\n",
       "    <tr>\n",
       "      <th>576706</th>\n",
       "      <td>0.0</td>\n",
       "      <td>0.0</td>\n",
       "      <td>0.0</td>\n",
       "      <td>0.0</td>\n",
       "      <td>0.00213</td>\n",
       "      <td>0.00660</td>\n",
       "      <td>0</td>\n",
       "      <td>0</td>\n",
       "      <td>0.0</td>\n",
       "      <td>0.0</td>\n",
       "      <td>...</td>\n",
       "      <td>0.230</td>\n",
       "      <td>0.1</td>\n",
       "      <td>0.0</td>\n",
       "      <td>0.025</td>\n",
       "      <td>0.008</td>\n",
       "      <td>0.0</td>\n",
       "      <td>0.001</td>\n",
       "      <td>0.0</td>\n",
       "      <td>0.0</td>\n",
       "      <td>0</td>\n",
       "    </tr>\n",
       "    <tr>\n",
       "      <th>576707</th>\n",
       "      <td>0.0</td>\n",
       "      <td>0.0</td>\n",
       "      <td>0.0</td>\n",
       "      <td>0.0</td>\n",
       "      <td>0.00163</td>\n",
       "      <td>0.04634</td>\n",
       "      <td>0</td>\n",
       "      <td>0</td>\n",
       "      <td>0.0</td>\n",
       "      <td>0.0</td>\n",
       "      <td>...</td>\n",
       "      <td>0.230</td>\n",
       "      <td>0.1</td>\n",
       "      <td>0.0</td>\n",
       "      <td>0.020</td>\n",
       "      <td>0.008</td>\n",
       "      <td>0.0</td>\n",
       "      <td>0.001</td>\n",
       "      <td>0.0</td>\n",
       "      <td>0.0</td>\n",
       "      <td>0</td>\n",
       "    </tr>\n",
       "    <tr>\n",
       "      <th>576708</th>\n",
       "      <td>0.0</td>\n",
       "      <td>0.0</td>\n",
       "      <td>0.0</td>\n",
       "      <td>0.0</td>\n",
       "      <td>0.00212</td>\n",
       "      <td>0.00850</td>\n",
       "      <td>0</td>\n",
       "      <td>0</td>\n",
       "      <td>0.0</td>\n",
       "      <td>0.0</td>\n",
       "      <td>...</td>\n",
       "      <td>0.230</td>\n",
       "      <td>0.1</td>\n",
       "      <td>0.0</td>\n",
       "      <td>0.017</td>\n",
       "      <td>0.008</td>\n",
       "      <td>0.0</td>\n",
       "      <td>0.001</td>\n",
       "      <td>0.0</td>\n",
       "      <td>0.0</td>\n",
       "      <td>0</td>\n",
       "    </tr>\n",
       "    <tr>\n",
       "      <th>576709</th>\n",
       "      <td>0.0</td>\n",
       "      <td>0.0</td>\n",
       "      <td>0.0</td>\n",
       "      <td>0.0</td>\n",
       "      <td>0.00212</td>\n",
       "      <td>0.00719</td>\n",
       "      <td>0</td>\n",
       "      <td>0</td>\n",
       "      <td>0.0</td>\n",
       "      <td>0.0</td>\n",
       "      <td>...</td>\n",
       "      <td>0.230</td>\n",
       "      <td>0.1</td>\n",
       "      <td>0.0</td>\n",
       "      <td>0.014</td>\n",
       "      <td>0.008</td>\n",
       "      <td>0.0</td>\n",
       "      <td>0.001</td>\n",
       "      <td>0.0</td>\n",
       "      <td>0.0</td>\n",
       "      <td>0</td>\n",
       "    </tr>\n",
       "  </tbody>\n",
       "</table>\n",
       "<p>576710 rows × 42 columns</p>\n",
       "</div>"
      ],
      "text/plain": [
       "        duration  protocol_type  service  flag  src_bytes  dst_bytes  land  \\\n",
       "0            0.0            0.0      0.0   0.0    0.00215    0.45076     0   \n",
       "1            0.0            0.0      0.0   0.0    0.00162    0.04528     0   \n",
       "2            0.0            0.0      0.0   0.0    0.00236    0.01228     0   \n",
       "3            0.0            0.0      0.0   0.0    0.00233    0.02032     0   \n",
       "4            0.0            0.0      0.0   0.0    0.00239    0.00486     0   \n",
       "...          ...            ...      ...   ...        ...        ...   ...   \n",
       "576705       0.0            0.0      0.0   0.0    0.00206    0.59778     0   \n",
       "576706       0.0            0.0      0.0   0.0    0.00213    0.00660     0   \n",
       "576707       0.0            0.0      0.0   0.0    0.00163    0.04634     0   \n",
       "576708       0.0            0.0      0.0   0.0    0.00212    0.00850     0   \n",
       "576709       0.0            0.0      0.0   0.0    0.00212    0.00719     0   \n",
       "\n",
       "        wrong_fragment  urgent  hot  ...  dst_host_srv_count  \\\n",
       "0                    0     0.0  0.0  ...               0.000   \n",
       "1                    0     0.0  0.0  ...               0.001   \n",
       "2                    0     0.0  0.0  ...               0.002   \n",
       "3                    0     0.0  0.0  ...               0.003   \n",
       "4                    0     0.0  0.0  ...               0.004   \n",
       "...                ...     ...  ...  ...                 ...   \n",
       "576705               0     0.0  0.0  ...               0.230   \n",
       "576706               0     0.0  0.0  ...               0.230   \n",
       "576707               0     0.0  0.0  ...               0.230   \n",
       "576708               0     0.0  0.0  ...               0.230   \n",
       "576709               0     0.0  0.0  ...               0.230   \n",
       "\n",
       "        dst_host_same_srv_rate  dst_host_diff_srv_rate  \\\n",
       "0                          0.0                     0.0   \n",
       "1                          0.1                     0.0   \n",
       "2                          0.1                     0.0   \n",
       "3                          0.1                     0.0   \n",
       "4                          0.1                     0.0   \n",
       "...                        ...                     ...   \n",
       "576705                     0.1                     0.0   \n",
       "576706                     0.1                     0.0   \n",
       "576707                     0.1                     0.0   \n",
       "576708                     0.1                     0.0   \n",
       "576709                     0.1                     0.0   \n",
       "\n",
       "        dst_host_same_src_port_rate  dst_host_srv_diff_host_rate  \\\n",
       "0                             0.000                        0.000   \n",
       "1                             0.100                        0.000   \n",
       "2                             0.050                        0.000   \n",
       "3                             0.033                        0.000   \n",
       "4                             0.025                        0.000   \n",
       "...                             ...                          ...   \n",
       "576705                        0.033                        0.008   \n",
       "576706                        0.025                        0.008   \n",
       "576707                        0.020                        0.008   \n",
       "576708                        0.017                        0.008   \n",
       "576709                        0.014                        0.008   \n",
       "\n",
       "        dst_host_serror_rate  dst_host_srv_serror_rate  dst_host_rerror_rate  \\\n",
       "0                        0.0                     0.000                   0.0   \n",
       "1                        0.0                     0.000                   0.0   \n",
       "2                        0.0                     0.000                   0.0   \n",
       "3                        0.0                     0.000                   0.0   \n",
       "4                        0.0                     0.000                   0.0   \n",
       "...                      ...                       ...                   ...   \n",
       "576705                   0.0                     0.001                   0.0   \n",
       "576706                   0.0                     0.001                   0.0   \n",
       "576707                   0.0                     0.001                   0.0   \n",
       "576708                   0.0                     0.001                   0.0   \n",
       "576709                   0.0                     0.001                   0.0   \n",
       "\n",
       "        dst_host_srv_rerror_rate  attack  \n",
       "0                            0.0       0  \n",
       "1                            0.0       0  \n",
       "2                            0.0       0  \n",
       "3                            0.0       0  \n",
       "4                            0.0       0  \n",
       "...                          ...     ...  \n",
       "576705                       0.0       0  \n",
       "576706                       0.0       0  \n",
       "576707                       0.0       0  \n",
       "576708                       0.0       0  \n",
       "576709                       0.0       0  \n",
       "\n",
       "[576710 rows x 42 columns]"
      ]
     },
     "execution_count": 21,
     "metadata": {},
     "output_type": "execute_result"
    }
   ],
   "source": [
    "atk_normal"
   ]
  },
  {
   "cell_type": "code",
   "execution_count": 29,
   "metadata": {},
   "outputs": [],
   "source": [
    "from sklearn.utils import resample"
   ]
  },
  {
   "cell_type": "code",
   "execution_count": 30,
   "metadata": {},
   "outputs": [],
   "source": [
    "# We are doing undersampling in this case as we have lot of rows:-\n",
    "und_resample = resample(atk_normal , replace = True , n_samples = len(tot_attack) , random_state = 27)"
   ]
  },
  {
   "cell_type": "code",
   "execution_count": 31,
   "metadata": {},
   "outputs": [],
   "source": [
    "# now we will concat atk_normal and the dataframe we got after undersampling:-\n",
    "\n",
    "atk_normal_final = pd.concat([und_resample , tot_attack] , axis=0).reset_index(drop = True)"
   ]
  },
  {
   "cell_type": "code",
   "execution_count": 32,
   "metadata": {},
   "outputs": [
    {
     "data": {
      "text/html": [
       "<div>\n",
       "<style scoped>\n",
       "    .dataframe tbody tr th:only-of-type {\n",
       "        vertical-align: middle;\n",
       "    }\n",
       "\n",
       "    .dataframe tbody tr th {\n",
       "        vertical-align: top;\n",
       "    }\n",
       "\n",
       "    .dataframe thead th {\n",
       "        text-align: right;\n",
       "    }\n",
       "</style>\n",
       "<table border=\"1\" class=\"dataframe\">\n",
       "  <thead>\n",
       "    <tr style=\"text-align: right;\">\n",
       "      <th></th>\n",
       "      <th>duration</th>\n",
       "      <th>protocol_type</th>\n",
       "      <th>service</th>\n",
       "      <th>flag</th>\n",
       "      <th>src_bytes</th>\n",
       "      <th>dst_bytes</th>\n",
       "      <th>land</th>\n",
       "      <th>wrong_fragment</th>\n",
       "      <th>urgent</th>\n",
       "      <th>hot</th>\n",
       "      <th>...</th>\n",
       "      <th>dst_host_srv_count</th>\n",
       "      <th>dst_host_same_srv_rate</th>\n",
       "      <th>dst_host_diff_srv_rate</th>\n",
       "      <th>dst_host_same_src_port_rate</th>\n",
       "      <th>dst_host_srv_diff_host_rate</th>\n",
       "      <th>dst_host_serror_rate</th>\n",
       "      <th>dst_host_srv_serror_rate</th>\n",
       "      <th>dst_host_rerror_rate</th>\n",
       "      <th>dst_host_srv_rerror_rate</th>\n",
       "      <th>attack</th>\n",
       "    </tr>\n",
       "  </thead>\n",
       "  <tbody>\n",
       "    <tr>\n",
       "      <th>0</th>\n",
       "      <td>0.0</td>\n",
       "      <td>0.00</td>\n",
       "      <td>0.00</td>\n",
       "      <td>0.00</td>\n",
       "      <td>0.00176</td>\n",
       "      <td>0.00000</td>\n",
       "      <td>0</td>\n",
       "      <td>0.0</td>\n",
       "      <td>0.0</td>\n",
       "      <td>0.0</td>\n",
       "      <td>...</td>\n",
       "      <td>0.255</td>\n",
       "      <td>0.100</td>\n",
       "      <td>0.000</td>\n",
       "      <td>0.017</td>\n",
       "      <td>0.011</td>\n",
       "      <td>0.0</td>\n",
       "      <td>0.0</td>\n",
       "      <td>0.083</td>\n",
       "      <td>0.075</td>\n",
       "      <td>0</td>\n",
       "    </tr>\n",
       "    <tr>\n",
       "      <th>1</th>\n",
       "      <td>0.0</td>\n",
       "      <td>0.00</td>\n",
       "      <td>0.00</td>\n",
       "      <td>0.00</td>\n",
       "      <td>0.00237</td>\n",
       "      <td>0.05741</td>\n",
       "      <td>0</td>\n",
       "      <td>0.0</td>\n",
       "      <td>0.0</td>\n",
       "      <td>0.0</td>\n",
       "      <td>...</td>\n",
       "      <td>0.255</td>\n",
       "      <td>0.100</td>\n",
       "      <td>0.000</td>\n",
       "      <td>0.100</td>\n",
       "      <td>0.003</td>\n",
       "      <td>0.0</td>\n",
       "      <td>0.0</td>\n",
       "      <td>0.000</td>\n",
       "      <td>0.000</td>\n",
       "      <td>0</td>\n",
       "    </tr>\n",
       "    <tr>\n",
       "      <th>2</th>\n",
       "      <td>0.0</td>\n",
       "      <td>0.00</td>\n",
       "      <td>0.00</td>\n",
       "      <td>0.00</td>\n",
       "      <td>0.00310</td>\n",
       "      <td>0.00382</td>\n",
       "      <td>0</td>\n",
       "      <td>0.0</td>\n",
       "      <td>0.0</td>\n",
       "      <td>0.0</td>\n",
       "      <td>...</td>\n",
       "      <td>0.255</td>\n",
       "      <td>0.100</td>\n",
       "      <td>0.000</td>\n",
       "      <td>0.000</td>\n",
       "      <td>0.000</td>\n",
       "      <td>0.0</td>\n",
       "      <td>0.0</td>\n",
       "      <td>0.000</td>\n",
       "      <td>0.000</td>\n",
       "      <td>0</td>\n",
       "    </tr>\n",
       "    <tr>\n",
       "      <th>3</th>\n",
       "      <td>0.0</td>\n",
       "      <td>0.00</td>\n",
       "      <td>0.00</td>\n",
       "      <td>0.00</td>\n",
       "      <td>0.00192</td>\n",
       "      <td>0.02865</td>\n",
       "      <td>0</td>\n",
       "      <td>0.0</td>\n",
       "      <td>0.0</td>\n",
       "      <td>0.0</td>\n",
       "      <td>...</td>\n",
       "      <td>0.255</td>\n",
       "      <td>0.100</td>\n",
       "      <td>0.000</td>\n",
       "      <td>0.001</td>\n",
       "      <td>0.001</td>\n",
       "      <td>0.0</td>\n",
       "      <td>0.0</td>\n",
       "      <td>0.000</td>\n",
       "      <td>0.000</td>\n",
       "      <td>0</td>\n",
       "    </tr>\n",
       "    <tr>\n",
       "      <th>4</th>\n",
       "      <td>0.0</td>\n",
       "      <td>0.00</td>\n",
       "      <td>0.00</td>\n",
       "      <td>0.05</td>\n",
       "      <td>0.00000</td>\n",
       "      <td>0.00000</td>\n",
       "      <td>0</td>\n",
       "      <td>0.0</td>\n",
       "      <td>0.0</td>\n",
       "      <td>0.0</td>\n",
       "      <td>...</td>\n",
       "      <td>0.255</td>\n",
       "      <td>0.100</td>\n",
       "      <td>0.000</td>\n",
       "      <td>0.100</td>\n",
       "      <td>0.008</td>\n",
       "      <td>0.0</td>\n",
       "      <td>0.0</td>\n",
       "      <td>0.100</td>\n",
       "      <td>0.100</td>\n",
       "      <td>0</td>\n",
       "    </tr>\n",
       "    <tr>\n",
       "      <th>...</th>\n",
       "      <td>...</td>\n",
       "      <td>...</td>\n",
       "      <td>...</td>\n",
       "      <td>...</td>\n",
       "      <td>...</td>\n",
       "      <td>...</td>\n",
       "      <td>...</td>\n",
       "      <td>...</td>\n",
       "      <td>...</td>\n",
       "      <td>...</td>\n",
       "      <td>...</td>\n",
       "      <td>...</td>\n",
       "      <td>...</td>\n",
       "      <td>...</td>\n",
       "      <td>...</td>\n",
       "      <td>...</td>\n",
       "      <td>...</td>\n",
       "      <td>...</td>\n",
       "      <td>...</td>\n",
       "      <td>...</td>\n",
       "      <td>...</td>\n",
       "    </tr>\n",
       "    <tr>\n",
       "      <th>481675</th>\n",
       "      <td>0.0</td>\n",
       "      <td>0.02</td>\n",
       "      <td>0.09</td>\n",
       "      <td>0.00</td>\n",
       "      <td>0.01032</td>\n",
       "      <td>0.00000</td>\n",
       "      <td>0</td>\n",
       "      <td>0.0</td>\n",
       "      <td>0.0</td>\n",
       "      <td>0.0</td>\n",
       "      <td>...</td>\n",
       "      <td>0.251</td>\n",
       "      <td>0.098</td>\n",
       "      <td>0.001</td>\n",
       "      <td>0.098</td>\n",
       "      <td>0.000</td>\n",
       "      <td>0.0</td>\n",
       "      <td>0.0</td>\n",
       "      <td>0.000</td>\n",
       "      <td>0.000</td>\n",
       "      <td>1</td>\n",
       "    </tr>\n",
       "    <tr>\n",
       "      <th>481676</th>\n",
       "      <td>0.0</td>\n",
       "      <td>0.02</td>\n",
       "      <td>0.09</td>\n",
       "      <td>0.00</td>\n",
       "      <td>0.01032</td>\n",
       "      <td>0.00000</td>\n",
       "      <td>0</td>\n",
       "      <td>0.0</td>\n",
       "      <td>0.0</td>\n",
       "      <td>0.0</td>\n",
       "      <td>...</td>\n",
       "      <td>0.252</td>\n",
       "      <td>0.099</td>\n",
       "      <td>0.001</td>\n",
       "      <td>0.099</td>\n",
       "      <td>0.000</td>\n",
       "      <td>0.0</td>\n",
       "      <td>0.0</td>\n",
       "      <td>0.000</td>\n",
       "      <td>0.000</td>\n",
       "      <td>1</td>\n",
       "    </tr>\n",
       "    <tr>\n",
       "      <th>481677</th>\n",
       "      <td>0.0</td>\n",
       "      <td>0.02</td>\n",
       "      <td>0.09</td>\n",
       "      <td>0.00</td>\n",
       "      <td>0.01032</td>\n",
       "      <td>0.00000</td>\n",
       "      <td>0</td>\n",
       "      <td>0.0</td>\n",
       "      <td>0.0</td>\n",
       "      <td>0.0</td>\n",
       "      <td>...</td>\n",
       "      <td>0.253</td>\n",
       "      <td>0.099</td>\n",
       "      <td>0.001</td>\n",
       "      <td>0.099</td>\n",
       "      <td>0.000</td>\n",
       "      <td>0.0</td>\n",
       "      <td>0.0</td>\n",
       "      <td>0.000</td>\n",
       "      <td>0.000</td>\n",
       "      <td>1</td>\n",
       "    </tr>\n",
       "    <tr>\n",
       "      <th>481678</th>\n",
       "      <td>0.0</td>\n",
       "      <td>0.02</td>\n",
       "      <td>0.09</td>\n",
       "      <td>0.00</td>\n",
       "      <td>0.01032</td>\n",
       "      <td>0.00000</td>\n",
       "      <td>0</td>\n",
       "      <td>0.0</td>\n",
       "      <td>0.0</td>\n",
       "      <td>0.0</td>\n",
       "      <td>...</td>\n",
       "      <td>0.254</td>\n",
       "      <td>0.100</td>\n",
       "      <td>0.001</td>\n",
       "      <td>0.100</td>\n",
       "      <td>0.000</td>\n",
       "      <td>0.0</td>\n",
       "      <td>0.0</td>\n",
       "      <td>0.000</td>\n",
       "      <td>0.000</td>\n",
       "      <td>1</td>\n",
       "    </tr>\n",
       "    <tr>\n",
       "      <th>481679</th>\n",
       "      <td>0.0</td>\n",
       "      <td>0.01</td>\n",
       "      <td>0.12</td>\n",
       "      <td>0.00</td>\n",
       "      <td>0.00028</td>\n",
       "      <td>0.00000</td>\n",
       "      <td>0</td>\n",
       "      <td>0.3</td>\n",
       "      <td>0.0</td>\n",
       "      <td>0.0</td>\n",
       "      <td>...</td>\n",
       "      <td>0.001</td>\n",
       "      <td>0.000</td>\n",
       "      <td>0.001</td>\n",
       "      <td>0.000</td>\n",
       "      <td>0.000</td>\n",
       "      <td>0.0</td>\n",
       "      <td>0.0</td>\n",
       "      <td>0.000</td>\n",
       "      <td>0.000</td>\n",
       "      <td>1</td>\n",
       "    </tr>\n",
       "  </tbody>\n",
       "</table>\n",
       "<p>481680 rows × 42 columns</p>\n",
       "</div>"
      ],
      "text/plain": [
       "        duration  protocol_type  service  flag  src_bytes  dst_bytes  land  \\\n",
       "0            0.0           0.00     0.00  0.00    0.00176    0.00000     0   \n",
       "1            0.0           0.00     0.00  0.00    0.00237    0.05741     0   \n",
       "2            0.0           0.00     0.00  0.00    0.00310    0.00382     0   \n",
       "3            0.0           0.00     0.00  0.00    0.00192    0.02865     0   \n",
       "4            0.0           0.00     0.00  0.05    0.00000    0.00000     0   \n",
       "...          ...            ...      ...   ...        ...        ...   ...   \n",
       "481675       0.0           0.02     0.09  0.00    0.01032    0.00000     0   \n",
       "481676       0.0           0.02     0.09  0.00    0.01032    0.00000     0   \n",
       "481677       0.0           0.02     0.09  0.00    0.01032    0.00000     0   \n",
       "481678       0.0           0.02     0.09  0.00    0.01032    0.00000     0   \n",
       "481679       0.0           0.01     0.12  0.00    0.00028    0.00000     0   \n",
       "\n",
       "        wrong_fragment  urgent  hot  ...  dst_host_srv_count  \\\n",
       "0                  0.0     0.0  0.0  ...               0.255   \n",
       "1                  0.0     0.0  0.0  ...               0.255   \n",
       "2                  0.0     0.0  0.0  ...               0.255   \n",
       "3                  0.0     0.0  0.0  ...               0.255   \n",
       "4                  0.0     0.0  0.0  ...               0.255   \n",
       "...                ...     ...  ...  ...                 ...   \n",
       "481675             0.0     0.0  0.0  ...               0.251   \n",
       "481676             0.0     0.0  0.0  ...               0.252   \n",
       "481677             0.0     0.0  0.0  ...               0.253   \n",
       "481678             0.0     0.0  0.0  ...               0.254   \n",
       "481679             0.3     0.0  0.0  ...               0.001   \n",
       "\n",
       "        dst_host_same_srv_rate  dst_host_diff_srv_rate  \\\n",
       "0                        0.100                   0.000   \n",
       "1                        0.100                   0.000   \n",
       "2                        0.100                   0.000   \n",
       "3                        0.100                   0.000   \n",
       "4                        0.100                   0.000   \n",
       "...                        ...                     ...   \n",
       "481675                   0.098                   0.001   \n",
       "481676                   0.099                   0.001   \n",
       "481677                   0.099                   0.001   \n",
       "481678                   0.100                   0.001   \n",
       "481679                   0.000                   0.001   \n",
       "\n",
       "        dst_host_same_src_port_rate  dst_host_srv_diff_host_rate  \\\n",
       "0                             0.017                        0.011   \n",
       "1                             0.100                        0.003   \n",
       "2                             0.000                        0.000   \n",
       "3                             0.001                        0.001   \n",
       "4                             0.100                        0.008   \n",
       "...                             ...                          ...   \n",
       "481675                        0.098                        0.000   \n",
       "481676                        0.099                        0.000   \n",
       "481677                        0.099                        0.000   \n",
       "481678                        0.100                        0.000   \n",
       "481679                        0.000                        0.000   \n",
       "\n",
       "        dst_host_serror_rate  dst_host_srv_serror_rate  dst_host_rerror_rate  \\\n",
       "0                        0.0                       0.0                 0.083   \n",
       "1                        0.0                       0.0                 0.000   \n",
       "2                        0.0                       0.0                 0.000   \n",
       "3                        0.0                       0.0                 0.000   \n",
       "4                        0.0                       0.0                 0.100   \n",
       "...                      ...                       ...                   ...   \n",
       "481675                   0.0                       0.0                 0.000   \n",
       "481676                   0.0                       0.0                 0.000   \n",
       "481677                   0.0                       0.0                 0.000   \n",
       "481678                   0.0                       0.0                 0.000   \n",
       "481679                   0.0                       0.0                 0.000   \n",
       "\n",
       "        dst_host_srv_rerror_rate  attack  \n",
       "0                          0.075       0  \n",
       "1                          0.000       0  \n",
       "2                          0.000       0  \n",
       "3                          0.000       0  \n",
       "4                          0.100       0  \n",
       "...                          ...     ...  \n",
       "481675                     0.000       1  \n",
       "481676                     0.000       1  \n",
       "481677                     0.000       1  \n",
       "481678                     0.000       1  \n",
       "481679                     0.000       1  \n",
       "\n",
       "[481680 rows x 42 columns]"
      ]
     },
     "execution_count": 32,
     "metadata": {},
     "output_type": "execute_result"
    }
   ],
   "source": [
    "atk_normal_final"
   ]
  },
  {
   "cell_type": "markdown",
   "metadata": {},
   "source": [
    "# PRE MODELING"
   ]
  },
  {
   "cell_type": "markdown",
   "metadata": {},
   "source": [
    "# MODELING"
   ]
  },
  {
   "cell_type": "markdown",
   "metadata": {},
   "source": [
    "### Data Preparation Level I"
   ]
  },
  {
   "cell_type": "markdown",
   "metadata": {},
   "source": [
    "##### Type Casting"
   ]
  },
  {
   "cell_type": "code",
   "execution_count": 33,
   "metadata": {},
   "outputs": [],
   "source": [
    "atk_normal_final['protocol_type'] = atk_normal_final['protocol_type'].astype('object') "
   ]
  },
  {
   "cell_type": "code",
   "execution_count": 34,
   "metadata": {},
   "outputs": [],
   "source": [
    "atk_normal_final['service'] = atk_normal_final['service'].astype('object') "
   ]
  },
  {
   "cell_type": "code",
   "execution_count": 35,
   "metadata": {},
   "outputs": [],
   "source": [
    "atk_normal_final['flag'] = atk_normal_final['flag'].astype('object')"
   ]
  },
  {
   "cell_type": "code",
   "execution_count": 36,
   "metadata": {},
   "outputs": [
    {
     "data": {
      "text/plain": [
       "duration                       0\n",
       "protocol_type                  0\n",
       "service                        0\n",
       "flag                           0\n",
       "src_bytes                      0\n",
       "dst_bytes                      0\n",
       "land                           0\n",
       "wrong_fragment                 0\n",
       "urgent                         0\n",
       "hot                            0\n",
       "num_failed_logins              0\n",
       "logged_in                      0\n",
       "num_compromised                0\n",
       "root_shell                     0\n",
       "su_attempted                   0\n",
       "num_root                       0\n",
       "num_file_creations             0\n",
       "num_shells                     0\n",
       "num_access_files               0\n",
       "num_outbound_cmds              0\n",
       "is_host_login                  0\n",
       "is_guest_login                 0\n",
       "count                          0\n",
       "srv_count                      0\n",
       "serror_rate                    0\n",
       "srv_error_rate                 0\n",
       "rerror_rate                    0\n",
       "srv_rerror_rate                0\n",
       "same_srv_rate                  0\n",
       "diff_srv_rate                  0\n",
       "srv_diff_host_rate             0\n",
       "dst_host_count                 0\n",
       "dst_host_srv_count             0\n",
       "dst_host_same_srv_rate         0\n",
       "dst_host_diff_srv_rate         0\n",
       "dst_host_same_src_port_rate    0\n",
       "dst_host_srv_diff_host_rate    0\n",
       "dst_host_serror_rate           0\n",
       "dst_host_srv_serror_rate       0\n",
       "dst_host_rerror_rate           0\n",
       "dst_host_srv_rerror_rate       0\n",
       "attack                         0\n",
       "dtype: int64"
      ]
     },
     "execution_count": 36,
     "metadata": {},
     "output_type": "execute_result"
    }
   ],
   "source": [
    "# As we can see in this code that our dataset does not have any missing values.\n",
    "atk_normal_final.isna().sum()"
   ]
  },
  {
   "cell_type": "markdown",
   "metadata": {},
   "source": [
    "#### Split the data in numerical and categorical"
   ]
  },
  {
   "cell_type": "code",
   "execution_count": 37,
   "metadata": {},
   "outputs": [],
   "source": [
    "num_col = [key for key in dict(atk_normal_final.dtypes) if dict(atk_normal_final.dtypes)[key] in ['float64', 'int64', 'float32', 'int32']]\n",
    "cat_col = [key for key in dict(atk_normal_final.dtypes) if dict(atk_normal_final.dtypes)[key] in ['object']]"
   ]
  },
  {
   "cell_type": "code",
   "execution_count": 38,
   "metadata": {},
   "outputs": [],
   "source": [
    "atk_normal_final_num = atk_normal_final[num_col]"
   ]
  },
  {
   "cell_type": "code",
   "execution_count": 39,
   "metadata": {},
   "outputs": [],
   "source": [
    "atk_normal_final_cat = atk_normal_final[cat_col]"
   ]
  },
  {
   "cell_type": "code",
   "execution_count": 40,
   "metadata": {},
   "outputs": [],
   "source": [
    "atk_normal_final_Y = atk_normal_final['attack']"
   ]
  },
  {
   "cell_type": "code",
   "execution_count": 41,
   "metadata": {},
   "outputs": [],
   "source": [
    "# we'll remove the attack variable from numerical datframe\n",
    "del atk_normal_final_num['attack']"
   ]
  },
  {
   "cell_type": "markdown",
   "metadata": {},
   "source": [
    "#### Missing  Value and Outlier Treatment on the Numerical Columns"
   ]
  },
  {
   "cell_type": "code",
   "execution_count": 42,
   "metadata": {},
   "outputs": [],
   "source": [
    "def outliers(y):\n",
    "    y = y.clip(upper = y.quantile(0.95))\n",
    "    y = y.clip(lower = y.quantile(0.05))\n",
    "    return(y)"
   ]
  },
  {
   "cell_type": "code",
   "execution_count": 43,
   "metadata": {},
   "outputs": [
    {
     "data": {
      "text/plain": [
       "duration                       0\n",
       "src_bytes                      0\n",
       "dst_bytes                      0\n",
       "land                           0\n",
       "wrong_fragment                 0\n",
       "urgent                         0\n",
       "hot                            0\n",
       "num_failed_logins              0\n",
       "logged_in                      0\n",
       "num_compromised                0\n",
       "root_shell                     0\n",
       "su_attempted                   0\n",
       "num_root                       0\n",
       "num_file_creations             0\n",
       "num_shells                     0\n",
       "num_access_files               0\n",
       "num_outbound_cmds              0\n",
       "is_host_login                  0\n",
       "is_guest_login                 0\n",
       "count                          0\n",
       "srv_count                      0\n",
       "serror_rate                    0\n",
       "srv_error_rate                 0\n",
       "rerror_rate                    0\n",
       "srv_rerror_rate                0\n",
       "same_srv_rate                  0\n",
       "diff_srv_rate                  0\n",
       "srv_diff_host_rate             0\n",
       "dst_host_count                 0\n",
       "dst_host_srv_count             0\n",
       "dst_host_same_srv_rate         0\n",
       "dst_host_diff_srv_rate         0\n",
       "dst_host_same_src_port_rate    0\n",
       "dst_host_srv_diff_host_rate    0\n",
       "dst_host_serror_rate           0\n",
       "dst_host_srv_serror_rate       0\n",
       "dst_host_rerror_rate           0\n",
       "dst_host_srv_rerror_rate       0\n",
       "dtype: int64"
      ]
     },
     "execution_count": 43,
     "metadata": {},
     "output_type": "execute_result"
    }
   ],
   "source": [
    "# There are no missing value in this dataframe\n",
    "atk_normal_final_num.isna().sum()"
   ]
  },
  {
   "cell_type": "code",
   "execution_count": 44,
   "metadata": {},
   "outputs": [
    {
     "data": {
      "text/plain": [
       "<AxesSubplot:>"
      ]
     },
     "execution_count": 44,
     "metadata": {},
     "output_type": "execute_result"
    },
    {
     "data": {
      "image/png": "[encoded data removed]",
      "text/plain": [
       "<Figure size 432x288 with 1 Axes>"
      ]
     },
     "metadata": {
      "needs_background": "light"
     },
     "output_type": "display_data"
    }
   ],
   "source": [
    "atk_normal_final_num.plot(kind = 'box')"
   ]
  },
  {
   "cell_type": "code",
   "execution_count": 47,
   "metadata": {},
   "outputs": [],
   "source": [
    "atk_normal_final_num_cln = atk_normal_final_num.apply(outliers)"
   ]
  },
  {
   "cell_type": "code",
   "execution_count": 49,
   "metadata": {},
   "outputs": [
    {
     "data": {
      "text/plain": [
       "<AxesSubplot:>"
      ]
     },
     "execution_count": 49,
     "metadata": {},
     "output_type": "execute_result"
    },
    {
     "data": {
      "image/png": "[encoded data removed]",
      "text/plain": [
       "<Figure size 432x288 with 1 Axes>"
      ]
     },
     "metadata": {
      "needs_background": "light"
     },
     "output_type": "display_data"
    }
   ],
   "source": [
    "atk_normal_final_num_cln.plot(kind = 'box')"
   ]
  },
  {
   "cell_type": "markdown",
   "metadata": {},
   "source": [
    "#### Missing  Value on the Categorical Columns"
   ]
  },
  {
   "cell_type": "code",
   "execution_count": 50,
   "metadata": {},
   "outputs": [
    {
     "data": {
      "text/plain": [
       "protocol_type    0\n",
       "service          0\n",
       "flag             0\n",
       "dtype: int64"
      ]
     },
     "execution_count": 50,
     "metadata": {},
     "output_type": "execute_result"
    }
   ],
   "source": [
    "atk_normal_final_cat.isna().sum()"
   ]
  },
  {
   "cell_type": "code",
   "execution_count": 51,
   "metadata": {},
   "outputs": [
    {
     "data": {
      "text/plain": [
       "0"
      ]
     },
     "execution_count": 51,
     "metadata": {},
     "output_type": "execute_result"
    }
   ],
   "source": [
    "atk_normal_final_Y.isna().sum()"
   ]
  },
  {
   "cell_type": "code",
   "execution_count": 52,
   "metadata": {},
   "outputs": [],
   "source": [
    "atk_normal_final_cat_cln_w_dummies = pd.get_dummies(atk_normal_final_cat , drop_first=True)"
   ]
  },
  {
   "cell_type": "code",
   "execution_count": 53,
   "metadata": {},
   "outputs": [
    {
     "data": {
      "text/plain": [
       "(481680, 78)"
      ]
     },
     "execution_count": 53,
     "metadata": {},
     "output_type": "execute_result"
    }
   ],
   "source": [
    "atk_normal_final_cat_cln_w_dummies.shape"
   ]
  },
  {
   "cell_type": "code",
   "execution_count": 54,
   "metadata": {},
   "outputs": [
    {
     "data": {
      "text/plain": [
       "481680"
      ]
     },
     "execution_count": 54,
     "metadata": {},
     "output_type": "execute_result"
    }
   ],
   "source": [
    "len(atk_normal_final_Y)"
   ]
  },
  {
   "cell_type": "code",
   "execution_count": 55,
   "metadata": {},
   "outputs": [
    {
     "data": {
      "text/plain": [
       "(481680, 38)"
      ]
     },
     "execution_count": 55,
     "metadata": {},
     "output_type": "execute_result"
    }
   ],
   "source": [
    "atk_normal_final_num_cln.shape"
   ]
  },
  {
   "cell_type": "code",
   "execution_count": 56,
   "metadata": {},
   "outputs": [],
   "source": [
    "# Now we will concatinate all the Data frames to make one final dataframe to do our further operations.\n",
    "atk_normal_cleaned = pd.concat([atk_normal_final_cat_cln_w_dummies , atk_normal_final_num_cln , atk_normal_final_Y] , axis = 1)"
   ]
  },
  {
   "cell_type": "code",
   "execution_count": 57,
   "metadata": {},
   "outputs": [
    {
     "data": {
      "text/plain": [
       "(481680, 117)"
      ]
     },
     "execution_count": 57,
     "metadata": {},
     "output_type": "execute_result"
    }
   ],
   "source": [
    "atk_normal_cleaned.shape"
   ]
  },
  {
   "cell_type": "code",
   "execution_count": 58,
   "metadata": {},
   "outputs": [
    {
     "data": {
      "text/plain": [
       "protocol_type_0.01          0\n",
       "protocol_type_0.02          0\n",
       "service_0.01                0\n",
       "service_0.02                0\n",
       "service_0.03                0\n",
       "                           ..\n",
       "dst_host_serror_rate        0\n",
       "dst_host_srv_serror_rate    0\n",
       "dst_host_rerror_rate        0\n",
       "dst_host_srv_rerror_rate    0\n",
       "attack                      0\n",
       "Length: 117, dtype: int64"
      ]
     },
     "execution_count": 58,
     "metadata": {},
     "output_type": "execute_result"
    }
   ],
   "source": [
    "atk_normal_cleaned.isna().sum()"
   ]
  },
  {
   "cell_type": "markdown",
   "metadata": {},
   "source": [
    "##############################################################\n",
    "\n",
    "- Till this point our dataset is clean because:-\n",
    "    - No Missing\n",
    "    - No Outliers (Mild Outliers)\n",
    "    - No Variables with incorrect data type"
   ]
  },
  {
   "cell_type": "markdown",
   "metadata": {},
   "source": [
    "### RFE"
   ]
  },
  {
   "cell_type": "code",
   "execution_count": 79,
   "metadata": {},
   "outputs": [],
   "source": [
    "from sklearn.feature_selection import RFE"
   ]
  },
  {
   "cell_type": "code",
   "execution_count": 80,
   "metadata": {},
   "outputs": [],
   "source": [
    "from sklearn.linear_model import LinearRegression"
   ]
  },
  {
   "cell_type": "code",
   "execution_count": 81,
   "metadata": {},
   "outputs": [],
   "source": [
    "target = atk_normal_cleaned['attack']"
   ]
  },
  {
   "cell_type": "code",
   "execution_count": 82,
   "metadata": {},
   "outputs": [],
   "source": [
    "features = atk_normal_cleaned[atk_normal_cleaned.columns.difference(['attack'])]"
   ]
  },
  {
   "cell_type": "code",
   "execution_count": 83,
   "metadata": {},
   "outputs": [],
   "source": [
    "### Initlaize the Linear Regression Model\n",
    "\n",
    "lm = LinearRegression()"
   ]
  },
  {
   "cell_type": "code",
   "execution_count": 88,
   "metadata": {},
   "outputs": [],
   "source": [
    "### Initlalzing the RFE Model\n",
    "\n",
    "rfe = RFE(lm, n_features_to_select=20)"
   ]
  },
  {
   "cell_type": "code",
   "execution_count": 89,
   "metadata": {},
   "outputs": [],
   "source": [
    "## Fit the RFE Model\n",
    "\n",
    "rfe = rfe.fit(features, target)"
   ]
  },
  {
   "cell_type": "code",
   "execution_count": 90,
   "metadata": {},
   "outputs": [],
   "source": [
    "RFE_imp_vars = features.columns[rfe.get_support()]"
   ]
  },
  {
   "cell_type": "code",
   "execution_count": 95,
   "metadata": {},
   "outputs": [
    {
     "data": {
      "text/plain": [
       "['diff_srv_rate',\n",
       " 'dst_host_srv_diff_host_rate',\n",
       " 'dst_host_srv_serror_rate',\n",
       " 'duration',\n",
       " 'hot',\n",
       " 'is_guest_login',\n",
       " 'is_host_login',\n",
       " 'land',\n",
       " 'num_access_files',\n",
       " 'num_compromised',\n",
       " 'num_failed_logins',\n",
       " 'protocol_type_0.02',\n",
       " 'same_srv_rate',\n",
       " 'service_0.06',\n",
       " 'service_0.09',\n",
       " 'service_0.11',\n",
       " 'service_0.62',\n",
       " 'src_bytes',\n",
       " 'srv_error_rate',\n",
       " 'srv_rerror_rate']"
      ]
     },
     "execution_count": 95,
     "metadata": {},
     "output_type": "execute_result"
    }
   ],
   "source": [
    "list(RFE_imp_vars)"
   ]
  },
  {
   "cell_type": "markdown",
   "metadata": {},
   "source": [
    "### K Best"
   ]
  },
  {
   "cell_type": "code",
   "execution_count": 96,
   "metadata": {},
   "outputs": [],
   "source": [
    "from sklearn.feature_selection import SelectKBest, f_classif, chi2"
   ]
  },
  {
   "cell_type": "code",
   "execution_count": 97,
   "metadata": {},
   "outputs": [],
   "source": [
    "## Initalize the K Best Model\n",
    "\n",
    "selector = SelectKBest(f_classif, k=20)"
   ]
  },
  {
   "cell_type": "code",
   "execution_count": 98,
   "metadata": {},
   "outputs": [
    {
     "name": "stderr",
     "output_type": "stream",
     "text": [
      "C:\\Users\\akhil\\anaconda3\\lib\\site-packages\\sklearn\\feature_selection\\_univariate_selection.py:114: UserWarning: Features [ 13  24  25  26  27  29  30  31  32  33  34  35  39 113 114 115] are constant.\n",
      "  warnings.warn(\"Features %s are constant.\" % constant_features_idx,\n",
      "C:\\Users\\akhil\\anaconda3\\lib\\site-packages\\sklearn\\feature_selection\\_univariate_selection.py:116: RuntimeWarning: invalid value encountered in true_divide\n",
      "  f = msb / msw\n"
     ]
    },
    {
     "data": {
      "text/plain": [
       "SelectKBest(k=20)"
      ]
     },
     "execution_count": 98,
     "metadata": {},
     "output_type": "execute_result"
    }
   ],
   "source": [
    "### Fit the model\n",
    "\n",
    "selector.fit(features, target)"
   ]
  },
  {
   "cell_type": "code",
   "execution_count": 99,
   "metadata": {},
   "outputs": [],
   "source": [
    "k_best_20 = features.columns[selector.get_support()]"
   ]
  },
  {
   "cell_type": "code",
   "execution_count": 100,
   "metadata": {},
   "outputs": [
    {
     "data": {
      "text/plain": [
       "['count',\n",
       " 'diff_srv_rate',\n",
       " 'dst_bytes',\n",
       " 'dst_host_count',\n",
       " 'dst_host_diff_srv_rate',\n",
       " 'dst_host_same_src_port_rate',\n",
       " 'dst_host_same_srv_rate',\n",
       " 'dst_host_serror_rate',\n",
       " 'dst_host_srv_count',\n",
       " 'dst_host_srv_diff_host_rate',\n",
       " 'dst_host_srv_serror_rate',\n",
       " 'flag_0.07',\n",
       " 'logged_in',\n",
       " 'rerror_rate',\n",
       " 'same_srv_rate',\n",
       " 'serror_rate',\n",
       " 'service_0.12',\n",
       " 'src_bytes',\n",
       " 'srv_diff_host_rate',\n",
       " 'srv_error_rate']"
      ]
     },
     "execution_count": 100,
     "metadata": {},
     "output_type": "execute_result"
    }
   ],
   "source": [
    "list(k_best_20)"
   ]
  },
  {
   "cell_type": "code",
   "execution_count": 101,
   "metadata": {},
   "outputs": [],
   "source": [
    "selected_vars = {'diff_srv_rate',\n",
    " 'dst_host_srv_diff_host_rate',\n",
    " 'dst_host_srv_serror_rate',\n",
    " 'duration',\n",
    " 'hot',\n",
    " 'is_guest_login',\n",
    " 'is_host_login',\n",
    " 'land',\n",
    " 'num_access_files',\n",
    " 'num_compromised',\n",
    " 'num_failed_logins',\n",
    " 'protocol_type_0.02',\n",
    " 'same_srv_rate',\n",
    " 'service_0.06',\n",
    " 'service_0.09',\n",
    " 'service_0.11',\n",
    " 'service_0.62',\n",
    " 'src_bytes',\n",
    " 'srv_error_rate',\n",
    " 'srv_rerror_rate',\n",
    "    'count',\n",
    " 'diff_srv_rate',\n",
    " 'dst_bytes',\n",
    " 'dst_host_count',\n",
    " 'dst_host_diff_srv_rate',\n",
    " 'dst_host_same_src_port_rate',\n",
    " 'dst_host_same_srv_rate',\n",
    " 'dst_host_serror_rate',\n",
    " 'dst_host_srv_count',\n",
    " 'dst_host_srv_diff_host_rate',\n",
    " 'dst_host_srv_serror_rate',\n",
    " 'flag_0.07',\n",
    " 'logged_in',\n",
    " 'rerror_rate',\n",
    " 'same_srv_rate',\n",
    " 'serror_rate',\n",
    " 'service_0.12',\n",
    " 'src_bytes',\n",
    " 'srv_diff_host_rate',\n",
    " 'srv_error_rate'}\n",
    " "
   ]
  },
  {
   "cell_type": "code",
   "execution_count": 102,
   "metadata": {},
   "outputs": [],
   "source": [
    "selected_vars = list(selected_vars)"
   ]
  },
  {
   "cell_type": "code",
   "execution_count": 103,
   "metadata": {},
   "outputs": [],
   "source": [
    "features_reduced = features[selected_vars]"
   ]
  },
  {
   "cell_type": "code",
   "execution_count": 104,
   "metadata": {},
   "outputs": [
    {
     "data": {
      "text/plain": [
       "(481680, 34)"
      ]
     },
     "execution_count": 104,
     "metadata": {},
     "output_type": "execute_result"
    }
   ],
   "source": [
    "features_reduced.shape"
   ]
  },
  {
   "cell_type": "code",
   "execution_count": 105,
   "metadata": {},
   "outputs": [
    {
     "data": {
      "text/plain": [
       "Index(['service_0.09', 'dst_host_count', 'serror_rate', 'src_bytes',\n",
       "       'is_guest_login', 'dst_host_diff_srv_rate', 'srv_error_rate', 'count',\n",
       "       'hot', 'dst_host_serror_rate', 'num_failed_logins', 'num_access_files',\n",
       "       'duration', 'is_host_login', 'same_srv_rate', 'dst_bytes', 'land',\n",
       "       'num_compromised', 'service_0.12', 'diff_srv_rate',\n",
       "       'dst_host_same_src_port_rate', 'dst_host_srv_count',\n",
       "       'dst_host_srv_diff_host_rate', 'flag_0.07', 'logged_in', 'service_0.62',\n",
       "       'rerror_rate', 'protocol_type_0.02', 'service_0.06',\n",
       "       'dst_host_same_srv_rate', 'service_0.11', 'srv_rerror_rate',\n",
       "       'srv_diff_host_rate', 'dst_host_srv_serror_rate'],\n",
       "      dtype='object')"
      ]
     },
     "execution_count": 105,
     "metadata": {},
     "output_type": "execute_result"
    }
   ],
   "source": [
    "features_reduced.columns"
   ]
  },
  {
   "cell_type": "markdown",
   "metadata": {},
   "source": [
    "### VIF"
   ]
  },
  {
   "cell_type": "code",
   "execution_count": 106,
   "metadata": {},
   "outputs": [],
   "source": [
    "from statsmodels.stats.outliers_influence import variance_inflation_factor\n",
    "from patsy import dmatrices"
   ]
  },
  {
   "cell_type": "code",
   "execution_count": 107,
   "metadata": {
    "scrolled": true
   },
   "outputs": [
    {
     "name": "stderr",
     "output_type": "stream",
     "text": [
      "C:\\Users\\akhil\\anaconda3\\lib\\site-packages\\statsmodels\\stats\\outliers_influence.py:193: RuntimeWarning: divide by zero encountered in double_scalars\n",
      "  vif = 1. / (1. - r_squared_i)\n",
      "C:\\Users\\akhil\\anaconda3\\lib\\site-packages\\statsmodels\\regression\\linear_model.py:1717: RuntimeWarning: invalid value encountered in double_scalars\n",
      "  return 1 - self.ssr/self.uncentered_tss\n"
     ]
    }
   ],
   "source": [
    "VIF = [variance_inflation_factor(features_reduced.values,i) for i in range(features_reduced.shape[1])]"
   ]
  },
  {
   "cell_type": "code",
   "execution_count": 108,
   "metadata": {},
   "outputs": [],
   "source": [
    "VIF = pd.Series(VIF, name = 'VIF')"
   ]
  },
  {
   "cell_type": "code",
   "execution_count": 109,
   "metadata": {},
   "outputs": [],
   "source": [
    "cols = pd.Series(features_reduced.columns, name='Column_Name')"
   ]
  },
  {
   "cell_type": "code",
   "execution_count": 110,
   "metadata": {},
   "outputs": [],
   "source": [
    "VIF_res = pd.concat([cols,VIF],axis=1)"
   ]
  },
  {
   "cell_type": "code",
   "execution_count": 111,
   "metadata": {},
   "outputs": [],
   "source": [
    "VIF_20 = VIF_res.sort_values(by=['VIF'], ascending = False).head(20)"
   ]
  },
  {
   "cell_type": "code",
   "execution_count": 112,
   "metadata": {},
   "outputs": [
    {
     "data": {
      "text/html": [
       "<div>\n",
       "<style scoped>\n",
       "    .dataframe tbody tr th:only-of-type {\n",
       "        vertical-align: middle;\n",
       "    }\n",
       "\n",
       "    .dataframe tbody tr th {\n",
       "        vertical-align: top;\n",
       "    }\n",
       "\n",
       "    .dataframe thead th {\n",
       "        text-align: right;\n",
       "    }\n",
       "</style>\n",
       "<table border=\"1\" class=\"dataframe\">\n",
       "  <thead>\n",
       "    <tr style=\"text-align: right;\">\n",
       "      <th></th>\n",
       "      <th>Column_Name</th>\n",
       "      <th>VIF</th>\n",
       "    </tr>\n",
       "  </thead>\n",
       "  <tbody>\n",
       "    <tr>\n",
       "      <th>0</th>\n",
       "      <td>service_0.09</td>\n",
       "      <td>inf</td>\n",
       "    </tr>\n",
       "    <tr>\n",
       "      <th>25</th>\n",
       "      <td>service_0.62</td>\n",
       "      <td>inf</td>\n",
       "    </tr>\n",
       "    <tr>\n",
       "      <th>30</th>\n",
       "      <td>service_0.11</td>\n",
       "      <td>inf</td>\n",
       "    </tr>\n",
       "    <tr>\n",
       "      <th>28</th>\n",
       "      <td>service_0.06</td>\n",
       "      <td>inf</td>\n",
       "    </tr>\n",
       "    <tr>\n",
       "      <th>27</th>\n",
       "      <td>protocol_type_0.02</td>\n",
       "      <td>inf</td>\n",
       "    </tr>\n",
       "    <tr>\n",
       "      <th>6</th>\n",
       "      <td>srv_error_rate</td>\n",
       "      <td>1392.854261</td>\n",
       "    </tr>\n",
       "    <tr>\n",
       "      <th>33</th>\n",
       "      <td>dst_host_srv_serror_rate</td>\n",
       "      <td>1219.683373</td>\n",
       "    </tr>\n",
       "    <tr>\n",
       "      <th>2</th>\n",
       "      <td>serror_rate</td>\n",
       "      <td>1012.443301</td>\n",
       "    </tr>\n",
       "    <tr>\n",
       "      <th>9</th>\n",
       "      <td>dst_host_serror_rate</td>\n",
       "      <td>657.589702</td>\n",
       "    </tr>\n",
       "    <tr>\n",
       "      <th>23</th>\n",
       "      <td>flag_0.07</td>\n",
       "      <td>487.316288</td>\n",
       "    </tr>\n",
       "    <tr>\n",
       "      <th>26</th>\n",
       "      <td>rerror_rate</td>\n",
       "      <td>100.966138</td>\n",
       "    </tr>\n",
       "    <tr>\n",
       "      <th>31</th>\n",
       "      <td>srv_rerror_rate</td>\n",
       "      <td>100.102692</td>\n",
       "    </tr>\n",
       "    <tr>\n",
       "      <th>29</th>\n",
       "      <td>dst_host_same_srv_rate</td>\n",
       "      <td>62.795841</td>\n",
       "    </tr>\n",
       "    <tr>\n",
       "      <th>14</th>\n",
       "      <td>same_srv_rate</td>\n",
       "      <td>55.127391</td>\n",
       "    </tr>\n",
       "    <tr>\n",
       "      <th>21</th>\n",
       "      <td>dst_host_srv_count</td>\n",
       "      <td>36.977291</td>\n",
       "    </tr>\n",
       "    <tr>\n",
       "      <th>19</th>\n",
       "      <td>diff_srv_rate</td>\n",
       "      <td>24.912164</td>\n",
       "    </tr>\n",
       "    <tr>\n",
       "      <th>1</th>\n",
       "      <td>dst_host_count</td>\n",
       "      <td>22.135443</td>\n",
       "    </tr>\n",
       "    <tr>\n",
       "      <th>5</th>\n",
       "      <td>dst_host_diff_srv_rate</td>\n",
       "      <td>19.505001</td>\n",
       "    </tr>\n",
       "    <tr>\n",
       "      <th>24</th>\n",
       "      <td>logged_in</td>\n",
       "      <td>18.001974</td>\n",
       "    </tr>\n",
       "    <tr>\n",
       "      <th>7</th>\n",
       "      <td>count</td>\n",
       "      <td>7.834199</td>\n",
       "    </tr>\n",
       "  </tbody>\n",
       "</table>\n",
       "</div>"
      ],
      "text/plain": [
       "                 Column_Name          VIF\n",
       "0               service_0.09          inf\n",
       "25              service_0.62          inf\n",
       "30              service_0.11          inf\n",
       "28              service_0.06          inf\n",
       "27        protocol_type_0.02          inf\n",
       "6             srv_error_rate  1392.854261\n",
       "33  dst_host_srv_serror_rate  1219.683373\n",
       "2                serror_rate  1012.443301\n",
       "9       dst_host_serror_rate   657.589702\n",
       "23                 flag_0.07   487.316288\n",
       "26               rerror_rate   100.966138\n",
       "31           srv_rerror_rate   100.102692\n",
       "29    dst_host_same_srv_rate    62.795841\n",
       "14             same_srv_rate    55.127391\n",
       "21        dst_host_srv_count    36.977291\n",
       "19             diff_srv_rate    24.912164\n",
       "1             dst_host_count    22.135443\n",
       "5     dst_host_diff_srv_rate    19.505001\n",
       "24                 logged_in    18.001974\n",
       "7                      count     7.834199"
      ]
     },
     "execution_count": 112,
     "metadata": {},
     "output_type": "execute_result"
    }
   ],
   "source": [
    "VIF_20"
   ]
  },
  {
   "cell_type": "code",
   "execution_count": 113,
   "metadata": {},
   "outputs": [
    {
     "name": "stderr",
     "output_type": "stream",
     "text": [
      "C:\\Users\\akhil\\anaconda3\\lib\\site-packages\\statsmodels\\regression\\linear_model.py:1717: RuntimeWarning: invalid value encountered in double_scalars\n",
      "  return 1 - self.ssr/self.uncentered_tss\n"
     ]
    },
    {
     "data": {
      "text/html": [
       "<div>\n",
       "<style scoped>\n",
       "    .dataframe tbody tr th:only-of-type {\n",
       "        vertical-align: middle;\n",
       "    }\n",
       "\n",
       "    .dataframe tbody tr th {\n",
       "        vertical-align: top;\n",
       "    }\n",
       "\n",
       "    .dataframe thead th {\n",
       "        text-align: right;\n",
       "    }\n",
       "</style>\n",
       "<table border=\"1\" class=\"dataframe\">\n",
       "  <thead>\n",
       "    <tr style=\"text-align: right;\">\n",
       "      <th></th>\n",
       "      <th>Column_Name</th>\n",
       "      <th>VIF</th>\n",
       "    </tr>\n",
       "  </thead>\n",
       "  <tbody>\n",
       "    <tr>\n",
       "      <th>31</th>\n",
       "      <td>srv_error_rate</td>\n",
       "      <td>1392.854261</td>\n",
       "    </tr>\n",
       "    <tr>\n",
       "      <th>10</th>\n",
       "      <td>dst_host_srv_serror_rate</td>\n",
       "      <td>1219.683373</td>\n",
       "    </tr>\n",
       "    <tr>\n",
       "      <th>24</th>\n",
       "      <td>serror_rate</td>\n",
       "      <td>1012.443301</td>\n",
       "    </tr>\n",
       "    <tr>\n",
       "      <th>7</th>\n",
       "      <td>dst_host_serror_rate</td>\n",
       "      <td>657.589702</td>\n",
       "    </tr>\n",
       "    <tr>\n",
       "      <th>12</th>\n",
       "      <td>flag_0.07</td>\n",
       "      <td>487.316288</td>\n",
       "    </tr>\n",
       "    <tr>\n",
       "      <th>22</th>\n",
       "      <td>rerror_rate</td>\n",
       "      <td>100.966138</td>\n",
       "    </tr>\n",
       "    <tr>\n",
       "      <th>32</th>\n",
       "      <td>srv_rerror_rate</td>\n",
       "      <td>100.102692</td>\n",
       "    </tr>\n",
       "    <tr>\n",
       "      <th>6</th>\n",
       "      <td>dst_host_same_srv_rate</td>\n",
       "      <td>62.795841</td>\n",
       "    </tr>\n",
       "    <tr>\n",
       "      <th>23</th>\n",
       "      <td>same_srv_rate</td>\n",
       "      <td>55.127391</td>\n",
       "    </tr>\n",
       "    <tr>\n",
       "      <th>8</th>\n",
       "      <td>dst_host_srv_count</td>\n",
       "      <td>36.977291</td>\n",
       "    </tr>\n",
       "    <tr>\n",
       "      <th>1</th>\n",
       "      <td>diff_srv_rate</td>\n",
       "      <td>24.912164</td>\n",
       "    </tr>\n",
       "    <tr>\n",
       "      <th>21</th>\n",
       "      <td>protocol_type_0.02</td>\n",
       "      <td>23.269450</td>\n",
       "    </tr>\n",
       "    <tr>\n",
       "      <th>3</th>\n",
       "      <td>dst_host_count</td>\n",
       "      <td>22.135443</td>\n",
       "    </tr>\n",
       "    <tr>\n",
       "      <th>4</th>\n",
       "      <td>dst_host_diff_srv_rate</td>\n",
       "      <td>19.505001</td>\n",
       "    </tr>\n",
       "    <tr>\n",
       "      <th>17</th>\n",
       "      <td>logged_in</td>\n",
       "      <td>18.001974</td>\n",
       "    </tr>\n",
       "    <tr>\n",
       "      <th>26</th>\n",
       "      <td>service_0.09</td>\n",
       "      <td>17.118922</td>\n",
       "    </tr>\n",
       "    <tr>\n",
       "      <th>0</th>\n",
       "      <td>count</td>\n",
       "      <td>7.834199</td>\n",
       "    </tr>\n",
       "    <tr>\n",
       "      <th>25</th>\n",
       "      <td>service_0.06</td>\n",
       "      <td>7.224477</td>\n",
       "    </tr>\n",
       "    <tr>\n",
       "      <th>29</th>\n",
       "      <td>src_bytes</td>\n",
       "      <td>5.177222</td>\n",
       "    </tr>\n",
       "    <tr>\n",
       "      <th>9</th>\n",
       "      <td>dst_host_srv_diff_host_rate</td>\n",
       "      <td>4.713909</td>\n",
       "    </tr>\n",
       "  </tbody>\n",
       "</table>\n",
       "</div>"
      ],
      "text/plain": [
       "                    Column_Name          VIF\n",
       "31               srv_error_rate  1392.854261\n",
       "10     dst_host_srv_serror_rate  1219.683373\n",
       "24                  serror_rate  1012.443301\n",
       "7          dst_host_serror_rate   657.589702\n",
       "12                    flag_0.07   487.316288\n",
       "22                  rerror_rate   100.966138\n",
       "32              srv_rerror_rate   100.102692\n",
       "6        dst_host_same_srv_rate    62.795841\n",
       "23                same_srv_rate    55.127391\n",
       "8            dst_host_srv_count    36.977291\n",
       "1                 diff_srv_rate    24.912164\n",
       "21           protocol_type_0.02    23.269450\n",
       "3                dst_host_count    22.135443\n",
       "4        dst_host_diff_srv_rate    19.505001\n",
       "17                    logged_in    18.001974\n",
       "26                 service_0.09    17.118922\n",
       "0                         count     7.834199\n",
       "25                 service_0.06     7.224477\n",
       "29                    src_bytes     5.177222\n",
       "9   dst_host_srv_diff_host_rate     4.713909"
      ]
     },
     "execution_count": 113,
     "metadata": {},
     "output_type": "execute_result"
    }
   ],
   "source": [
    "features_reduced2 = features_reduced[features_reduced.columns.difference(['service_0.11'])]\n",
    "\n",
    "VIF = [variance_inflation_factor(features_reduced2.values,i) for i in range(features_reduced2.shape[1])]\n",
    "\n",
    "VIF = pd.Series(VIF, name = 'VIF')\n",
    "\n",
    "cols = pd.Series(features_reduced2.columns, name='Column_Name')\n",
    "\n",
    "VIF_res = pd.concat([cols,VIF],axis=1)\n",
    "\n",
    "VIF_20 = VIF_res.sort_values(by=['VIF'], ascending = False).head(20)\n",
    "\n",
    "VIF_20"
   ]
  },
  {
   "cell_type": "code",
   "execution_count": 114,
   "metadata": {},
   "outputs": [],
   "source": [
    "final_varss = pd.concat([features_reduced2 , atk_normal_cleaned['attack']] , axis=1) "
   ]
  },
  {
   "cell_type": "code",
   "execution_count": 115,
   "metadata": {},
   "outputs": [
    {
     "data": {
      "text/html": [
       "<div>\n",
       "<style scoped>\n",
       "    .dataframe tbody tr th:only-of-type {\n",
       "        vertical-align: middle;\n",
       "    }\n",
       "\n",
       "    .dataframe tbody tr th {\n",
       "        vertical-align: top;\n",
       "    }\n",
       "\n",
       "    .dataframe thead th {\n",
       "        text-align: right;\n",
       "    }\n",
       "</style>\n",
       "<table border=\"1\" class=\"dataframe\">\n",
       "  <thead>\n",
       "    <tr style=\"text-align: right;\">\n",
       "      <th></th>\n",
       "      <th>count</th>\n",
       "      <th>diff_srv_rate</th>\n",
       "      <th>dst_bytes</th>\n",
       "      <th>dst_host_count</th>\n",
       "      <th>dst_host_diff_srv_rate</th>\n",
       "      <th>dst_host_same_src_port_rate</th>\n",
       "      <th>dst_host_same_srv_rate</th>\n",
       "      <th>dst_host_serror_rate</th>\n",
       "      <th>dst_host_srv_count</th>\n",
       "      <th>dst_host_srv_diff_host_rate</th>\n",
       "      <th>...</th>\n",
       "      <th>serror_rate</th>\n",
       "      <th>service_0.06</th>\n",
       "      <th>service_0.09</th>\n",
       "      <th>service_0.12</th>\n",
       "      <th>service_0.62</th>\n",
       "      <th>src_bytes</th>\n",
       "      <th>srv_diff_host_rate</th>\n",
       "      <th>srv_error_rate</th>\n",
       "      <th>srv_rerror_rate</th>\n",
       "      <th>attack</th>\n",
       "    </tr>\n",
       "  </thead>\n",
       "  <tbody>\n",
       "    <tr>\n",
       "      <th>0</th>\n",
       "      <td>0.001</td>\n",
       "      <td>0.0</td>\n",
       "      <td>0.00000</td>\n",
       "      <td>0.008</td>\n",
       "      <td>0.0</td>\n",
       "      <td>0.017</td>\n",
       "      <td>0.1</td>\n",
       "      <td>0.0</td>\n",
       "      <td>0.255</td>\n",
       "      <td>0.005</td>\n",
       "      <td>...</td>\n",
       "      <td>0.0</td>\n",
       "      <td>0</td>\n",
       "      <td>0</td>\n",
       "      <td>0</td>\n",
       "      <td>0</td>\n",
       "      <td>0.00176</td>\n",
       "      <td>0.0</td>\n",
       "      <td>0.0</td>\n",
       "      <td>0.0</td>\n",
       "      <td>0</td>\n",
       "    </tr>\n",
       "    <tr>\n",
       "      <th>1</th>\n",
       "      <td>0.001</td>\n",
       "      <td>0.0</td>\n",
       "      <td>0.05741</td>\n",
       "      <td>0.008</td>\n",
       "      <td>0.0</td>\n",
       "      <td>0.033</td>\n",
       "      <td>0.1</td>\n",
       "      <td>0.0</td>\n",
       "      <td>0.255</td>\n",
       "      <td>0.003</td>\n",
       "      <td>...</td>\n",
       "      <td>0.0</td>\n",
       "      <td>0</td>\n",
       "      <td>0</td>\n",
       "      <td>0</td>\n",
       "      <td>0</td>\n",
       "      <td>0.00237</td>\n",
       "      <td>0.0</td>\n",
       "      <td>0.0</td>\n",
       "      <td>0.0</td>\n",
       "      <td>0</td>\n",
       "    </tr>\n",
       "    <tr>\n",
       "      <th>2</th>\n",
       "      <td>0.009</td>\n",
       "      <td>0.0</td>\n",
       "      <td>0.00382</td>\n",
       "      <td>0.255</td>\n",
       "      <td>0.0</td>\n",
       "      <td>0.000</td>\n",
       "      <td>0.1</td>\n",
       "      <td>0.0</td>\n",
       "      <td>0.255</td>\n",
       "      <td>0.000</td>\n",
       "      <td>...</td>\n",
       "      <td>0.0</td>\n",
       "      <td>0</td>\n",
       "      <td>0</td>\n",
       "      <td>0</td>\n",
       "      <td>0</td>\n",
       "      <td>0.00310</td>\n",
       "      <td>0.0</td>\n",
       "      <td>0.0</td>\n",
       "      <td>0.0</td>\n",
       "      <td>0</td>\n",
       "    </tr>\n",
       "    <tr>\n",
       "      <th>3</th>\n",
       "      <td>0.007</td>\n",
       "      <td>0.0</td>\n",
       "      <td>0.02865</td>\n",
       "      <td>0.191</td>\n",
       "      <td>0.0</td>\n",
       "      <td>0.001</td>\n",
       "      <td>0.1</td>\n",
       "      <td>0.0</td>\n",
       "      <td>0.255</td>\n",
       "      <td>0.001</td>\n",
       "      <td>...</td>\n",
       "      <td>0.0</td>\n",
       "      <td>0</td>\n",
       "      <td>0</td>\n",
       "      <td>0</td>\n",
       "      <td>0</td>\n",
       "      <td>0.00192</td>\n",
       "      <td>0.0</td>\n",
       "      <td>0.0</td>\n",
       "      <td>0.0</td>\n",
       "      <td>0</td>\n",
       "    </tr>\n",
       "    <tr>\n",
       "      <th>4</th>\n",
       "      <td>0.001</td>\n",
       "      <td>0.0</td>\n",
       "      <td>0.00000</td>\n",
       "      <td>0.008</td>\n",
       "      <td>0.0</td>\n",
       "      <td>0.033</td>\n",
       "      <td>0.1</td>\n",
       "      <td>0.0</td>\n",
       "      <td>0.255</td>\n",
       "      <td>0.005</td>\n",
       "      <td>...</td>\n",
       "      <td>0.0</td>\n",
       "      <td>0</td>\n",
       "      <td>0</td>\n",
       "      <td>0</td>\n",
       "      <td>0</td>\n",
       "      <td>0.00000</td>\n",
       "      <td>0.0</td>\n",
       "      <td>0.0</td>\n",
       "      <td>0.1</td>\n",
       "      <td>0</td>\n",
       "    </tr>\n",
       "  </tbody>\n",
       "</table>\n",
       "<p>5 rows × 34 columns</p>\n",
       "</div>"
      ],
      "text/plain": [
       "   count  diff_srv_rate  dst_bytes  dst_host_count  dst_host_diff_srv_rate  \\\n",
       "0  0.001            0.0    0.00000           0.008                     0.0   \n",
       "1  0.001            0.0    0.05741           0.008                     0.0   \n",
       "2  0.009            0.0    0.00382           0.255                     0.0   \n",
       "3  0.007            0.0    0.02865           0.191                     0.0   \n",
       "4  0.001            0.0    0.00000           0.008                     0.0   \n",
       "\n",
       "   dst_host_same_src_port_rate  dst_host_same_srv_rate  dst_host_serror_rate  \\\n",
       "0                        0.017                     0.1                   0.0   \n",
       "1                        0.033                     0.1                   0.0   \n",
       "2                        0.000                     0.1                   0.0   \n",
       "3                        0.001                     0.1                   0.0   \n",
       "4                        0.033                     0.1                   0.0   \n",
       "\n",
       "   dst_host_srv_count  dst_host_srv_diff_host_rate  ...  serror_rate  \\\n",
       "0               0.255                        0.005  ...          0.0   \n",
       "1               0.255                        0.003  ...          0.0   \n",
       "2               0.255                        0.000  ...          0.0   \n",
       "3               0.255                        0.001  ...          0.0   \n",
       "4               0.255                        0.005  ...          0.0   \n",
       "\n",
       "   service_0.06  service_0.09  service_0.12  service_0.62  src_bytes  \\\n",
       "0             0             0             0             0    0.00176   \n",
       "1             0             0             0             0    0.00237   \n",
       "2             0             0             0             0    0.00310   \n",
       "3             0             0             0             0    0.00192   \n",
       "4             0             0             0             0    0.00000   \n",
       "\n",
       "   srv_diff_host_rate  srv_error_rate  srv_rerror_rate  attack  \n",
       "0                 0.0             0.0              0.0       0  \n",
       "1                 0.0             0.0              0.0       0  \n",
       "2                 0.0             0.0              0.0       0  \n",
       "3                 0.0             0.0              0.0       0  \n",
       "4                 0.0             0.0              0.1       0  \n",
       "\n",
       "[5 rows x 34 columns]"
      ]
     },
     "execution_count": 115,
     "metadata": {},
     "output_type": "execute_result"
    }
   ],
   "source": [
    "final_varss.head()"
   ]
  },
  {
   "cell_type": "markdown",
   "metadata": {},
   "source": [
    "### Data Preparation Level 4 : Resampling Data --> train and test"
   ]
  },
  {
   "cell_type": "code",
   "execution_count": 116,
   "metadata": {},
   "outputs": [],
   "source": [
    "from sklearn.model_selection import train_test_split"
   ]
  },
  {
   "cell_type": "code",
   "execution_count": 117,
   "metadata": {},
   "outputs": [],
   "source": [
    "from sklearn.linear_model import LogisticRegression"
   ]
  },
  {
   "cell_type": "code",
   "execution_count": 125,
   "metadata": {},
   "outputs": [],
   "source": [
    "from sklearn import metrics"
   ]
  },
  {
   "cell_type": "code",
   "execution_count": 118,
   "metadata": {},
   "outputs": [],
   "source": [
    "train,test = train_test_split(final_varss, test_size = 0.3, random_state = 123)"
   ]
  },
  {
   "cell_type": "code",
   "execution_count": 119,
   "metadata": {},
   "outputs": [],
   "source": [
    "X = final_varss[final_varss.columns.difference(['attack'])]\n",
    "y = final_varss.attack"
   ]
  },
  {
   "cell_type": "code",
   "execution_count": 120,
   "metadata": {
    "scrolled": true
   },
   "outputs": [],
   "source": [
    "train_X, test_X, train_y, test_y = train_test_split(X,y, test_size=0.3, random_state= 123)"
   ]
  },
  {
   "cell_type": "code",
   "execution_count": 121,
   "metadata": {},
   "outputs": [
    {
     "data": {
      "text/plain": [
       "(337176,)"
      ]
     },
     "execution_count": 121,
     "metadata": {},
     "output_type": "execute_result"
    }
   ],
   "source": [
    "train_y.shape"
   ]
  },
  {
   "cell_type": "code",
   "execution_count": 122,
   "metadata": {},
   "outputs": [
    {
     "data": {
      "text/plain": [
       "(144504,)"
      ]
     },
     "execution_count": 122,
     "metadata": {},
     "output_type": "execute_result"
    }
   ],
   "source": [
    "test_y.shape"
   ]
  },
  {
   "cell_type": "code",
   "execution_count": 131,
   "metadata": {},
   "outputs": [],
   "source": [
    "model = LogisticRegression()"
   ]
  },
  {
   "cell_type": "code",
   "execution_count": 132,
   "metadata": {},
   "outputs": [],
   "source": [
    "model = model.fit(train_X , train_y)"
   ]
  },
  {
   "cell_type": "code",
   "execution_count": 133,
   "metadata": {},
   "outputs": [],
   "source": [
    "pred_model = model.predict(train_X)"
   ]
  },
  {
   "cell_type": "code",
   "execution_count": 138,
   "metadata": {},
   "outputs": [
    {
     "name": "stdout",
     "output_type": "stream",
     "text": [
      "0.9957134316947895\n"
     ]
    }
   ],
   "source": [
    "train_auc = metrics.roc_auc_score(train.attack, pred_model)\n",
    "print(train_auc)"
   ]
  },
  {
   "cell_type": "code",
   "execution_count": 141,
   "metadata": {},
   "outputs": [
    {
     "name": "stdout",
     "output_type": "stream",
     "text": [
      "0.995580035655965\n"
     ]
    }
   ],
   "source": [
    "pred_model_test = model.predict(test_X)\n",
    "test_auc = metrics.roc_auc_score(test.attack, pred_model_test)\n",
    "print(test_auc)\n"
   ]
  },
  {
   "cell_type": "code",
   "execution_count": 142,
   "metadata": {},
   "outputs": [],
   "source": [
    "#Calculating Gini (somerceD) for train & Test"
   ]
  },
  {
   "cell_type": "code",
   "execution_count": 143,
   "metadata": {},
   "outputs": [
    {
     "name": "stdout",
     "output_type": "stream",
     "text": [
      "0.9914268633895791\n",
      "0.99116007131193\n"
     ]
    }
   ],
   "source": [
    "train_gini = 2*metrics.roc_auc_score(train.attack, pred_model)-1\n",
    "print(train_gini)\n",
    "\n",
    "test_gini = 2*metrics.roc_auc_score(test.attack, pred_model_test)-1\n",
    "print(test_gini)"
   ]
  },
  {
   "cell_type": "markdown",
   "metadata": {},
   "source": [
    "### KNN"
   ]
  },
  {
   "cell_type": "code",
   "execution_count": 144,
   "metadata": {},
   "outputs": [],
   "source": [
    "from sklearn.neighbors import KNeighborsClassifier\n",
    "from sklearn.model_selection import GridSearchCV"
   ]
  },
  {
   "cell_type": "code",
   "execution_count": 146,
   "metadata": {},
   "outputs": [],
   "source": [
    "param_grid = {'n_neighbors' : [3,5,7,9,11,13], 'weights': ['uniform', 'distance']}"
   ]
  },
  {
   "cell_type": "code",
   "execution_count": 147,
   "metadata": {},
   "outputs": [
    {
     "data": {
      "text/plain": [
       "GridSearchCV(cv=5, estimator=KNeighborsClassifier(),\n",
       "             param_grid={'n_neighbors': [3, 5, 7, 9, 11, 13],\n",
       "                         'weights': ['uniform', 'distance']},\n",
       "             scoring='f1_weighted')"
      ]
     },
     "execution_count": 147,
     "metadata": {},
     "output_type": "execute_result"
    }
   ],
   "source": [
    "modell = GridSearchCV(KNeighborsClassifier(), param_grid, cv=5, scoring='f1_weighted')\n",
    "modell.fit(train_X, train_y)"
   ]
  },
  {
   "cell_type": "code",
   "execution_count": 148,
   "metadata": {},
   "outputs": [
    {
     "data": {
      "text/plain": [
       "{'n_neighbors': 3, 'weights': 'distance'}"
      ]
     },
     "execution_count": 148,
     "metadata": {},
     "output_type": "execute_result"
    }
   ],
   "source": [
    "modell.best_params_"
   ]
  },
  {
   "cell_type": "code",
   "execution_count": 149,
   "metadata": {},
   "outputs": [
    {
     "data": {
      "text/plain": [
       "0.9995106414392021"
      ]
     },
     "execution_count": 149,
     "metadata": {},
     "output_type": "execute_result"
    }
   ],
   "source": [
    "modell.best_score_"
   ]
  },
  {
   "cell_type": "code",
   "execution_count": 151,
   "metadata": {},
   "outputs": [
    {
     "data": {
      "text/plain": [
       "KNeighborsClassifier(n_neighbors=3, weights='distance')"
      ]
     },
     "execution_count": 151,
     "metadata": {},
     "output_type": "execute_result"
    }
   ],
   "source": [
    "best_model = KNeighborsClassifier(n_neighbors=3, weights='distance')\n",
    "best_model.fit(train_X, train_y)"
   ]
  },
  {
   "cell_type": "code",
   "execution_count": 152,
   "metadata": {},
   "outputs": [
    {
     "name": "stdout",
     "output_type": "stream",
     "text": [
      "              precision    recall  f1-score   support\n",
      "\n",
      "           0       1.00      1.00      1.00    168441\n",
      "           1       1.00      1.00      1.00    168735\n",
      "\n",
      "    accuracy                           1.00    337176\n",
      "   macro avg       1.00      1.00      1.00    337176\n",
      "weighted avg       1.00      1.00      1.00    337176\n",
      "\n"
     ]
    }
   ],
   "source": [
    "#Classification report for training data\n",
    "print(metrics.classification_report(train_y, best_model.predict(train_X)))"
   ]
  },
  {
   "cell_type": "code",
   "execution_count": 153,
   "metadata": {},
   "outputs": [
    {
     "name": "stdout",
     "output_type": "stream",
     "text": [
      "              precision    recall  f1-score   support\n",
      "\n",
      "           0       0.99      1.00      1.00     72399\n",
      "           1       1.00      0.99      1.00     72105\n",
      "\n",
      "    accuracy                           1.00    144504\n",
      "   macro avg       1.00      1.00      1.00    144504\n",
      "weighted avg       1.00      1.00      1.00    144504\n",
      "\n"
     ]
    }
   ],
   "source": [
    "print(metrics.classification_report(test_y, model.predict(test_X)))"
   ]
  },
  {
   "cell_type": "code",
   "execution_count": 158,
   "metadata": {},
   "outputs": [
    {
     "data": {
      "text/plain": [
       "1.0"
      ]
     },
     "execution_count": 158,
     "metadata": {},
     "output_type": "execute_result"
    }
   ],
   "source": [
    "#Train data - AUC Score\n",
    "metrics.roc_auc_score(train_y, pd.DataFrame(best_model.predict_proba(train_X))[1])"
   ]
  },
  {
   "cell_type": "code",
   "execution_count": 159,
   "metadata": {},
   "outputs": [
    {
     "data": {
      "text/plain": [
       "0.9997782371951034"
      ]
     },
     "execution_count": 159,
     "metadata": {},
     "output_type": "execute_result"
    }
   ],
   "source": [
    "#Test data - AUC Score\n",
    "metrics.roc_auc_score(test_y, pd.DataFrame(best_model.predict_proba(test_X))[1])"
   ]
  },
  {
   "cell_type": "markdown",
   "metadata": {},
   "source": [
    "### Decision Trees"
   ]
  },
  {
   "cell_type": "code",
   "execution_count": 160,
   "metadata": {},
   "outputs": [],
   "source": [
    "from sklearn.tree import DecisionTreeClassifier, export_graphviz"
   ]
  },
  {
   "cell_type": "code",
   "execution_count": 161,
   "metadata": {},
   "outputs": [
    {
     "data": {
      "text/plain": [
       "DecisionTreeClassifier(max_depth=5, max_leaf_nodes=10)"
      ]
     },
     "execution_count": 161,
     "metadata": {},
     "output_type": "execute_result"
    }
   ],
   "source": [
    "modelll = DecisionTreeClassifier(max_depth=5, max_leaf_nodes=10)\n",
    "modelll.fit(train_X, train_y)"
   ]
  },
  {
   "cell_type": "code",
   "execution_count": 162,
   "metadata": {},
   "outputs": [
    {
     "name": "stdout",
     "output_type": "stream",
     "text": [
      "              precision    recall  f1-score   support\n",
      "\n",
      "           0       1.00      1.00      1.00    168441\n",
      "           1       1.00      1.00      1.00    168735\n",
      "\n",
      "    accuracy                           1.00    337176\n",
      "   macro avg       1.00      1.00      1.00    337176\n",
      "weighted avg       1.00      1.00      1.00    337176\n",
      "\n"
     ]
    }
   ],
   "source": [
    "print(metrics.classification_report(train_y, modelll.predict(train_X)))"
   ]
  },
  {
   "cell_type": "code",
   "execution_count": 163,
   "metadata": {},
   "outputs": [
    {
     "name": "stdout",
     "output_type": "stream",
     "text": [
      "              precision    recall  f1-score   support\n",
      "\n",
      "           0       1.00      1.00      1.00     72399\n",
      "           1       1.00      1.00      1.00     72105\n",
      "\n",
      "    accuracy                           1.00    144504\n",
      "   macro avg       1.00      1.00      1.00    144504\n",
      "weighted avg       1.00      1.00      1.00    144504\n",
      "\n"
     ]
    }
   ],
   "source": [
    "print(metrics.classification_report(test_y, modelll.predict(test_X)))"
   ]
  },
  {
   "cell_type": "code",
   "execution_count": 164,
   "metadata": {},
   "outputs": [
    {
     "name": "stdout",
     "output_type": "stream",
     "text": [
      "0.999770863249742\n",
      "0.9997835864738965\n"
     ]
    }
   ],
   "source": [
    "#Train data - AUC Score\n",
    "print(metrics.roc_auc_score(train_y, pd.DataFrame(model.predict_proba(train_X))[1]))\n",
    "\n",
    "#Test data - AUC Score\n",
    "print(metrics.roc_auc_score(test_y, pd.DataFrame(model.predict_proba(test_X))[1]))"
   ]
  },
  {
   "cell_type": "code",
   "execution_count": 165,
   "metadata": {},
   "outputs": [
    {
     "data": {
      "text/plain": [
       "GridSearchCV(cv=5, estimator=DecisionTreeClassifier(),\n",
       "             param_grid={'max_depth': [3, 4, 5, 6, 7, 8, 9, 10],\n",
       "                         'max_leaf_nodes': [5, 6, 7, 8, 9, 10, 11, 12]},\n",
       "             scoring='f1_weighted')"
      ]
     },
     "execution_count": 165,
     "metadata": {},
     "output_type": "execute_result"
    }
   ],
   "source": [
    "param_grid = {'max_depth': [3,4,5,6,7,8,9,10],\n",
    "              'max_leaf_nodes': [5,6,7,8,9,10,11,12]\n",
    "}\n",
    "model5 = GridSearchCV(DecisionTreeClassifier(), param_grid, cv=5, scoring='f1_weighted')\n",
    "model5.fit(train_X, train_y)"
   ]
  },
  {
   "cell_type": "code",
   "execution_count": 166,
   "metadata": {},
   "outputs": [
    {
     "data": {
      "text/plain": [
       "{'max_depth': 7, 'max_leaf_nodes': 12}"
      ]
     },
     "execution_count": 166,
     "metadata": {},
     "output_type": "execute_result"
    }
   ],
   "source": [
    "model5.best_params_"
   ]
  },
  {
   "cell_type": "code",
   "execution_count": 167,
   "metadata": {},
   "outputs": [
    {
     "data": {
      "text/plain": [
       "0.999214060212591"
      ]
     },
     "execution_count": 167,
     "metadata": {},
     "output_type": "execute_result"
    }
   ],
   "source": [
    "model5.best_score_"
   ]
  },
  {
   "cell_type": "code",
   "execution_count": 168,
   "metadata": {},
   "outputs": [
    {
     "data": {
      "text/plain": [
       "DecisionTreeClassifier(max_depth=6, max_leaf_nodes=11)"
      ]
     },
     "execution_count": 168,
     "metadata": {},
     "output_type": "execute_result"
    }
   ],
   "source": [
    "model5 = DecisionTreeClassifier(max_depth=6, max_leaf_nodes=11)\n",
    "model5.fit(train_X, train_y)"
   ]
  },
  {
   "cell_type": "code",
   "execution_count": 169,
   "metadata": {},
   "outputs": [
    {
     "name": "stdout",
     "output_type": "stream",
     "text": [
      "0.9994332574367853\n",
      "0.9994537630652938\n"
     ]
    }
   ],
   "source": [
    "#Train data - AUC Score\n",
    "print(metrics.roc_auc_score(train_y, pd.DataFrame(model5.predict_proba(train_X))[1]))\n",
    "\n",
    "#Test data - AUC Score\n",
    "print(metrics.roc_auc_score(test_y, pd.DataFrame(model5.predict_proba(test_X))[1]))"
   ]
  },
  {
   "cell_type": "code",
   "execution_count": 170,
   "metadata": {},
   "outputs": [
    {
     "data": {
      "text/plain": [
       "array([0.        , 0.        , 0.        , 0.        , 0.        ,\n",
       "       0.        , 0.00417349, 0.        , 0.        , 0.        ,\n",
       "       0.00149231, 0.        , 0.        , 0.        , 0.        ,\n",
       "       0.        , 0.        , 0.        , 0.        , 0.        ,\n",
       "       0.        , 0.02841523, 0.        , 0.92842692, 0.        ,\n",
       "       0.        , 0.        , 0.01518451, 0.        , 0.02230755,\n",
       "       0.        , 0.        , 0.        ])"
      ]
     },
     "execution_count": 170,
     "metadata": {},
     "output_type": "execute_result"
    }
   ],
   "source": [
    "model5.feature_importances_"
   ]
  },
  {
   "cell_type": "code",
   "execution_count": 171,
   "metadata": {},
   "outputs": [
    {
     "data": {
      "text/plain": [
       "Index(['count', 'diff_srv_rate', 'dst_bytes', 'dst_host_count',\n",
       "       'dst_host_diff_srv_rate', 'dst_host_same_src_port_rate',\n",
       "       'dst_host_same_srv_rate', 'dst_host_serror_rate', 'dst_host_srv_count',\n",
       "       'dst_host_srv_diff_host_rate', 'dst_host_srv_serror_rate', 'duration',\n",
       "       'flag_0.07', 'hot', 'is_guest_login', 'is_host_login', 'land',\n",
       "       'logged_in', 'num_access_files', 'num_compromised', 'num_failed_logins',\n",
       "       'protocol_type_0.02', 'rerror_rate', 'same_srv_rate', 'serror_rate',\n",
       "       'service_0.06', 'service_0.09', 'service_0.12', 'service_0.62',\n",
       "       'src_bytes', 'srv_diff_host_rate', 'srv_error_rate', 'srv_rerror_rate'],\n",
       "      dtype='object')"
      ]
     },
     "execution_count": 171,
     "metadata": {},
     "output_type": "execute_result"
    }
   ],
   "source": [
    "train_X.columns"
   ]
  },
  {
   "cell_type": "code",
   "execution_count": 172,
   "metadata": {},
   "outputs": [],
   "source": [
    "var_imp = pd.DataFrame([train_X.columns, model5.feature_importances_]).T"
   ]
  },
  {
   "cell_type": "code",
   "execution_count": 173,
   "metadata": {},
   "outputs": [],
   "source": [
    "var_imp.columns = ['var', 'imp']"
   ]
  },
  {
   "cell_type": "code",
   "execution_count": 174,
   "metadata": {},
   "outputs": [],
   "source": [
    "var_imp.sort_values(by= 'imp', inplace=True)"
   ]
  },
  {
   "cell_type": "code",
   "execution_count": 180,
   "metadata": {},
   "outputs": [
    {
     "data": {
      "text/plain": [
       "<AxesSubplot:>"
      ]
     },
     "execution_count": 180,
     "metadata": {},
     "output_type": "execute_result"
    },
    {
     "data": {
      "image/png": "[encoded data removed]",
      "text/plain": [
       "<Figure size 720x540 with 1 Axes>"
      ]
     },
     "metadata": {
      "needs_background": "light"
     },
     "output_type": "display_data"
    }
   ],
   "source": [
    "var_imp.plot(kind='barh' , figsize=(10,7.5))"
   ]
  },
  {
   "cell_type": "code",
   "execution_count": null,
   "metadata": {},
   "outputs": [],
   "source": []
  },
  {
   "cell_type": "code",
   "execution_count": null,
   "metadata": {},
   "outputs": [],
   "source": []
  },
  {
   "cell_type": "code",
   "execution_count": null,
   "metadata": {},
   "outputs": [],
   "source": []
  },
  {
   "cell_type": "code",
   "execution_count": null,
   "metadata": {},
   "outputs": [],
   "source": []
  },
  {
   "cell_type": "code",
   "execution_count": null,
   "metadata": {},
   "outputs": [],
   "source": []
  },
  {
   "cell_type": "code",
   "execution_count": null,
   "metadata": {},
   "outputs": [],
   "source": []
  },
  {
   "cell_type": "code",
   "execution_count": null,
   "metadata": {},
   "outputs": [],
   "source": []
  },
  {
   "cell_type": "code",
   "execution_count": null,
   "metadata": {},
   "outputs": [],
   "source": []
  },
  {
   "cell_type": "code",
   "execution_count": null,
   "metadata": {},
   "outputs": [],
   "source": []
  },
  {
   "cell_type": "code",
   "execution_count": null,
   "metadata": {},
   "outputs": [],
   "source": []
  },
  {
   "cell_type": "code",
   "execution_count": null,
   "metadata": {},
   "outputs": [],
   "source": []
  },
  {
   "cell_type": "code",
   "execution_count": null,
   "metadata": {},
   "outputs": [],
   "source": []
  },
  {
   "cell_type": "code",
   "execution_count": null,
   "metadata": {},
   "outputs": [],
   "source": []
  },
  {
   "cell_type": "code",
   "execution_count": null,
   "metadata": {},
   "outputs": [],
   "source": []
  },
  {
   "cell_type": "code",
   "execution_count": null,
   "metadata": {},
   "outputs": [],
   "source": []
  },
  {
   "cell_type": "code",
   "execution_count": null,
   "metadata": {},
   "outputs": [],
   "source": []
  },
  {
   "cell_type": "code",
   "execution_count": null,
   "metadata": {},
   "outputs": [],
   "source": []
  },
  {
   "cell_type": "code",
   "execution_count": null,
   "metadata": {},
   "outputs": [],
   "source": []
  },
  {
   "cell_type": "code",
   "execution_count": null,
   "metadata": {},
   "outputs": [],
   "source": []
  },
  {
   "cell_type": "code",
   "execution_count": null,
   "metadata": {},
   "outputs": [],
   "source": []
  },
  {
   "cell_type": "code",
   "execution_count": null,
   "metadata": {},
   "outputs": [],
   "source": []
  },
  {
   "cell_type": "code",
   "execution_count": null,
   "metadata": {},
   "outputs": [],
   "source": []
  },
  {
   "cell_type": "code",
   "execution_count": null,
   "metadata": {},
   "outputs": [],
   "source": []
  },
  {
   "cell_type": "code",
   "execution_count": null,
   "metadata": {},
   "outputs": [],
   "source": []
  },
  {
   "cell_type": "code",
   "execution_count": null,
   "metadata": {},
   "outputs": [],
   "source": []
  },
  {
   "cell_type": "code",
   "execution_count": null,
   "metadata": {},
   "outputs": [],
   "source": []
  },
  {
   "cell_type": "code",
   "execution_count": null,
   "metadata": {},
   "outputs": [],
   "source": []
  },
  {
   "cell_type": "code",
   "execution_count": null,
   "metadata": {},
   "outputs": [],
   "source": []
  },
  {
   "cell_type": "code",
   "execution_count": null,
   "metadata": {},
   "outputs": [],
   "source": []
  },
  {
   "cell_type": "code",
   "execution_count": null,
   "metadata": {},
   "outputs": [],
   "source": []
  },
  {
   "cell_type": "code",
   "execution_count": null,
   "metadata": {},
   "outputs": [],
   "source": []
  },
  {
   "cell_type": "code",
   "execution_count": null,
   "metadata": {},
   "outputs": [],
   "source": []
  },
  {
   "cell_type": "code",
   "execution_count": null,
   "metadata": {},
   "outputs": [],
   "source": []
  },
  {
   "cell_type": "code",
   "execution_count": null,
   "metadata": {},
   "outputs": [],
   "source": []
  },
  {
   "cell_type": "code",
   "execution_count": null,
   "metadata": {},
   "outputs": [],
   "source": []
  },
  {
   "cell_type": "code",
   "execution_count": null,
   "metadata": {},
   "outputs": [],
   "source": []
  },
  {
   "cell_type": "code",
   "execution_count": null,
   "metadata": {},
   "outputs": [],
   "source": []
  },
  {
   "cell_type": "code",
   "execution_count": null,
   "metadata": {},
   "outputs": [],
   "source": []
  },
  {
   "cell_type": "code",
   "execution_count": null,
   "metadata": {},
   "outputs": [],
   "source": []
  },
  {
   "cell_type": "code",
   "execution_count": null,
   "metadata": {},
   "outputs": [],
   "source": []
  },
  {
   "cell_type": "code",
   "execution_count": null,
   "metadata": {},
   "outputs": [],
   "source": []
  },
  {
   "cell_type": "code",
   "execution_count": null,
   "metadata": {},
   "outputs": [],
   "source": []
  },
  {
   "cell_type": "code",
   "execution_count": null,
   "metadata": {},
   "outputs": [],
   "source": []
  },
  {
   "cell_type": "code",
   "execution_count": null,
   "metadata": {},
   "outputs": [],
   "source": []
  },
  {
   "cell_type": "code",
   "execution_count": null,
   "metadata": {},
   "outputs": [],
   "source": []
  },
  {
   "cell_type": "code",
   "execution_count": null,
   "metadata": {},
   "outputs": [],
   "source": []
  },
  {
   "cell_type": "code",
   "execution_count": null,
   "metadata": {},
   "outputs": [],
   "source": []
  },
  {
   "cell_type": "code",
   "execution_count": null,
   "metadata": {},
   "outputs": [],
   "source": []
  },
  {
   "cell_type": "code",
   "execution_count": null,
   "metadata": {},
   "outputs": [],
   "source": []
  },
  {
   "cell_type": "code",
   "execution_count": null,
   "metadata": {},
   "outputs": [],
   "source": []
  },
  {
   "cell_type": "code",
   "execution_count": null,
   "metadata": {},
   "outputs": [],
   "source": []
  },
  {
   "cell_type": "code",
   "execution_count": null,
   "metadata": {},
   "outputs": [],
   "source": []
  },
  {
   "cell_type": "code",
   "execution_count": null,
   "metadata": {},
   "outputs": [],
   "source": []
  },
  {
   "cell_type": "code",
   "execution_count": null,
   "metadata": {},
   "outputs": [],
   "source": []
  },
  {
   "cell_type": "code",
   "execution_count": null,
   "metadata": {},
   "outputs": [],
   "source": []
  },
  {
   "cell_type": "code",
   "execution_count": null,
   "metadata": {},
   "outputs": [],
   "source": []
  },
  {
   "cell_type": "code",
   "execution_count": null,
   "metadata": {},
   "outputs": [],
   "source": []
  },
  {
   "cell_type": "code",
   "execution_count": null,
   "metadata": {},
   "outputs": [],
   "source": []
  },
  {
   "cell_type": "code",
   "execution_count": null,
   "metadata": {},
   "outputs": [],
   "source": []
  },
  {
   "cell_type": "code",
   "execution_count": null,
   "metadata": {},
   "outputs": [],
   "source": []
  },
  {
   "cell_type": "code",
   "execution_count": null,
   "metadata": {},
   "outputs": [],
   "source": []
  },
  {
   "cell_type": "code",
   "execution_count": null,
   "metadata": {},
   "outputs": [],
   "source": []
  },
  {
   "cell_type": "code",
   "execution_count": null,
   "metadata": {},
   "outputs": [],
   "source": []
  },
  {
   "cell_type": "code",
   "execution_count": null,
   "metadata": {},
   "outputs": [],
   "source": []
  },
  {
   "cell_type": "code",
   "execution_count": null,
   "metadata": {},
   "outputs": [],
   "source": []
  },
  {
   "cell_type": "code",
   "execution_count": null,
   "metadata": {},
   "outputs": [],
   "source": []
  }
 ],
 "metadata": {
  "kernelspec": {
   "display_name": "Python 3",
   "language": "python",
   "name": "python3"
  },
  "language_info": {
   "codemirror_mode": {
    "name": "ipython",
    "version": 3
   },
   "file_extension": ".py",
   "mimetype": "text/x-python",
   "name": "python",
   "nbconvert_exporter": "python",
   "pygments_lexer": "ipython3",
   "version": "3.8.5"
  }
 },
 "nbformat": 4,
 "nbformat_minor": 4
}

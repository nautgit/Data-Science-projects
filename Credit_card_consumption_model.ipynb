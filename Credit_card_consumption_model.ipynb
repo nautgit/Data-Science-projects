{
 "cells": [
  {
   "cell_type": "code",
   "execution_count": 2,
   "metadata": {},
   "outputs": [],
   "source": [
    "import pandas as pd\n",
    "import numpy as np\n",
    "import matplotlib.pyplot as plt\n",
    "import datetime as dt\n",
    "import seaborn as sns\n",
    "import re\n",
    "\n",
    "# set the graphs to show in the jupyter notebook\n",
    "%matplotlib inline\n",
    "\n",
    "# set seabor graphs to a better style\n",
    "sns.set(style=\"ticks\")"
   ]
  },
  {
   "cell_type": "code",
   "execution_count": 3,
   "metadata": {},
   "outputs": [],
   "source": [
    "cc_data = pd.read_excel('D:\\python\\credit_card_consumption_CS\\CreditConsumptionData.xlsx')"
   ]
  },
  {
   "cell_type": "code",
   "execution_count": 4,
   "metadata": {},
   "outputs": [],
   "source": [
    "cust_beh = pd.read_excel('D:\\python\\credit_card_consumption_CS\\CustomerBehaviorData.xlsx')"
   ]
  },
  {
   "cell_type": "code",
   "execution_count": 5,
   "metadata": {},
   "outputs": [],
   "source": [
    "cust_demo = pd.read_excel('D:/python/credit_card_consumption_CS/CustomerDemographics.xlsx')"
   ]
  },
  {
   "cell_type": "code",
   "execution_count": 6,
   "metadata": {},
   "outputs": [
    {
     "data": {
      "text/plain": [
       "(20000, 39)"
      ]
     },
     "execution_count": 6,
     "metadata": {},
     "output_type": "execute_result"
    }
   ],
   "source": [
    "cust_beh.shape"
   ]
  },
  {
   "cell_type": "code",
   "execution_count": 7,
   "metadata": {},
   "outputs": [],
   "source": [
    "c_2 = pd.merge(left=cust_beh , right=cust_demo , how='left' , right_on='ID' , left_on='ID')"
   ]
  },
  {
   "cell_type": "code",
   "execution_count": 8,
   "metadata": {},
   "outputs": [],
   "source": [
    "cc_bD = pd.merge(left=c_2 , right=cc_data , how='left' , right_on='ID' , left_on='ID')"
   ]
  },
  {
   "cell_type": "code",
   "execution_count": 9,
   "metadata": {},
   "outputs": [
    {
     "data": {
      "text/plain": [
       "(20000, 49)"
      ]
     },
     "execution_count": 9,
     "metadata": {},
     "output_type": "execute_result"
    }
   ],
   "source": [
    "cc_bD.shape"
   ]
  },
  {
   "cell_type": "markdown",
   "metadata": {},
   "source": [
    "# PRE MODELING"
   ]
  },
  {
   "cell_type": "code",
   "execution_count": 10,
   "metadata": {},
   "outputs": [
    {
     "data": {
      "text/html": [
       "<div>\n",
       "<style scoped>\n",
       "    .dataframe tbody tr th:only-of-type {\n",
       "        vertical-align: middle;\n",
       "    }\n",
       "\n",
       "    .dataframe tbody tr th {\n",
       "        vertical-align: top;\n",
       "    }\n",
       "\n",
       "    .dataframe thead th {\n",
       "        text-align: right;\n",
       "    }\n",
       "</style>\n",
       "<table border=\"1\" class=\"dataframe\">\n",
       "  <thead>\n",
       "    <tr style=\"text-align: right;\">\n",
       "      <th></th>\n",
       "      <th>ID</th>\n",
       "      <th>cc_cons_apr</th>\n",
       "      <th>dc_cons_apr</th>\n",
       "      <th>cc_cons_may</th>\n",
       "      <th>dc_cons_may</th>\n",
       "      <th>cc_cons_jun</th>\n",
       "      <th>dc_cons_jun</th>\n",
       "      <th>cc_count_apr</th>\n",
       "      <th>cc_count_may</th>\n",
       "      <th>cc_count_jun</th>\n",
       "      <th>...</th>\n",
       "      <th>account_type</th>\n",
       "      <th>gender</th>\n",
       "      <th>age</th>\n",
       "      <th>Income</th>\n",
       "      <th>Emp_Tenure_Years</th>\n",
       "      <th>Tenure_with_Bank</th>\n",
       "      <th>region_code</th>\n",
       "      <th>NetBanking_Flag</th>\n",
       "      <th>Avg_days_between_transaction</th>\n",
       "      <th>cc_cons</th>\n",
       "    </tr>\n",
       "  </thead>\n",
       "  <tbody>\n",
       "    <tr>\n",
       "      <th>0</th>\n",
       "      <td>17051</td>\n",
       "      <td>3412.60</td>\n",
       "      <td>2909.34</td>\n",
       "      <td>1077.36</td>\n",
       "      <td>3084.50</td>\n",
       "      <td>4615.97</td>\n",
       "      <td>6693.0</td>\n",
       "      <td>19.0</td>\n",
       "      <td>10</td>\n",
       "      <td>2</td>\n",
       "      <td>...</td>\n",
       "      <td>current</td>\n",
       "      <td>M</td>\n",
       "      <td>30</td>\n",
       "      <td>MEDIUM</td>\n",
       "      <td>7.0</td>\n",
       "      <td>5</td>\n",
       "      <td>956.0</td>\n",
       "      <td>1</td>\n",
       "      <td>20.0</td>\n",
       "      <td>13434.0</td>\n",
       "    </tr>\n",
       "    <tr>\n",
       "      <th>1</th>\n",
       "      <td>11491</td>\n",
       "      <td>18133.76</td>\n",
       "      <td>3877.00</td>\n",
       "      <td>6123.78</td>\n",
       "      <td>5597.43</td>\n",
       "      <td>64620.00</td>\n",
       "      <td>6117.0</td>\n",
       "      <td>4.0</td>\n",
       "      <td>60</td>\n",
       "      <td>1</td>\n",
       "      <td>...</td>\n",
       "      <td>current</td>\n",
       "      <td>M</td>\n",
       "      <td>37</td>\n",
       "      <td>LOW</td>\n",
       "      <td>10.2</td>\n",
       "      <td>8</td>\n",
       "      <td>966.0</td>\n",
       "      <td>1</td>\n",
       "      <td>5.0</td>\n",
       "      <td>449.0</td>\n",
       "    </tr>\n",
       "    <tr>\n",
       "      <th>2</th>\n",
       "      <td>7433</td>\n",
       "      <td>6363.65</td>\n",
       "      <td>735.49</td>\n",
       "      <td>8799.00</td>\n",
       "      <td>13768.00</td>\n",
       "      <td>38266.00</td>\n",
       "      <td>2638.0</td>\n",
       "      <td>2.0</td>\n",
       "      <td>83</td>\n",
       "      <td>47</td>\n",
       "      <td>...</td>\n",
       "      <td>current</td>\n",
       "      <td>M</td>\n",
       "      <td>33</td>\n",
       "      <td>MEDIUM</td>\n",
       "      <td>3.9</td>\n",
       "      <td>3</td>\n",
       "      <td>505.0</td>\n",
       "      <td>1</td>\n",
       "      <td>15.0</td>\n",
       "      <td>11968.0</td>\n",
       "    </tr>\n",
       "    <tr>\n",
       "      <th>3</th>\n",
       "      <td>14606</td>\n",
       "      <td>12765.66</td>\n",
       "      <td>4429.16</td>\n",
       "      <td>16745.86</td>\n",
       "      <td>6360.00</td>\n",
       "      <td>29063.97</td>\n",
       "      <td>3711.0</td>\n",
       "      <td>12.0</td>\n",
       "      <td>2</td>\n",
       "      <td>16</td>\n",
       "      <td>...</td>\n",
       "      <td>current</td>\n",
       "      <td>M</td>\n",
       "      <td>63</td>\n",
       "      <td>LOW</td>\n",
       "      <td>25.8</td>\n",
       "      <td>6</td>\n",
       "      <td>631.0</td>\n",
       "      <td>0</td>\n",
       "      <td>15.0</td>\n",
       "      <td>32029.0</td>\n",
       "    </tr>\n",
       "    <tr>\n",
       "      <th>4</th>\n",
       "      <td>8381</td>\n",
       "      <td>27819.70</td>\n",
       "      <td>1944.00</td>\n",
       "      <td>7006.50</td>\n",
       "      <td>2228.50</td>\n",
       "      <td>1096.25</td>\n",
       "      <td>1065.0</td>\n",
       "      <td>15.0</td>\n",
       "      <td>13</td>\n",
       "      <td>61</td>\n",
       "      <td>...</td>\n",
       "      <td>saving</td>\n",
       "      <td>M</td>\n",
       "      <td>33</td>\n",
       "      <td>MEDIUM</td>\n",
       "      <td>6.5</td>\n",
       "      <td>7</td>\n",
       "      <td>698.0</td>\n",
       "      <td>0</td>\n",
       "      <td>9.0</td>\n",
       "      <td>16394.0</td>\n",
       "    </tr>\n",
       "  </tbody>\n",
       "</table>\n",
       "<p>5 rows × 49 columns</p>\n",
       "</div>"
      ],
      "text/plain": [
       "      ID  cc_cons_apr  dc_cons_apr  cc_cons_may  dc_cons_may  cc_cons_jun  \\\n",
       "0  17051      3412.60      2909.34      1077.36      3084.50      4615.97   \n",
       "1  11491     18133.76      3877.00      6123.78      5597.43     64620.00   \n",
       "2   7433      6363.65       735.49      8799.00     13768.00     38266.00   \n",
       "3  14606     12765.66      4429.16     16745.86      6360.00     29063.97   \n",
       "4   8381     27819.70      1944.00      7006.50      2228.50      1096.25   \n",
       "\n",
       "   dc_cons_jun  cc_count_apr  cc_count_may  cc_count_jun  ...  account_type  \\\n",
       "0       6693.0          19.0            10             2  ...       current   \n",
       "1       6117.0           4.0            60             1  ...       current   \n",
       "2       2638.0           2.0            83            47  ...       current   \n",
       "3       3711.0          12.0             2            16  ...       current   \n",
       "4       1065.0          15.0            13            61  ...        saving   \n",
       "\n",
       "   gender  age  Income  Emp_Tenure_Years  Tenure_with_Bank  region_code  \\\n",
       "0       M   30  MEDIUM               7.0                 5        956.0   \n",
       "1       M   37     LOW              10.2                 8        966.0   \n",
       "2       M   33  MEDIUM               3.9                 3        505.0   \n",
       "3       M   63     LOW              25.8                 6        631.0   \n",
       "4       M   33  MEDIUM               6.5                 7        698.0   \n",
       "\n",
       "   NetBanking_Flag  Avg_days_between_transaction  cc_cons  \n",
       "0                1                          20.0  13434.0  \n",
       "1                1                           5.0    449.0  \n",
       "2                1                          15.0  11968.0  \n",
       "3                0                          15.0  32029.0  \n",
       "4                0                           9.0  16394.0  \n",
       "\n",
       "[5 rows x 49 columns]"
      ]
     },
     "execution_count": 10,
     "metadata": {},
     "output_type": "execute_result"
    }
   ],
   "source": [
    "cc_bD.head()"
   ]
  },
  {
   "cell_type": "code",
   "execution_count": 11,
   "metadata": {},
   "outputs": [
    {
     "data": {
      "text/plain": [
       "0"
      ]
     },
     "execution_count": 11,
     "metadata": {},
     "output_type": "execute_result"
    }
   ],
   "source": [
    "cc_bD.duplicated().sum()"
   ]
  },
  {
   "cell_type": "code",
   "execution_count": 12,
   "metadata": {},
   "outputs": [
    {
     "data": {
      "text/plain": [
       "0"
      ]
     },
     "execution_count": 12,
     "metadata": {},
     "output_type": "execute_result"
    }
   ],
   "source": [
    "cc_bD.ID.duplicated().sum()"
   ]
  },
  {
   "cell_type": "code",
   "execution_count": 13,
   "metadata": {},
   "outputs": [
    {
     "data": {
      "text/plain": [
       "current    16925\n",
       "saving      3074\n",
       "Name: account_type, dtype: int64"
      ]
     },
     "execution_count": 13,
     "metadata": {},
     "output_type": "execute_result"
    }
   ],
   "source": [
    "cc_bD.account_type.value_counts()"
   ]
  },
  {
   "cell_type": "code",
   "execution_count": 14,
   "metadata": {},
   "outputs": [
    {
     "data": {
      "text/html": [
       "<div>\n",
       "<style scoped>\n",
       "    .dataframe tbody tr th:only-of-type {\n",
       "        vertical-align: middle;\n",
       "    }\n",
       "\n",
       "    .dataframe tbody tr th {\n",
       "        vertical-align: top;\n",
       "    }\n",
       "\n",
       "    .dataframe thead th {\n",
       "        text-align: right;\n",
       "    }\n",
       "</style>\n",
       "<table border=\"1\" class=\"dataframe\">\n",
       "  <thead>\n",
       "    <tr style=\"text-align: right;\">\n",
       "      <th></th>\n",
       "      <th>ID</th>\n",
       "      <th>cc_cons_apr</th>\n",
       "      <th>dc_cons_apr</th>\n",
       "      <th>cc_cons_may</th>\n",
       "      <th>dc_cons_may</th>\n",
       "      <th>cc_cons_jun</th>\n",
       "      <th>dc_cons_jun</th>\n",
       "      <th>cc_count_apr</th>\n",
       "      <th>cc_count_may</th>\n",
       "      <th>cc_count_jun</th>\n",
       "      <th>...</th>\n",
       "      <th>account_type</th>\n",
       "      <th>gender</th>\n",
       "      <th>age</th>\n",
       "      <th>Income</th>\n",
       "      <th>Emp_Tenure_Years</th>\n",
       "      <th>Tenure_with_Bank</th>\n",
       "      <th>region_code</th>\n",
       "      <th>NetBanking_Flag</th>\n",
       "      <th>Avg_days_between_transaction</th>\n",
       "      <th>cc_cons</th>\n",
       "    </tr>\n",
       "  </thead>\n",
       "  <tbody>\n",
       "    <tr>\n",
       "      <th>0</th>\n",
       "      <td>17051</td>\n",
       "      <td>3412.60</td>\n",
       "      <td>2909.34</td>\n",
       "      <td>1077.36</td>\n",
       "      <td>3084.50</td>\n",
       "      <td>4615.97</td>\n",
       "      <td>6693.0</td>\n",
       "      <td>19.0</td>\n",
       "      <td>10</td>\n",
       "      <td>2</td>\n",
       "      <td>...</td>\n",
       "      <td>current</td>\n",
       "      <td>M</td>\n",
       "      <td>30</td>\n",
       "      <td>MEDIUM</td>\n",
       "      <td>7.0</td>\n",
       "      <td>5</td>\n",
       "      <td>956.0</td>\n",
       "      <td>1</td>\n",
       "      <td>20.0</td>\n",
       "      <td>13434.0</td>\n",
       "    </tr>\n",
       "    <tr>\n",
       "      <th>1</th>\n",
       "      <td>11491</td>\n",
       "      <td>18133.76</td>\n",
       "      <td>3877.00</td>\n",
       "      <td>6123.78</td>\n",
       "      <td>5597.43</td>\n",
       "      <td>64620.00</td>\n",
       "      <td>6117.0</td>\n",
       "      <td>4.0</td>\n",
       "      <td>60</td>\n",
       "      <td>1</td>\n",
       "      <td>...</td>\n",
       "      <td>current</td>\n",
       "      <td>M</td>\n",
       "      <td>37</td>\n",
       "      <td>LOW</td>\n",
       "      <td>10.2</td>\n",
       "      <td>8</td>\n",
       "      <td>966.0</td>\n",
       "      <td>1</td>\n",
       "      <td>5.0</td>\n",
       "      <td>449.0</td>\n",
       "    </tr>\n",
       "    <tr>\n",
       "      <th>2</th>\n",
       "      <td>7433</td>\n",
       "      <td>6363.65</td>\n",
       "      <td>735.49</td>\n",
       "      <td>8799.00</td>\n",
       "      <td>13768.00</td>\n",
       "      <td>38266.00</td>\n",
       "      <td>2638.0</td>\n",
       "      <td>2.0</td>\n",
       "      <td>83</td>\n",
       "      <td>47</td>\n",
       "      <td>...</td>\n",
       "      <td>current</td>\n",
       "      <td>M</td>\n",
       "      <td>33</td>\n",
       "      <td>MEDIUM</td>\n",
       "      <td>3.9</td>\n",
       "      <td>3</td>\n",
       "      <td>505.0</td>\n",
       "      <td>1</td>\n",
       "      <td>15.0</td>\n",
       "      <td>11968.0</td>\n",
       "    </tr>\n",
       "    <tr>\n",
       "      <th>3</th>\n",
       "      <td>14606</td>\n",
       "      <td>12765.66</td>\n",
       "      <td>4429.16</td>\n",
       "      <td>16745.86</td>\n",
       "      <td>6360.00</td>\n",
       "      <td>29063.97</td>\n",
       "      <td>3711.0</td>\n",
       "      <td>12.0</td>\n",
       "      <td>2</td>\n",
       "      <td>16</td>\n",
       "      <td>...</td>\n",
       "      <td>current</td>\n",
       "      <td>M</td>\n",
       "      <td>63</td>\n",
       "      <td>LOW</td>\n",
       "      <td>25.8</td>\n",
       "      <td>6</td>\n",
       "      <td>631.0</td>\n",
       "      <td>0</td>\n",
       "      <td>15.0</td>\n",
       "      <td>32029.0</td>\n",
       "    </tr>\n",
       "    <tr>\n",
       "      <th>4</th>\n",
       "      <td>8381</td>\n",
       "      <td>27819.70</td>\n",
       "      <td>1944.00</td>\n",
       "      <td>7006.50</td>\n",
       "      <td>2228.50</td>\n",
       "      <td>1096.25</td>\n",
       "      <td>1065.0</td>\n",
       "      <td>15.0</td>\n",
       "      <td>13</td>\n",
       "      <td>61</td>\n",
       "      <td>...</td>\n",
       "      <td>saving</td>\n",
       "      <td>M</td>\n",
       "      <td>33</td>\n",
       "      <td>MEDIUM</td>\n",
       "      <td>6.5</td>\n",
       "      <td>7</td>\n",
       "      <td>698.0</td>\n",
       "      <td>0</td>\n",
       "      <td>9.0</td>\n",
       "      <td>16394.0</td>\n",
       "    </tr>\n",
       "  </tbody>\n",
       "</table>\n",
       "<p>5 rows × 49 columns</p>\n",
       "</div>"
      ],
      "text/plain": [
       "      ID  cc_cons_apr  dc_cons_apr  cc_cons_may  dc_cons_may  cc_cons_jun  \\\n",
       "0  17051      3412.60      2909.34      1077.36      3084.50      4615.97   \n",
       "1  11491     18133.76      3877.00      6123.78      5597.43     64620.00   \n",
       "2   7433      6363.65       735.49      8799.00     13768.00     38266.00   \n",
       "3  14606     12765.66      4429.16     16745.86      6360.00     29063.97   \n",
       "4   8381     27819.70      1944.00      7006.50      2228.50      1096.25   \n",
       "\n",
       "   dc_cons_jun  cc_count_apr  cc_count_may  cc_count_jun  ...  account_type  \\\n",
       "0       6693.0          19.0            10             2  ...       current   \n",
       "1       6117.0           4.0            60             1  ...       current   \n",
       "2       2638.0           2.0            83            47  ...       current   \n",
       "3       3711.0          12.0             2            16  ...       current   \n",
       "4       1065.0          15.0            13            61  ...        saving   \n",
       "\n",
       "   gender  age  Income  Emp_Tenure_Years  Tenure_with_Bank  region_code  \\\n",
       "0       M   30  MEDIUM               7.0                 5        956.0   \n",
       "1       M   37     LOW              10.2                 8        966.0   \n",
       "2       M   33  MEDIUM               3.9                 3        505.0   \n",
       "3       M   63     LOW              25.8                 6        631.0   \n",
       "4       M   33  MEDIUM               6.5                 7        698.0   \n",
       "\n",
       "   NetBanking_Flag  Avg_days_between_transaction  cc_cons  \n",
       "0                1                          20.0  13434.0  \n",
       "1                1                           5.0    449.0  \n",
       "2                1                          15.0  11968.0  \n",
       "3                0                          15.0  32029.0  \n",
       "4                0                           9.0  16394.0  \n",
       "\n",
       "[5 rows x 49 columns]"
      ]
     },
     "execution_count": 14,
     "metadata": {},
     "output_type": "execute_result"
    }
   ],
   "source": [
    "cc_bD.head()"
   ]
  },
  {
   "cell_type": "code",
   "execution_count": 23,
   "metadata": {},
   "outputs": [
    {
     "data": {
      "text/plain": [
       "ID                                int64\n",
       "cc_cons_apr                     float64\n",
       "dc_cons_apr                     float64\n",
       "cc_cons_may                     float64\n",
       "dc_cons_may                     float64\n",
       "cc_cons_jun                     float64\n",
       "dc_cons_jun                     float64\n",
       "cc_count_apr                    float64\n",
       "cc_count_may                      int64\n",
       "cc_count_jun                      int64\n",
       "dc_count_apr                      int64\n",
       "dc_count_may                      int64\n",
       "dc_count_jun                      int64\n",
       "card_lim                          int64\n",
       "personal_loan_active             object\n",
       "vehicle_loan_active              object\n",
       "personal_loan_closed             object\n",
       "vehicle_loan_closed              object\n",
       "investment_1                    float64\n",
       "investment_2                    float64\n",
       "investment_3                    float64\n",
       "investment_4                    float64\n",
       "debit_amount_apr                float64\n",
       "credit_amount_apr               float64\n",
       "debit_count_apr                 float64\n",
       "credit_count_apr                  int64\n",
       "max_credit_amount_apr           float64\n",
       "debit_amount_may                float64\n",
       "credit_amount_may               float64\n",
       "credit_count_may                  int64\n",
       "debit_count_may                   int64\n",
       "max_credit_amount_may           float64\n",
       "debit_amount_jun                float64\n",
       "credit_amount_jun               float64\n",
       "credit_count_jun                  int64\n",
       "debit_count_jun                   int64\n",
       "max_credit_amount_jun           float64\n",
       "loan_enq                         object\n",
       "emi_active                      float64\n",
       "account_type                     object\n",
       "gender                           object\n",
       "age                               int64\n",
       "Income                           object\n",
       "Emp_Tenure_Years                float64\n",
       "Tenure_with_Bank                  int64\n",
       "region_code                     float64\n",
       "NetBanking_Flag                  object\n",
       "Avg_days_between_transaction    float64\n",
       "cc_cons                         float64\n",
       "dtype: object"
      ]
     },
     "execution_count": 23,
     "metadata": {},
     "output_type": "execute_result"
    }
   ],
   "source": [
    "cc_bD.dtypes"
   ]
  },
  {
   "cell_type": "markdown",
   "metadata": {},
   "source": [
    "# MODELING"
   ]
  },
  {
   "cell_type": "markdown",
   "metadata": {},
   "source": [
    "### Data Preparation Level I"
   ]
  },
  {
   "cell_type": "markdown",
   "metadata": {},
   "source": [
    "##### Type Casting"
   ]
  },
  {
   "cell_type": "code",
   "execution_count": 16,
   "metadata": {},
   "outputs": [],
   "source": [
    "cc_bD.personal_loan_active = cc_bD.personal_loan_active.astype('object')"
   ]
  },
  {
   "cell_type": "code",
   "execution_count": 17,
   "metadata": {},
   "outputs": [],
   "source": [
    "cc_bD.personal_loan_closed = cc_bD.personal_loan_closed.astype('object')"
   ]
  },
  {
   "cell_type": "code",
   "execution_count": 18,
   "metadata": {},
   "outputs": [],
   "source": [
    "cc_bD.vehicle_loan_active = cc_bD.vehicle_loan_active.astype('object')"
   ]
  },
  {
   "cell_type": "code",
   "execution_count": 19,
   "metadata": {},
   "outputs": [],
   "source": [
    "cc_bD.vehicle_loan_closed = cc_bD.vehicle_loan_closed.astype('object')"
   ]
  },
  {
   "cell_type": "code",
   "execution_count": 22,
   "metadata": {},
   "outputs": [],
   "source": [
    "cc_bD.NetBanking_Flag = cc_bD.NetBanking_Flag.astype('object')"
   ]
  },
  {
   "cell_type": "markdown",
   "metadata": {},
   "source": [
    "##### Pandas Profiling"
   ]
  },
  {
   "cell_type": "code",
   "execution_count": null,
   "metadata": {},
   "outputs": [],
   "source": [
    "# ! pip install pandas_profiling"
   ]
  },
  {
   "cell_type": "code",
   "execution_count": null,
   "metadata": {},
   "outputs": [],
   "source": [
    "cc_bD.NetBanking_Flag = cc_bD.NetBanking_Flag.astype('object')"
   ]
  },
  {
   "cell_type": "code",
   "execution_count": null,
   "metadata": {},
   "outputs": [],
   "source": [
    "import pandas_profiling"
   ]
  },
  {
   "cell_type": "code",
   "execution_count": null,
   "metadata": {},
   "outputs": [],
   "source": [
    "profile_report = pandas_profiling.ProfileReport(cc_bD)"
   ]
  },
  {
   "cell_type": "code",
   "execution_count": null,
   "metadata": {},
   "outputs": [],
   "source": [
    "profile_report.to_file('profile_report.html')"
   ]
  },
  {
   "cell_type": "markdown",
   "metadata": {},
   "source": [
    "##### Missing Value Treatment "
   ]
  },
  {
   "cell_type": "markdown",
   "metadata": {},
   "source": [
    "- Y variable"
   ]
  },
  {
   "cell_type": "code",
   "execution_count": 25,
   "metadata": {},
   "outputs": [
    {
     "data": {
      "text/plain": [
       "5000"
      ]
     },
     "execution_count": 25,
     "metadata": {},
     "output_type": "execute_result"
    }
   ],
   "source": [
    "cc_bD.cc_cons.isna().sum()"
   ]
  },
  {
   "cell_type": "code",
   "execution_count": null,
   "metadata": {},
   "outputs": [],
   "source": []
  },
  {
   "cell_type": "code",
   "execution_count": null,
   "metadata": {},
   "outputs": [],
   "source": []
  },
  {
   "cell_type": "code",
   "execution_count": null,
   "metadata": {},
   "outputs": [],
   "source": []
  },
  {
   "cell_type": "code",
   "execution_count": null,
   "metadata": {},
   "outputs": [],
   "source": []
  },
  {
   "cell_type": "code",
   "execution_count": null,
   "metadata": {},
   "outputs": [],
   "source": []
  },
  {
   "cell_type": "code",
   "execution_count": null,
   "metadata": {},
   "outputs": [],
   "source": []
  },
  {
   "cell_type": "code",
   "execution_count": null,
   "metadata": {},
   "outputs": [],
   "source": []
  },
  {
   "cell_type": "code",
   "execution_count": null,
   "metadata": {},
   "outputs": [],
   "source": []
  },
  {
   "cell_type": "code",
   "execution_count": null,
   "metadata": {},
   "outputs": [],
   "source": []
  },
  {
   "cell_type": "code",
   "execution_count": null,
   "metadata": {},
   "outputs": [],
   "source": []
  },
  {
   "cell_type": "code",
   "execution_count": null,
   "metadata": {},
   "outputs": [],
   "source": []
  },
  {
   "cell_type": "code",
   "execution_count": null,
   "metadata": {},
   "outputs": [],
   "source": []
  },
  {
   "cell_type": "code",
   "execution_count": null,
   "metadata": {},
   "outputs": [],
   "source": []
  },
  {
   "cell_type": "code",
   "execution_count": null,
   "metadata": {},
   "outputs": [],
   "source": []
  },
  {
   "cell_type": "code",
   "execution_count": null,
   "metadata": {},
   "outputs": [],
   "source": []
  },
  {
   "cell_type": "code",
   "execution_count": null,
   "metadata": {},
   "outputs": [],
   "source": []
  },
  {
   "cell_type": "code",
   "execution_count": null,
   "metadata": {},
   "outputs": [],
   "source": []
  },
  {
   "cell_type": "code",
   "execution_count": null,
   "metadata": {},
   "outputs": [],
   "source": []
  },
  {
   "cell_type": "code",
   "execution_count": null,
   "metadata": {},
   "outputs": [],
   "source": []
  },
  {
   "cell_type": "code",
   "execution_count": null,
   "metadata": {},
   "outputs": [],
   "source": []
  },
  {
   "cell_type": "code",
   "execution_count": null,
   "metadata": {},
   "outputs": [],
   "source": []
  },
  {
   "cell_type": "code",
   "execution_count": null,
   "metadata": {},
   "outputs": [],
   "source": []
  },
  {
   "cell_type": "code",
   "execution_count": null,
   "metadata": {},
   "outputs": [],
   "source": []
  },
  {
   "cell_type": "code",
   "execution_count": null,
   "metadata": {},
   "outputs": [],
   "source": []
  },
  {
   "cell_type": "code",
   "execution_count": null,
   "metadata": {},
   "outputs": [],
   "source": []
  },
  {
   "cell_type": "code",
   "execution_count": null,
   "metadata": {},
   "outputs": [],
   "source": []
  },
  {
   "cell_type": "code",
   "execution_count": null,
   "metadata": {},
   "outputs": [],
   "source": []
  },
  {
   "cell_type": "code",
   "execution_count": null,
   "metadata": {},
   "outputs": [],
   "source": []
  },
  {
   "cell_type": "code",
   "execution_count": null,
   "metadata": {},
   "outputs": [],
   "source": []
  },
  {
   "cell_type": "code",
   "execution_count": null,
   "metadata": {},
   "outputs": [],
   "source": []
  },
  {
   "cell_type": "code",
   "execution_count": null,
   "metadata": {},
   "outputs": [],
   "source": []
  },
  {
   "cell_type": "code",
   "execution_count": null,
   "metadata": {},
   "outputs": [],
   "source": []
  },
  {
   "cell_type": "code",
   "execution_count": null,
   "metadata": {},
   "outputs": [],
   "source": []
  },
  {
   "cell_type": "code",
   "execution_count": null,
   "metadata": {},
   "outputs": [],
   "source": []
  },
  {
   "cell_type": "code",
   "execution_count": null,
   "metadata": {},
   "outputs": [],
   "source": []
  },
  {
   "cell_type": "code",
   "execution_count": null,
   "metadata": {},
   "outputs": [],
   "source": []
  },
  {
   "cell_type": "code",
   "execution_count": null,
   "metadata": {},
   "outputs": [],
   "source": []
  },
  {
   "cell_type": "code",
   "execution_count": null,
   "metadata": {},
   "outputs": [],
   "source": []
  },
  {
   "cell_type": "code",
   "execution_count": null,
   "metadata": {},
   "outputs": [],
   "source": []
  },
  {
   "cell_type": "code",
   "execution_count": null,
   "metadata": {},
   "outputs": [],
   "source": []
  },
  {
   "cell_type": "code",
   "execution_count": null,
   "metadata": {},
   "outputs": [],
   "source": []
  }
 ],
 "metadata": {
  "kernelspec": {
   "display_name": "Python 3",
   "language": "python",
   "name": "python3"
  },
  "language_info": {
   "codemirror_mode": {
    "name": "ipython",
    "version": 3
   },
   "file_extension": ".py",
   "mimetype": "text/x-python",
   "name": "python",
   "nbconvert_exporter": "python",
   "pygments_lexer": "ipython3",
   "version": "3.8.5"
  }
 },
 "nbformat": 4,
 "nbformat_minor": 4
}
